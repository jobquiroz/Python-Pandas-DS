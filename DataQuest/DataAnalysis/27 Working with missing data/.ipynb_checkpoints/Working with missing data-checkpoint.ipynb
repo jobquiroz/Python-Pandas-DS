{
 "cells": [
  {
   "cell_type": "markdown",
   "metadata": {},
   "source": [
    "## Introduction\n",
    "\n",
    "In this mission, we'll learn how to handle missing data without having to drop rows and columns using data on motor vehicle collisions released by New York City and published on the NYC OpenData website. There is data on over 1.5 million collisions dating back to 2012, with additional data continuously added.\n",
    "\n",
    "We'll work with an extract of the full data: **Crashes from the year 2018**. We made several modifications to the data for teaching purposes, including randomly sampling the data to reduce its size. You can download the data set from this mission by using the data set preview tool at the top of the \"script.py\" codebox on the right.\n",
    "\n",
    "Our data set is in a CSV called nypd_mvc_2018.csv. We can read our data into a pandas dataframe and inspect the first few rows of the data:"
   ]
  },
  {
   "cell_type": "code",
   "execution_count": 85,
   "metadata": {},
   "outputs": [
    {
     "data": {
      "text/html": [
       "<div>\n",
       "<style scoped>\n",
       "    .dataframe tbody tr th:only-of-type {\n",
       "        vertical-align: middle;\n",
       "    }\n",
       "\n",
       "    .dataframe tbody tr th {\n",
       "        vertical-align: top;\n",
       "    }\n",
       "\n",
       "    .dataframe thead th {\n",
       "        text-align: right;\n",
       "    }\n",
       "</style>\n",
       "<table border=\"1\" class=\"dataframe\">\n",
       "  <thead>\n",
       "    <tr style=\"text-align: right;\">\n",
       "      <th></th>\n",
       "      <th>unique_key</th>\n",
       "      <th>date</th>\n",
       "      <th>time</th>\n",
       "      <th>borough</th>\n",
       "      <th>location</th>\n",
       "      <th>on_street</th>\n",
       "      <th>cross_street</th>\n",
       "      <th>off_street</th>\n",
       "      <th>pedestrians_injured</th>\n",
       "      <th>cyclist_injured</th>\n",
       "      <th>...</th>\n",
       "      <th>vehicle_1</th>\n",
       "      <th>vehicle_2</th>\n",
       "      <th>vehicle_3</th>\n",
       "      <th>vehicle_4</th>\n",
       "      <th>vehicle_5</th>\n",
       "      <th>cause_vehicle_1</th>\n",
       "      <th>cause_vehicle_2</th>\n",
       "      <th>cause_vehicle_3</th>\n",
       "      <th>cause_vehicle_4</th>\n",
       "      <th>cause_vehicle_5</th>\n",
       "    </tr>\n",
       "  </thead>\n",
       "  <tbody>\n",
       "    <tr>\n",
       "      <th>0</th>\n",
       "      <td>3869058</td>\n",
       "      <td>2018-03-23</td>\n",
       "      <td>21:40</td>\n",
       "      <td>MANHATTAN</td>\n",
       "      <td>(40.742832, -74.00771)</td>\n",
       "      <td>WEST 15 STREET</td>\n",
       "      <td>10 AVENUE</td>\n",
       "      <td>NaN</td>\n",
       "      <td>0</td>\n",
       "      <td>0</td>\n",
       "      <td>...</td>\n",
       "      <td>PASSENGER VEHICLE</td>\n",
       "      <td>NaN</td>\n",
       "      <td>NaN</td>\n",
       "      <td>NaN</td>\n",
       "      <td>NaN</td>\n",
       "      <td>Following Too Closely</td>\n",
       "      <td>Unspecified</td>\n",
       "      <td>NaN</td>\n",
       "      <td>NaN</td>\n",
       "      <td>NaN</td>\n",
       "    </tr>\n",
       "    <tr>\n",
       "      <th>1</th>\n",
       "      <td>3847947</td>\n",
       "      <td>2018-02-13</td>\n",
       "      <td>14:45</td>\n",
       "      <td>BROOKLYN</td>\n",
       "      <td>(40.623714, -73.99314)</td>\n",
       "      <td>16 AVENUE</td>\n",
       "      <td>62 STREET</td>\n",
       "      <td>NaN</td>\n",
       "      <td>0</td>\n",
       "      <td>0</td>\n",
       "      <td>...</td>\n",
       "      <td>SPORT UTILITY / STATION WAGON</td>\n",
       "      <td>DS</td>\n",
       "      <td>NaN</td>\n",
       "      <td>NaN</td>\n",
       "      <td>NaN</td>\n",
       "      <td>Backing Unsafely</td>\n",
       "      <td>Unspecified</td>\n",
       "      <td>NaN</td>\n",
       "      <td>NaN</td>\n",
       "      <td>NaN</td>\n",
       "    </tr>\n",
       "    <tr>\n",
       "      <th>2</th>\n",
       "      <td>3914294</td>\n",
       "      <td>2018-06-04</td>\n",
       "      <td>0:00</td>\n",
       "      <td>NaN</td>\n",
       "      <td>(40.591755, -73.9083)</td>\n",
       "      <td>BELT PARKWAY</td>\n",
       "      <td>NaN</td>\n",
       "      <td>NaN</td>\n",
       "      <td>0</td>\n",
       "      <td>0</td>\n",
       "      <td>...</td>\n",
       "      <td>Station Wagon/Sport Utility Vehicle</td>\n",
       "      <td>Sedan</td>\n",
       "      <td>NaN</td>\n",
       "      <td>NaN</td>\n",
       "      <td>NaN</td>\n",
       "      <td>Following Too Closely</td>\n",
       "      <td>Unspecified</td>\n",
       "      <td>NaN</td>\n",
       "      <td>NaN</td>\n",
       "      <td>NaN</td>\n",
       "    </tr>\n",
       "    <tr>\n",
       "      <th>3</th>\n",
       "      <td>3915069</td>\n",
       "      <td>2018-06-05</td>\n",
       "      <td>6:36</td>\n",
       "      <td>QUEENS</td>\n",
       "      <td>(40.73602, -73.87954)</td>\n",
       "      <td>GRAND AVENUE</td>\n",
       "      <td>VANLOON STREET</td>\n",
       "      <td>NaN</td>\n",
       "      <td>0</td>\n",
       "      <td>0</td>\n",
       "      <td>...</td>\n",
       "      <td>Sedan</td>\n",
       "      <td>Sedan</td>\n",
       "      <td>NaN</td>\n",
       "      <td>NaN</td>\n",
       "      <td>NaN</td>\n",
       "      <td>Glare</td>\n",
       "      <td>Passing Too Closely</td>\n",
       "      <td>NaN</td>\n",
       "      <td>NaN</td>\n",
       "      <td>NaN</td>\n",
       "    </tr>\n",
       "    <tr>\n",
       "      <th>4</th>\n",
       "      <td>3923123</td>\n",
       "      <td>2018-06-16</td>\n",
       "      <td>15:45</td>\n",
       "      <td>BRONX</td>\n",
       "      <td>(40.884727, -73.89945)</td>\n",
       "      <td>NaN</td>\n",
       "      <td>NaN</td>\n",
       "      <td>208       WEST 238 STREET</td>\n",
       "      <td>0</td>\n",
       "      <td>0</td>\n",
       "      <td>...</td>\n",
       "      <td>Station Wagon/Sport Utility Vehicle</td>\n",
       "      <td>Sedan</td>\n",
       "      <td>NaN</td>\n",
       "      <td>NaN</td>\n",
       "      <td>NaN</td>\n",
       "      <td>Turning Improperly</td>\n",
       "      <td>Unspecified</td>\n",
       "      <td>NaN</td>\n",
       "      <td>NaN</td>\n",
       "      <td>NaN</td>\n",
       "    </tr>\n",
       "    <tr>\n",
       "      <th>...</th>\n",
       "      <td>...</td>\n",
       "      <td>...</td>\n",
       "      <td>...</td>\n",
       "      <td>...</td>\n",
       "      <td>...</td>\n",
       "      <td>...</td>\n",
       "      <td>...</td>\n",
       "      <td>...</td>\n",
       "      <td>...</td>\n",
       "      <td>...</td>\n",
       "      <td>...</td>\n",
       "      <td>...</td>\n",
       "      <td>...</td>\n",
       "      <td>...</td>\n",
       "      <td>...</td>\n",
       "      <td>...</td>\n",
       "      <td>...</td>\n",
       "      <td>...</td>\n",
       "      <td>...</td>\n",
       "      <td>...</td>\n",
       "      <td>...</td>\n",
       "    </tr>\n",
       "    <tr>\n",
       "      <th>57859</th>\n",
       "      <td>3835191</td>\n",
       "      <td>2018-01-26</td>\n",
       "      <td>14:51</td>\n",
       "      <td>BRONX</td>\n",
       "      <td>(40.85477, -73.90299)</td>\n",
       "      <td>CRESTON AVENUE</td>\n",
       "      <td>EAST 181 STREET</td>\n",
       "      <td>NaN</td>\n",
       "      <td>3</td>\n",
       "      <td>0</td>\n",
       "      <td>...</td>\n",
       "      <td>PASSENGER VEHICLE</td>\n",
       "      <td>NaN</td>\n",
       "      <td>NaN</td>\n",
       "      <td>NaN</td>\n",
       "      <td>NaN</td>\n",
       "      <td>Unspecified</td>\n",
       "      <td>NaN</td>\n",
       "      <td>NaN</td>\n",
       "      <td>NaN</td>\n",
       "      <td>NaN</td>\n",
       "    </tr>\n",
       "    <tr>\n",
       "      <th>57860</th>\n",
       "      <td>3890674</td>\n",
       "      <td>2018-04-29</td>\n",
       "      <td>18:30</td>\n",
       "      <td>QUEENS</td>\n",
       "      <td>(40.78419, -73.84582)</td>\n",
       "      <td>COLLEGE POINT BOULEVARD</td>\n",
       "      <td>15 AVENUE</td>\n",
       "      <td>NaN</td>\n",
       "      <td>0</td>\n",
       "      <td>0</td>\n",
       "      <td>...</td>\n",
       "      <td>PASSENGER VEHICLE</td>\n",
       "      <td>SPORT UTILITY / STATION WAGON</td>\n",
       "      <td>NaN</td>\n",
       "      <td>NaN</td>\n",
       "      <td>NaN</td>\n",
       "      <td>Backing Unsafely</td>\n",
       "      <td>Unspecified</td>\n",
       "      <td>NaN</td>\n",
       "      <td>NaN</td>\n",
       "      <td>NaN</td>\n",
       "    </tr>\n",
       "    <tr>\n",
       "      <th>57861</th>\n",
       "      <td>3946458</td>\n",
       "      <td>2018-07-21</td>\n",
       "      <td>16:45</td>\n",
       "      <td>NaN</td>\n",
       "      <td>(40.711926, -74.0061)</td>\n",
       "      <td>PARK ROW</td>\n",
       "      <td>NaN</td>\n",
       "      <td>NaN</td>\n",
       "      <td>0</td>\n",
       "      <td>0</td>\n",
       "      <td>...</td>\n",
       "      <td>Station Wagon/Sport Utility Vehicle</td>\n",
       "      <td>Sedan</td>\n",
       "      <td>NaN</td>\n",
       "      <td>NaN</td>\n",
       "      <td>NaN</td>\n",
       "      <td>Turning Improperly</td>\n",
       "      <td>Unspecified</td>\n",
       "      <td>NaN</td>\n",
       "      <td>NaN</td>\n",
       "      <td>NaN</td>\n",
       "    </tr>\n",
       "    <tr>\n",
       "      <th>57862</th>\n",
       "      <td>3914574</td>\n",
       "      <td>2018-06-04</td>\n",
       "      <td>5:45</td>\n",
       "      <td>NaN</td>\n",
       "      <td>(40.71976, -73.94476)</td>\n",
       "      <td>BROOKLYN QUEENS EXPRESSWAY</td>\n",
       "      <td>NaN</td>\n",
       "      <td>NaN</td>\n",
       "      <td>0</td>\n",
       "      <td>0</td>\n",
       "      <td>...</td>\n",
       "      <td>Sedan</td>\n",
       "      <td>Tractor Truck Diesel</td>\n",
       "      <td>Station Wagon/Sport Utility Vehicle</td>\n",
       "      <td>NaN</td>\n",
       "      <td>NaN</td>\n",
       "      <td>Other Vehicular</td>\n",
       "      <td>Unspecified</td>\n",
       "      <td>Unspecified</td>\n",
       "      <td>NaN</td>\n",
       "      <td>NaN</td>\n",
       "    </tr>\n",
       "    <tr>\n",
       "      <th>57863</th>\n",
       "      <td>4034882</td>\n",
       "      <td>2018-11-29</td>\n",
       "      <td>8:26</td>\n",
       "      <td>NaN</td>\n",
       "      <td>(40.69181, -73.988235)</td>\n",
       "      <td>FULTON STREET</td>\n",
       "      <td>NaN</td>\n",
       "      <td>NaN</td>\n",
       "      <td>0</td>\n",
       "      <td>0</td>\n",
       "      <td>...</td>\n",
       "      <td>Pick-up Truck</td>\n",
       "      <td>Station Wagon/Sport Utility Vehicle</td>\n",
       "      <td>NaN</td>\n",
       "      <td>NaN</td>\n",
       "      <td>NaN</td>\n",
       "      <td>Passing Too Closely</td>\n",
       "      <td>Passing Too Closely</td>\n",
       "      <td>NaN</td>\n",
       "      <td>NaN</td>\n",
       "      <td>NaN</td>\n",
       "    </tr>\n",
       "  </tbody>\n",
       "</table>\n",
       "<p>57864 rows × 26 columns</p>\n",
       "</div>"
      ],
      "text/plain": [
       "       unique_key        date   time    borough                location  \\\n",
       "0         3869058  2018-03-23  21:40  MANHATTAN  (40.742832, -74.00771)   \n",
       "1         3847947  2018-02-13  14:45   BROOKLYN  (40.623714, -73.99314)   \n",
       "2         3914294  2018-06-04   0:00        NaN   (40.591755, -73.9083)   \n",
       "3         3915069  2018-06-05   6:36     QUEENS   (40.73602, -73.87954)   \n",
       "4         3923123  2018-06-16  15:45      BRONX  (40.884727, -73.89945)   \n",
       "...           ...         ...    ...        ...                     ...   \n",
       "57859     3835191  2018-01-26  14:51      BRONX   (40.85477, -73.90299)   \n",
       "57860     3890674  2018-04-29  18:30     QUEENS   (40.78419, -73.84582)   \n",
       "57861     3946458  2018-07-21  16:45        NaN   (40.711926, -74.0061)   \n",
       "57862     3914574  2018-06-04   5:45        NaN   (40.71976, -73.94476)   \n",
       "57863     4034882  2018-11-29   8:26        NaN  (40.69181, -73.988235)   \n",
       "\n",
       "                              on_street     cross_street  \\\n",
       "0      WEST 15 STREET                          10 AVENUE   \n",
       "1      16 AVENUE                               62 STREET   \n",
       "2      BELT PARKWAY                                  NaN   \n",
       "3      GRAND AVENUE                       VANLOON STREET   \n",
       "4                                   NaN              NaN   \n",
       "...                                 ...              ...   \n",
       "57859  CRESTON AVENUE                    EAST 181 STREET   \n",
       "57860  COLLEGE POINT BOULEVARD                 15 AVENUE   \n",
       "57861  PARK ROW                                      NaN   \n",
       "57862  BROOKLYN QUEENS EXPRESSWAY                    NaN   \n",
       "57863  FULTON STREET                                 NaN   \n",
       "\n",
       "                                     off_street  pedestrians_injured  \\\n",
       "0                                           NaN                    0   \n",
       "1                                           NaN                    0   \n",
       "2                                           NaN                    0   \n",
       "3                                           NaN                    0   \n",
       "4      208       WEST 238 STREET                                   0   \n",
       "...                                         ...                  ...   \n",
       "57859                                       NaN                    3   \n",
       "57860                                       NaN                    0   \n",
       "57861                                       NaN                    0   \n",
       "57862                                       NaN                    0   \n",
       "57863                                       NaN                    0   \n",
       "\n",
       "       cyclist_injured  ...                            vehicle_1  \\\n",
       "0                    0  ...                    PASSENGER VEHICLE   \n",
       "1                    0  ...        SPORT UTILITY / STATION WAGON   \n",
       "2                    0  ...  Station Wagon/Sport Utility Vehicle   \n",
       "3                    0  ...                                Sedan   \n",
       "4                    0  ...  Station Wagon/Sport Utility Vehicle   \n",
       "...                ...  ...                                  ...   \n",
       "57859                0  ...                    PASSENGER VEHICLE   \n",
       "57860                0  ...                    PASSENGER VEHICLE   \n",
       "57861                0  ...  Station Wagon/Sport Utility Vehicle   \n",
       "57862                0  ...                                Sedan   \n",
       "57863                0  ...                        Pick-up Truck   \n",
       "\n",
       "                                 vehicle_2  \\\n",
       "0                                      NaN   \n",
       "1                                       DS   \n",
       "2                                    Sedan   \n",
       "3                                    Sedan   \n",
       "4                                    Sedan   \n",
       "...                                    ...   \n",
       "57859                                  NaN   \n",
       "57860        SPORT UTILITY / STATION WAGON   \n",
       "57861                                Sedan   \n",
       "57862                 Tractor Truck Diesel   \n",
       "57863  Station Wagon/Sport Utility Vehicle   \n",
       "\n",
       "                                 vehicle_3  vehicle_4  vehicle_5  \\\n",
       "0                                      NaN        NaN        NaN   \n",
       "1                                      NaN        NaN        NaN   \n",
       "2                                      NaN        NaN        NaN   \n",
       "3                                      NaN        NaN        NaN   \n",
       "4                                      NaN        NaN        NaN   \n",
       "...                                    ...        ...        ...   \n",
       "57859                                  NaN        NaN        NaN   \n",
       "57860                                  NaN        NaN        NaN   \n",
       "57861                                  NaN        NaN        NaN   \n",
       "57862  Station Wagon/Sport Utility Vehicle        NaN        NaN   \n",
       "57863                                  NaN        NaN        NaN   \n",
       "\n",
       "             cause_vehicle_1      cause_vehicle_2 cause_vehicle_3  \\\n",
       "0      Following Too Closely          Unspecified             NaN   \n",
       "1           Backing Unsafely          Unspecified             NaN   \n",
       "2      Following Too Closely          Unspecified             NaN   \n",
       "3                      Glare  Passing Too Closely             NaN   \n",
       "4         Turning Improperly          Unspecified             NaN   \n",
       "...                      ...                  ...             ...   \n",
       "57859            Unspecified                  NaN             NaN   \n",
       "57860       Backing Unsafely          Unspecified             NaN   \n",
       "57861     Turning Improperly          Unspecified             NaN   \n",
       "57862        Other Vehicular          Unspecified     Unspecified   \n",
       "57863    Passing Too Closely  Passing Too Closely             NaN   \n",
       "\n",
       "      cause_vehicle_4 cause_vehicle_5  \n",
       "0                 NaN             NaN  \n",
       "1                 NaN             NaN  \n",
       "2                 NaN             NaN  \n",
       "3                 NaN             NaN  \n",
       "4                 NaN             NaN  \n",
       "...               ...             ...  \n",
       "57859             NaN             NaN  \n",
       "57860             NaN             NaN  \n",
       "57861             NaN             NaN  \n",
       "57862             NaN             NaN  \n",
       "57863             NaN             NaN  \n",
       "\n",
       "[57864 rows x 26 columns]"
      ]
     },
     "execution_count": 85,
     "metadata": {},
     "output_type": "execute_result"
    }
   ],
   "source": [
    "import pandas as pd\n",
    "import numpy as np\n",
    "import matplotlib.pyplot as plt\n",
    "import seaborn as sns\n",
    "\n",
    "\n",
    "mvc = pd.read_csv(\"nypd_mvc_2018.csv\")\n",
    "mvc"
   ]
  },
  {
   "cell_type": "markdown",
   "metadata": {},
   "source": [
    "A summary of the columns and their data is below:\n",
    "\n",
    "- unique_key: A unique identifier for each collision.\n",
    "- date, time: Date and time of the collision.\n",
    "- borough: The borough, or area of New York City, where the collision occurred.\n",
    "- location: Latitude and longitude coordinates for the collision.\n",
    "- on_street, cross_street, off_street: Details of the street or intersection where the collision occurred.\n",
    "- pedestrians_injured: Number of pedestrians who were injured.\n",
    "- cyclist_injured: Number of people traveling on a bicycle who were injured.\n",
    "- motorist_injured: Number of people traveling in a vehicle who were injured.\n",
    "- total_injured: Total number of people injured.\n",
    "- pedestrians_killed: Number of pedestrians who were killed.\n",
    "- cyclist_killed: Number of people traveling on a bicycle who were killed.\n",
    "- motorist_killed: Number of people traveling in a vehicle who were killed.\n",
    "- total_killed: Total number of people killed.\n",
    "- vehicle_1 through vehicle_5: Type of each vehicle involved in the accident.\n",
    "- cause_vehicle_1 through cause_vehicle_5: Contributing factor for each vehicle in the accident.\n",
    " \n",
    "Let's quickly recap how to count missing values. We'll start by creating a dataframe with random null values:"
   ]
  },
  {
   "cell_type": "code",
   "execution_count": 86,
   "metadata": {},
   "outputs": [
    {
     "data": {
      "text/html": [
       "<div>\n",
       "<style scoped>\n",
       "    .dataframe tbody tr th:only-of-type {\n",
       "        vertical-align: middle;\n",
       "    }\n",
       "\n",
       "    .dataframe tbody tr th {\n",
       "        vertical-align: top;\n",
       "    }\n",
       "\n",
       "    .dataframe thead th {\n",
       "        text-align: right;\n",
       "    }\n",
       "</style>\n",
       "<table border=\"1\" class=\"dataframe\">\n",
       "  <thead>\n",
       "    <tr style=\"text-align: right;\">\n",
       "      <th></th>\n",
       "      <th>A</th>\n",
       "      <th>B</th>\n",
       "      <th>C</th>\n",
       "    </tr>\n",
       "  </thead>\n",
       "  <tbody>\n",
       "    <tr>\n",
       "      <th>0</th>\n",
       "      <td>NaN</td>\n",
       "      <td>NaN</td>\n",
       "      <td>NaN</td>\n",
       "    </tr>\n",
       "    <tr>\n",
       "      <th>1</th>\n",
       "      <td>NaN</td>\n",
       "      <td>NaN</td>\n",
       "      <td>1.0</td>\n",
       "    </tr>\n",
       "    <tr>\n",
       "      <th>2</th>\n",
       "      <td>NaN</td>\n",
       "      <td>NaN</td>\n",
       "      <td>NaN</td>\n",
       "    </tr>\n",
       "  </tbody>\n",
       "</table>\n",
       "</div>"
      ],
      "text/plain": [
       "    A   B    C\n",
       "0 NaN NaN  NaN\n",
       "1 NaN NaN  1.0\n",
       "2 NaN NaN  NaN"
      ]
     },
     "execution_count": 86,
     "metadata": {},
     "output_type": "execute_result"
    }
   ],
   "source": [
    "data = np.random.choice([1.0, np.nan],\n",
    "                        size=(3, 3),\n",
    "                        p=[.3, .7])\n",
    "df = pd.DataFrame(data, columns=['A','B','C'])\n",
    "df"
   ]
  },
  {
   "cell_type": "markdown",
   "metadata": {},
   "source": [
    "Next, we can use the DataFrame.isnull() method to identify which values are null:"
   ]
  },
  {
   "cell_type": "code",
   "execution_count": 87,
   "metadata": {},
   "outputs": [
    {
     "name": "stdout",
     "output_type": "stream",
     "text": [
      "      A     B      C\n",
      "0  True  True   True\n",
      "1  True  True  False\n",
      "2  True  True   True\n"
     ]
    }
   ],
   "source": [
    "print(df.isnull())"
   ]
  },
  {
   "cell_type": "markdown",
   "metadata": {},
   "source": [
    "We can chain the result to DataFrame.sum() method to count the number of null values in each column:"
   ]
  },
  {
   "cell_type": "code",
   "execution_count": 88,
   "metadata": {},
   "outputs": [
    {
     "name": "stdout",
     "output_type": "stream",
     "text": [
      "A    3\n",
      "B    3\n",
      "C    2\n",
      "dtype: int64\n"
     ]
    }
   ],
   "source": [
    "print(df.isnull().sum())"
   ]
  },
  {
   "cell_type": "markdown",
   "metadata": {},
   "source": [
    "Let's use this technique to count the null values in our data set."
   ]
  },
  {
   "cell_type": "code",
   "execution_count": 89,
   "metadata": {},
   "outputs": [
    {
     "data": {
      "text/plain": [
       "unique_key                 0\n",
       "date                       0\n",
       "time                       0\n",
       "borough                20646\n",
       "location                3885\n",
       "on_street              13961\n",
       "cross_street           29249\n",
       "off_street             44093\n",
       "pedestrians_injured        0\n",
       "cyclist_injured            0\n",
       "motorist_injured           0\n",
       "total_injured              1\n",
       "pedestrians_killed         0\n",
       "cyclist_killed             0\n",
       "motorist_killed            0\n",
       "total_killed               5\n",
       "vehicle_1                355\n",
       "vehicle_2              12262\n",
       "vehicle_3              54352\n",
       "vehicle_4              57158\n",
       "vehicle_5              57681\n",
       "cause_vehicle_1          175\n",
       "cause_vehicle_2         8692\n",
       "cause_vehicle_3        54134\n",
       "cause_vehicle_4        57111\n",
       "cause_vehicle_5        57671\n",
       "dtype: int64"
      ]
     },
     "execution_count": 89,
     "metadata": {},
     "output_type": "execute_result"
    }
   ],
   "source": [
    "null_counts = mvc.isnull().sum()\n",
    "null_counts"
   ]
  },
  {
   "cell_type": "markdown",
   "metadata": {},
   "source": [
    "### Verifying the total columns\n",
    "\n",
    "\n",
    "To give us a better picture of the null values in the data, let's calculate the percentage of null values in each column. Below, we divide the number of null values in each column by the total number of values in the data set:"
   ]
  },
  {
   "cell_type": "code",
   "execution_count": 90,
   "metadata": {},
   "outputs": [
    {
     "data": {
      "text/plain": [
       "unique_key              0.000000\n",
       "date                    0.000000\n",
       "time                    0.000000\n",
       "borough                35.680216\n",
       "location                6.714019\n",
       "on_street              24.127264\n",
       "cross_street           50.547836\n",
       "off_street             76.201092\n",
       "pedestrians_injured     0.000000\n",
       "cyclist_injured         0.000000\n",
       "motorist_injured        0.000000\n",
       "total_injured           0.001728\n",
       "pedestrians_killed      0.000000\n",
       "cyclist_killed          0.000000\n",
       "motorist_killed         0.000000\n",
       "total_killed            0.008641\n",
       "vehicle_1               0.613508\n",
       "vehicle_2              21.191069\n",
       "vehicle_3              93.930596\n",
       "vehicle_4              98.779898\n",
       "vehicle_5              99.683741\n",
       "cause_vehicle_1         0.302433\n",
       "cause_vehicle_2        15.021430\n",
       "cause_vehicle_3        93.553850\n",
       "cause_vehicle_4        98.698673\n",
       "cause_vehicle_5        99.666459\n",
       "dtype: float64"
      ]
     },
     "execution_count": 90,
     "metadata": {},
     "output_type": "execute_result"
    }
   ],
   "source": [
    "null_counts_pct = null_counts / mvc.shape[0] * 100\n",
    "\n",
    "null_counts_pct"
   ]
  },
  {
   "cell_type": "markdown",
   "metadata": {},
   "source": [
    "We'll then add both the counts and percentages to a dataframe to make them easier to compare:"
   ]
  },
  {
   "cell_type": "code",
   "execution_count": 91,
   "metadata": {},
   "outputs": [
    {
     "data": {
      "text/html": [
       "<div>\n",
       "<style scoped>\n",
       "    .dataframe tbody tr th:only-of-type {\n",
       "        vertical-align: middle;\n",
       "    }\n",
       "\n",
       "    .dataframe tbody tr th {\n",
       "        vertical-align: top;\n",
       "    }\n",
       "\n",
       "    .dataframe thead th {\n",
       "        text-align: right;\n",
       "    }\n",
       "</style>\n",
       "<table border=\"1\" class=\"dataframe\">\n",
       "  <thead>\n",
       "    <tr style=\"text-align: right;\">\n",
       "      <th></th>\n",
       "      <th>unique_key</th>\n",
       "      <th>date</th>\n",
       "      <th>time</th>\n",
       "      <th>borough</th>\n",
       "      <th>location</th>\n",
       "      <th>on_street</th>\n",
       "      <th>cross_street</th>\n",
       "      <th>off_street</th>\n",
       "      <th>pedestrians_injured</th>\n",
       "      <th>cyclist_injured</th>\n",
       "      <th>...</th>\n",
       "      <th>vehicle_1</th>\n",
       "      <th>vehicle_2</th>\n",
       "      <th>vehicle_3</th>\n",
       "      <th>vehicle_4</th>\n",
       "      <th>vehicle_5</th>\n",
       "      <th>cause_vehicle_1</th>\n",
       "      <th>cause_vehicle_2</th>\n",
       "      <th>cause_vehicle_3</th>\n",
       "      <th>cause_vehicle_4</th>\n",
       "      <th>cause_vehicle_5</th>\n",
       "    </tr>\n",
       "  </thead>\n",
       "  <tbody>\n",
       "    <tr>\n",
       "      <th>null_counts</th>\n",
       "      <td>0</td>\n",
       "      <td>0</td>\n",
       "      <td>0</td>\n",
       "      <td>20646</td>\n",
       "      <td>3885</td>\n",
       "      <td>13961</td>\n",
       "      <td>29249</td>\n",
       "      <td>44093</td>\n",
       "      <td>0</td>\n",
       "      <td>0</td>\n",
       "      <td>...</td>\n",
       "      <td>355</td>\n",
       "      <td>12262</td>\n",
       "      <td>54352</td>\n",
       "      <td>57158</td>\n",
       "      <td>57681</td>\n",
       "      <td>175</td>\n",
       "      <td>8692</td>\n",
       "      <td>54134</td>\n",
       "      <td>57111</td>\n",
       "      <td>57671</td>\n",
       "    </tr>\n",
       "    <tr>\n",
       "      <th>null_pct</th>\n",
       "      <td>0</td>\n",
       "      <td>0</td>\n",
       "      <td>0</td>\n",
       "      <td>35</td>\n",
       "      <td>6</td>\n",
       "      <td>24</td>\n",
       "      <td>50</td>\n",
       "      <td>76</td>\n",
       "      <td>0</td>\n",
       "      <td>0</td>\n",
       "      <td>...</td>\n",
       "      <td>0</td>\n",
       "      <td>21</td>\n",
       "      <td>93</td>\n",
       "      <td>98</td>\n",
       "      <td>99</td>\n",
       "      <td>0</td>\n",
       "      <td>15</td>\n",
       "      <td>93</td>\n",
       "      <td>98</td>\n",
       "      <td>99</td>\n",
       "    </tr>\n",
       "  </tbody>\n",
       "</table>\n",
       "<p>2 rows × 26 columns</p>\n",
       "</div>"
      ],
      "text/plain": [
       "             unique_key  date  time  borough  location  on_street  \\\n",
       "null_counts           0     0     0    20646      3885      13961   \n",
       "null_pct              0     0     0       35         6         24   \n",
       "\n",
       "             cross_street  off_street  pedestrians_injured  cyclist_injured  \\\n",
       "null_counts         29249       44093                    0                0   \n",
       "null_pct               50          76                    0                0   \n",
       "\n",
       "             ...  vehicle_1  vehicle_2  vehicle_3  vehicle_4  vehicle_5  \\\n",
       "null_counts  ...        355      12262      54352      57158      57681   \n",
       "null_pct     ...          0         21         93         98         99   \n",
       "\n",
       "             cause_vehicle_1  cause_vehicle_2  cause_vehicle_3  \\\n",
       "null_counts              175             8692            54134   \n",
       "null_pct                   0               15               93   \n",
       "\n",
       "             cause_vehicle_4  cause_vehicle_5  \n",
       "null_counts            57111            57671  \n",
       "null_pct                  98               99  \n",
       "\n",
       "[2 rows x 26 columns]"
      ]
     },
     "execution_count": 91,
     "metadata": {},
     "output_type": "execute_result"
    }
   ],
   "source": [
    "null_df = pd.DataFrame({'null_counts': null_counts, 'null_pct': null_counts_pct})\n",
    "\n",
    "# Rotate the dataframe so that rows become columns and vice-versa\n",
    "null_df = null_df.T.astype(int)\n",
    "\n",
    "null_df"
   ]
  },
  {
   "cell_type": "markdown",
   "metadata": {},
   "source": [
    "About a third of the columns have no null values, with the rest ranging from less than 1% to 99%!\n",
    "\n",
    "To make things easier, let's start by **looking at the group of columns that relate to people killed in collisions**.\n",
    "\n",
    "We'll use list comprehension to reduce our summary dataframe to just those columns:"
   ]
  },
  {
   "cell_type": "code",
   "execution_count": 92,
   "metadata": {},
   "outputs": [
    {
     "name": "stdout",
     "output_type": "stream",
     "text": [
      "             pedestrians_killed  cyclist_killed  motorist_killed  total_killed\n",
      "null_counts                   0               0                0             5\n",
      "null_pct                      0               0                0             0\n"
     ]
    }
   ],
   "source": [
    "killed_cols = [col for col in mvc.columns if 'killed' in col]\n",
    "\n",
    "print(null_df[killed_cols])"
   ]
  },
  {
   "attachments": {
    "k1.png": {
     "image/png": "[encoded data removed]"
    }
   },
   "cell_type": "markdown",
   "metadata": {},
   "source": [
    "We can see that each of the individual categories have no missing values, but the total_killed column has five missing values.\n",
    "\n",
    "One option for handling this would be to remove – or drop – those five rows. This would be a reasonably valid choice since it's a tiny portion of the data, but let's think about what other options we have first.\n",
    "\n",
    "If you think about it, the total number of people killed should be the sum of each of the individual categories. We might be able to \"fill in\" the missing values with the sums of the individual columns for that row. The technical name for filling in a missing value with a replacement value is called imputation.\n",
    "\n",
    "Let's look at how we could explore the values where the total_killed isn't equal to the sum of the other three columns. We'll illustrate this process using a series of diagrams. The diagrams won't contain values, they'll just show a grid to represent the values.\n",
    "\n",
    "Let's start with a dataframe of just the four columns relating to people killed:\n",
    "\n",
    "![img](img/k1.png)\n",
    "\n",
    "![k1.png](attachment:k1.png)"
   ]
  },
  {
   "attachments": {
    "k2.png": {
     "image/png": "[encoded data removed]"
    }
   },
   "cell_type": "markdown",
   "metadata": {},
   "source": [
    "We then select just the first three columns, and manually sum each row:\n",
    "\n",
    "![k2.png](attachment:k2.png)"
   ]
  },
  {
   "attachments": {
    "k3.png": {
     "image/png": "[encoded data removed]"
    }
   },
   "cell_type": "markdown",
   "metadata": {},
   "source": [
    "We then compare the manual sum to the original total column to create a boolean mask where equivalent values are not equal:\n",
    "\n",
    "![k3.png](attachment:k3.png)"
   ]
  },
  {
   "attachments": {
    "k4.png": {
     "image/png": "[encoded data removed]"
    }
   },
   "cell_type": "markdown",
   "metadata": {},
   "source": [
    "Lastly, we use the boolean mask to filter the original dataframe to include only rows where the manual sum and original aren't equal:\n",
    "\n",
    "![k4.png](attachment:k4.png)\n",
    "\n",
    "Let's use this strategy to look at the rows that don't match up!"
   ]
  },
  {
   "cell_type": "code",
   "execution_count": 93,
   "metadata": {},
   "outputs": [
    {
     "data": {
      "text/html": [
       "<div>\n",
       "<style scoped>\n",
       "    .dataframe tbody tr th:only-of-type {\n",
       "        vertical-align: middle;\n",
       "    }\n",
       "\n",
       "    .dataframe tbody tr th {\n",
       "        vertical-align: top;\n",
       "    }\n",
       "\n",
       "    .dataframe thead th {\n",
       "        text-align: right;\n",
       "    }\n",
       "</style>\n",
       "<table border=\"1\" class=\"dataframe\">\n",
       "  <thead>\n",
       "    <tr style=\"text-align: right;\">\n",
       "      <th></th>\n",
       "      <th>pedestrians_killed</th>\n",
       "      <th>cyclist_killed</th>\n",
       "      <th>motorist_killed</th>\n",
       "      <th>total_killed</th>\n",
       "    </tr>\n",
       "  </thead>\n",
       "  <tbody>\n",
       "    <tr>\n",
       "      <th>3508</th>\n",
       "      <td>0</td>\n",
       "      <td>0</td>\n",
       "      <td>0</td>\n",
       "      <td>NaN</td>\n",
       "    </tr>\n",
       "    <tr>\n",
       "      <th>20163</th>\n",
       "      <td>0</td>\n",
       "      <td>0</td>\n",
       "      <td>0</td>\n",
       "      <td>NaN</td>\n",
       "    </tr>\n",
       "    <tr>\n",
       "      <th>22046</th>\n",
       "      <td>0</td>\n",
       "      <td>0</td>\n",
       "      <td>1</td>\n",
       "      <td>0.0</td>\n",
       "    </tr>\n",
       "    <tr>\n",
       "      <th>48719</th>\n",
       "      <td>0</td>\n",
       "      <td>0</td>\n",
       "      <td>0</td>\n",
       "      <td>NaN</td>\n",
       "    </tr>\n",
       "    <tr>\n",
       "      <th>55148</th>\n",
       "      <td>0</td>\n",
       "      <td>0</td>\n",
       "      <td>0</td>\n",
       "      <td>NaN</td>\n",
       "    </tr>\n",
       "    <tr>\n",
       "      <th>55699</th>\n",
       "      <td>0</td>\n",
       "      <td>0</td>\n",
       "      <td>0</td>\n",
       "      <td>NaN</td>\n",
       "    </tr>\n",
       "  </tbody>\n",
       "</table>\n",
       "</div>"
      ],
      "text/plain": [
       "       pedestrians_killed  cyclist_killed  motorist_killed  total_killed\n",
       "3508                    0               0                0           NaN\n",
       "20163                   0               0                0           NaN\n",
       "22046                   0               0                1           0.0\n",
       "48719                   0               0                0           NaN\n",
       "55148                   0               0                0           NaN\n",
       "55699                   0               0                0           NaN"
      ]
     },
     "execution_count": 93,
     "metadata": {},
     "output_type": "execute_result"
    }
   ],
   "source": [
    "killed_cols = [col for col in mvc.columns if 'killed' in col]\n",
    "\n",
    "killed = mvc[killed_cols].copy()\n",
    "\n",
    "killed_manual_sum = killed[killed_cols[:3]].sum(axis = 1)\n",
    "\n",
    "killed_mask = killed_manual_sum != killed['total_killed']\n",
    "\n",
    "killed_non_eq = killed[killed_mask]\n",
    "\n",
    "killed_non_eq"
   ]
  },
  {
   "cell_type": "markdown",
   "metadata": {},
   "source": [
    "### Filling and verifying the killed and injured data\n",
    "\n",
    "We can categorize these into two categories:\n",
    "\n",
    "1. Five rows where the total_killed is not equal to the sum of the other columns because the total value is missing.\n",
    "2. One row where the total_killed is less than the sum of the other columns.\n",
    "\n",
    "From this, we can conclude that filling null values with the sum of the columns is a fairly good choice for our imputation, given that only six rows out of around 58,000 don't match this pattern.\n",
    "\n",
    "We've also identified a row that has suspicious data - one that doesn't sum correctly. Once we have imputed values for all rows with missing values for total_killed, we'll mark this suspect row by setting its value to NaN.\n",
    "\n",
    "In order to execute this, we'll learn to use the Series.mask() method. Series.mask() is useful when you want to replace certain values in a series based off a boolean mask. The syntax for the method is:\n",
    "\n",
    "```Series.mask(bool_mask, val_to_replace)```\n",
    "\n",
    "Let's look at an example with some simple data. We'll start with a series called fruits:\n",
    "\n",
    "![img](img/f1.png)\n",
    "\n",
    "Next, we create a boolean series that matches values equal to the string Banana:\n",
    "\n",
    "![img](img/f2.png)\n",
    "\n",
    "Lastly, we use Series.mask() to replace all the values that match the boolean series with a new value, Pear:\n",
    "\n",
    "![img](img/f3.png)\n",
    "\n",
    "If we wanted to describe the logic of the code above, we'd say For each value in the \"fruits\" series, if the corresponding value in the \"bool\" series is true, update the value to \"Pear,\" otherwise leave the original value.\n",
    "\n",
    "In the first example above, we updated a single value, but we can also update with the matching value from a series that has identical index labels, like this nums series:\n",
    "\n",
    "![img](img/n1.png)\n",
    "\n",
    "Let's look at how we can update the matching values in fruit with the corresponding values in nums:\n",
    "\n",
    "![img](img/n2.png)\n",
    "\n",
    "If we wanted to describe the logic of the code above, we'd say For each value in the \"fruits\" series, if the corresponding value in the \"bool\" series is true, update the value to the corresponding value from \"nums,\" otherwise leave the original value.\n",
    "\n",
    "Let's look at how we'd use this technique to update the values in the total_killed column. First, we'll replace all null values with the equivalent values from our killed_manual_sum series:"
   ]
  },
  {
   "cell_type": "code",
   "execution_count": 94,
   "metadata": {},
   "outputs": [],
   "source": [
    "killed_null = killed['total_killed'].isnull()\n",
    "killed['total_killed'] = killed['total_killed'].mask(killed_null, killed_manual_sum)"
   ]
  },
  {
   "cell_type": "markdown",
   "metadata": {},
   "source": [
    "Next, we'll replace any values where the manual sum and the total column aren't equal with np.nan. This time we'll define the boolean series directly into Series.mask():"
   ]
  },
  {
   "cell_type": "code",
   "execution_count": 95,
   "metadata": {},
   "outputs": [],
   "source": [
    "killed['total_killed'] = killed['total_killed'].mask(killed['total_killed'] != killed_manual_sum, np.nan)"
   ]
  },
  {
   "cell_type": "markdown",
   "metadata": {},
   "source": [
    "Now let's look at the values we've changed:"
   ]
  },
  {
   "cell_type": "code",
   "execution_count": 96,
   "metadata": {},
   "outputs": [
    {
     "name": "stdout",
     "output_type": "stream",
     "text": [
      "       pedestrians_killed  cyclist_killed  motorist_killed  total_killed\n",
      "3508                    0               0                0           0.0\n",
      "20163                   0               0                0           0.0\n",
      "22046                   0               0                1           NaN\n",
      "48719                   0               0                0           0.0\n",
      "55148                   0               0                0           0.0\n",
      "55699                   0               0                0           0.0\n"
     ]
    }
   ],
   "source": [
    "print(killed[killed_mask])"
   ]
  },
  {
   "cell_type": "markdown",
   "metadata": {},
   "source": [
    "We've gone from five null values to one, and flagged some suspicious data. Let's do the same for the injured columns."
   ]
  },
  {
   "cell_type": "code",
   "execution_count": 97,
   "metadata": {},
   "outputs": [],
   "source": [
    "# Create an injured dataframe and manually sum values\n",
    "injured = mvc[[col for col in mvc.columns if 'injured' in col]].copy()\n",
    "\n",
    "injured_manual_sum = injured.iloc[:,:3].sum(axis=1)\n",
    "\n",
    "injured['total_injured'] = injured['total_injured'].mask(injured['total_injured'].isnull(), injured_manual_sum)\n",
    "\n",
    "injured['total_injured'] = injured['total_injured'].mask(injured['total_injured'] != injured_manual_sum, np.nan)"
   ]
  },
  {
   "cell_type": "markdown",
   "metadata": {},
   "source": [
    "### Assigning the corrected data back to the main dataframe\n",
    "\n",
    "Let's summarize the count of null values before and after our changes:\n"
   ]
  },
  {
   "cell_type": "code",
   "execution_count": 98,
   "metadata": {},
   "outputs": [
    {
     "name": "stdout",
     "output_type": "stream",
     "text": [
      "        injured  killed\n",
      "before        1       5\n",
      "after        21       1\n"
     ]
    }
   ],
   "source": [
    "summary = {\n",
    "    'injured': [\n",
    "        mvc['total_injured'].isnull().sum(),\n",
    "        injured['total_injured'].isnull().sum()\n",
    "    ],\n",
    "    'killed': [\n",
    "        mvc['total_killed'].isnull().sum(),\n",
    "        killed['total_killed'].isnull().sum()\n",
    "    ]\n",
    "}\n",
    "\n",
    "print(pd.DataFrame(summary, index=['before','after']))"
   ]
  },
  {
   "cell_type": "markdown",
   "metadata": {},
   "source": [
    "For the total_killed column, the number of values has gone down from 5 to 1. For the total_injured column, the number of values has actually gone up — from 1 to 21. This might sound like we've done the opposite of what we set out to do, but what we've actually done is fill all the null values and identify values that have suspect data. This will make any analysis we do on this data more accurate in the long run.\n",
    "\n",
    "Let's assign the values from the killed and injured dataframe back to the main mvc dataframe:"
   ]
  },
  {
   "cell_type": "code",
   "execution_count": 99,
   "metadata": {},
   "outputs": [],
   "source": [
    "mvc['total_injured'] = injured['total_injured']\n",
    "\n",
    "mvc['total_killed'] = killed['total_killed']"
   ]
  },
  {
   "cell_type": "markdown",
   "metadata": {},
   "source": [
    "## Visualizing missing data with plots\n",
    "\n",
    "dataframe. A different approach we can take is to use a plot to visualize the missing values. The function below uses seaborn.heatmap() to represent null values as light squares and non-null values as dark squares:"
   ]
  },
  {
   "cell_type": "code",
   "execution_count": 100,
   "metadata": {},
   "outputs": [],
   "source": [
    "def plot_null_matrix(df, figsize=(18,15)):\n",
    "    # initiate the figure\n",
    "    plt.figure(figsize=figsize)\n",
    "    # create a boolean dataframe based on whether values are null\n",
    "    df_null = df.isnull()\n",
    "    # create a heatmap of the boolean dataframe\n",
    "    sns.heatmap(df_null, cbar=False, yticklabels=False)\n",
    "    plt.xticks(rotation=90, size='x-large')\n",
    "    plt.show()"
   ]
  },
  {
   "cell_type": "markdown",
   "metadata": {},
   "source": [
    "Let's look at how the function works by using it to plot just the first row of our mvc dataframe. We'll display the first row as a table immediately below so it's easy to compare:"
   ]
  },
  {
   "cell_type": "code",
   "execution_count": 101,
   "metadata": {},
   "outputs": [
    {
     "data": {
      "image/png": "[encoded data removed]",
      "text/plain": [
       "<Figure size 1296x72 with 1 Axes>"
      ]
     },
     "metadata": {
      "needs_background": "light"
     },
     "output_type": "display_data"
    }
   ],
   "source": [
    "plot_null_matrix(mvc.head(1), figsize=(18,1))"
   ]
  },
  {
   "cell_type": "code",
   "execution_count": 102,
   "metadata": {},
   "outputs": [
    {
     "name": "stdout",
     "output_type": "stream",
     "text": [
      "   unique_key        date   time    borough                location  \\\n",
      "0     3869058  2018-03-23  21:40  MANHATTAN  (40.742832, -74.00771)   \n",
      "\n",
      "                          on_street cross_street off_street  \\\n",
      "0  WEST 15 STREET                      10 AVENUE        NaN   \n",
      "\n",
      "   pedestrians_injured  cyclist_injured  ...          vehicle_1  vehicle_2  \\\n",
      "0                    0                0  ...  PASSENGER VEHICLE        NaN   \n",
      "\n",
      "   vehicle_3  vehicle_4  vehicle_5        cause_vehicle_1 cause_vehicle_2  \\\n",
      "0        NaN        NaN        NaN  Following Too Closely     Unspecified   \n",
      "\n",
      "  cause_vehicle_3 cause_vehicle_4 cause_vehicle_5  \n",
      "0             NaN             NaN             NaN  \n",
      "\n",
      "[1 rows x 26 columns]\n"
     ]
    }
   ],
   "source": [
    "print(mvc.head(1))"
   ]
  },
  {
   "cell_type": "markdown",
   "metadata": {},
   "source": [
    "Each value is represented by a dark square, and each missing value is represented by a light square.\n",
    "\n",
    "Let's look at what a plot matrix looks like for the whole dataframe:"
   ]
  },
  {
   "cell_type": "code",
   "execution_count": 103,
   "metadata": {},
   "outputs": [
    {
     "data": {
      "image/png": "[encoded data removed]",
      "text/plain": [
       "<Figure size 1296x1080 with 1 Axes>"
      ]
     },
     "metadata": {
      "needs_background": "light"
     },
     "output_type": "display_data"
    }
   ],
   "source": [
    "plot_null_matrix(mvc)"
   ]
  },
  {
   "cell_type": "markdown",
   "metadata": {},
   "source": [
    "We can make some immediate interpretations about our dataframe:\n",
    "\n",
    "- The first three columns have few to no missing values.\n",
    "- The next five columns have missing values scattered throughout, with each column seeming to have its own density of missing values.\n",
    "- The next eight columns are the injury and killed columns we just cleaned, and only have a few missing values.\n",
    "- The last 10 columns seem to break into two groups of five, with each group of five having similar patterns of null/non-null values.\n",
    "\n",
    "Let's examine the pattern in the last 10 columns a little more closely. We can calculate the relationship between two sets of columns, known as correlation. To calculate this we use the dataframe.corr() method (You'll learn more about correlation in a later course). Here's what that looks like:"
   ]
  },
  {
   "cell_type": "code",
   "execution_count": 104,
   "metadata": {},
   "outputs": [
    {
     "data": {
      "text/html": [
       "<div>\n",
       "<style scoped>\n",
       "    .dataframe tbody tr th:only-of-type {\n",
       "        vertical-align: middle;\n",
       "    }\n",
       "\n",
       "    .dataframe tbody tr th {\n",
       "        vertical-align: top;\n",
       "    }\n",
       "\n",
       "    .dataframe thead th {\n",
       "        text-align: right;\n",
       "    }\n",
       "</style>\n",
       "<table border=\"1\" class=\"dataframe\">\n",
       "  <thead>\n",
       "    <tr style=\"text-align: right;\">\n",
       "      <th></th>\n",
       "      <th>borough</th>\n",
       "      <th>location</th>\n",
       "      <th>on_street</th>\n",
       "      <th>cross_street</th>\n",
       "      <th>off_street</th>\n",
       "      <th>total_injured</th>\n",
       "      <th>total_killed</th>\n",
       "      <th>vehicle_1</th>\n",
       "      <th>vehicle_2</th>\n",
       "      <th>vehicle_3</th>\n",
       "      <th>vehicle_4</th>\n",
       "      <th>vehicle_5</th>\n",
       "      <th>cause_vehicle_1</th>\n",
       "      <th>cause_vehicle_2</th>\n",
       "      <th>cause_vehicle_3</th>\n",
       "      <th>cause_vehicle_4</th>\n",
       "      <th>cause_vehicle_5</th>\n",
       "    </tr>\n",
       "  </thead>\n",
       "  <tbody>\n",
       "    <tr>\n",
       "      <th>borough</th>\n",
       "      <td>1.000000</td>\n",
       "      <td>0.190105</td>\n",
       "      <td>-0.350190</td>\n",
       "      <td>0.409107</td>\n",
       "      <td>0.362189</td>\n",
       "      <td>-0.002827</td>\n",
       "      <td>0.005582</td>\n",
       "      <td>-0.018325</td>\n",
       "      <td>-0.077516</td>\n",
       "      <td>-0.061932</td>\n",
       "      <td>-0.020406</td>\n",
       "      <td>-0.010733</td>\n",
       "      <td>-0.012115</td>\n",
       "      <td>-0.058596</td>\n",
       "      <td>-0.060542</td>\n",
       "      <td>-0.020158</td>\n",
       "      <td>-0.011348</td>\n",
       "    </tr>\n",
       "    <tr>\n",
       "      <th>location</th>\n",
       "      <td>0.190105</td>\n",
       "      <td>1.000000</td>\n",
       "      <td>-0.073975</td>\n",
       "      <td>-0.069719</td>\n",
       "      <td>0.084579</td>\n",
       "      <td>-0.001486</td>\n",
       "      <td>0.015496</td>\n",
       "      <td>-0.010466</td>\n",
       "      <td>-0.033842</td>\n",
       "      <td>-0.000927</td>\n",
       "      <td>0.004655</td>\n",
       "      <td>-0.005797</td>\n",
       "      <td>-0.003458</td>\n",
       "      <td>-0.021373</td>\n",
       "      <td>0.000684</td>\n",
       "      <td>0.004604</td>\n",
       "      <td>-0.004841</td>\n",
       "    </tr>\n",
       "    <tr>\n",
       "      <th>on_street</th>\n",
       "      <td>-0.350190</td>\n",
       "      <td>-0.073975</td>\n",
       "      <td>1.000000</td>\n",
       "      <td>0.557767</td>\n",
       "      <td>-0.991030</td>\n",
       "      <td>0.006220</td>\n",
       "      <td>-0.002344</td>\n",
       "      <td>-0.001889</td>\n",
       "      <td>0.119647</td>\n",
       "      <td>0.020867</td>\n",
       "      <td>0.004172</td>\n",
       "      <td>-0.002768</td>\n",
       "      <td>0.001307</td>\n",
       "      <td>0.087374</td>\n",
       "      <td>0.017426</td>\n",
       "      <td>0.002737</td>\n",
       "      <td>-0.003107</td>\n",
       "    </tr>\n",
       "    <tr>\n",
       "      <th>cross_street</th>\n",
       "      <td>0.409107</td>\n",
       "      <td>-0.069719</td>\n",
       "      <td>0.557767</td>\n",
       "      <td>1.000000</td>\n",
       "      <td>-0.552763</td>\n",
       "      <td>0.002513</td>\n",
       "      <td>0.004112</td>\n",
       "      <td>-0.017018</td>\n",
       "      <td>0.043799</td>\n",
       "      <td>-0.049910</td>\n",
       "      <td>-0.021137</td>\n",
       "      <td>-0.012003</td>\n",
       "      <td>-0.009102</td>\n",
       "      <td>0.031189</td>\n",
       "      <td>-0.052159</td>\n",
       "      <td>-0.022074</td>\n",
       "      <td>-0.013455</td>\n",
       "    </tr>\n",
       "    <tr>\n",
       "      <th>off_street</th>\n",
       "      <td>0.362189</td>\n",
       "      <td>0.084579</td>\n",
       "      <td>-0.991030</td>\n",
       "      <td>-0.552763</td>\n",
       "      <td>1.000000</td>\n",
       "      <td>-0.004266</td>\n",
       "      <td>0.002323</td>\n",
       "      <td>0.001812</td>\n",
       "      <td>-0.121129</td>\n",
       "      <td>-0.022404</td>\n",
       "      <td>-0.004074</td>\n",
       "      <td>0.002492</td>\n",
       "      <td>-0.001738</td>\n",
       "      <td>-0.088187</td>\n",
       "      <td>-0.019120</td>\n",
       "      <td>-0.002580</td>\n",
       "      <td>0.002863</td>\n",
       "    </tr>\n",
       "    <tr>\n",
       "      <th>total_injured</th>\n",
       "      <td>-0.002827</td>\n",
       "      <td>-0.001486</td>\n",
       "      <td>0.006220</td>\n",
       "      <td>0.002513</td>\n",
       "      <td>-0.004266</td>\n",
       "      <td>1.000000</td>\n",
       "      <td>-0.000079</td>\n",
       "      <td>0.079840</td>\n",
       "      <td>0.025644</td>\n",
       "      <td>-0.002757</td>\n",
       "      <td>0.002118</td>\n",
       "      <td>0.001073</td>\n",
       "      <td>0.131140</td>\n",
       "      <td>0.030082</td>\n",
       "      <td>-0.002388</td>\n",
       "      <td>0.002188</td>\n",
       "      <td>0.001102</td>\n",
       "    </tr>\n",
       "    <tr>\n",
       "      <th>total_killed</th>\n",
       "      <td>0.005582</td>\n",
       "      <td>0.015496</td>\n",
       "      <td>-0.002344</td>\n",
       "      <td>0.004112</td>\n",
       "      <td>0.002323</td>\n",
       "      <td>-0.000079</td>\n",
       "      <td>1.000000</td>\n",
       "      <td>-0.000327</td>\n",
       "      <td>0.008017</td>\n",
       "      <td>0.001057</td>\n",
       "      <td>0.000462</td>\n",
       "      <td>0.000234</td>\n",
       "      <td>-0.000229</td>\n",
       "      <td>0.009888</td>\n",
       "      <td>0.001091</td>\n",
       "      <td>0.000477</td>\n",
       "      <td>0.000240</td>\n",
       "    </tr>\n",
       "    <tr>\n",
       "      <th>vehicle_1</th>\n",
       "      <td>-0.018325</td>\n",
       "      <td>-0.010466</td>\n",
       "      <td>-0.001889</td>\n",
       "      <td>-0.017018</td>\n",
       "      <td>0.001812</td>\n",
       "      <td>0.079840</td>\n",
       "      <td>-0.000327</td>\n",
       "      <td>1.000000</td>\n",
       "      <td>0.151516</td>\n",
       "      <td>0.019972</td>\n",
       "      <td>0.008732</td>\n",
       "      <td>0.004425</td>\n",
       "      <td>0.604281</td>\n",
       "      <td>0.180678</td>\n",
       "      <td>0.020624</td>\n",
       "      <td>0.009022</td>\n",
       "      <td>0.004545</td>\n",
       "    </tr>\n",
       "    <tr>\n",
       "      <th>vehicle_2</th>\n",
       "      <td>-0.077516</td>\n",
       "      <td>-0.033842</td>\n",
       "      <td>0.119647</td>\n",
       "      <td>0.043799</td>\n",
       "      <td>-0.121129</td>\n",
       "      <td>0.025644</td>\n",
       "      <td>0.008017</td>\n",
       "      <td>0.151516</td>\n",
       "      <td>1.000000</td>\n",
       "      <td>0.131813</td>\n",
       "      <td>0.057631</td>\n",
       "      <td>0.029208</td>\n",
       "      <td>0.106214</td>\n",
       "      <td>0.784402</td>\n",
       "      <td>0.132499</td>\n",
       "      <td>0.058050</td>\n",
       "      <td>0.029264</td>\n",
       "    </tr>\n",
       "    <tr>\n",
       "      <th>vehicle_3</th>\n",
       "      <td>-0.061932</td>\n",
       "      <td>-0.000927</td>\n",
       "      <td>0.020867</td>\n",
       "      <td>-0.049910</td>\n",
       "      <td>-0.022404</td>\n",
       "      <td>-0.002757</td>\n",
       "      <td>0.001057</td>\n",
       "      <td>0.019972</td>\n",
       "      <td>0.131813</td>\n",
       "      <td>1.000000</td>\n",
       "      <td>0.437214</td>\n",
       "      <td>0.221585</td>\n",
       "      <td>0.014000</td>\n",
       "      <td>0.106874</td>\n",
       "      <td>0.961316</td>\n",
       "      <td>0.448525</td>\n",
       "      <td>0.225067</td>\n",
       "    </tr>\n",
       "    <tr>\n",
       "      <th>vehicle_4</th>\n",
       "      <td>-0.020406</td>\n",
       "      <td>0.004655</td>\n",
       "      <td>0.004172</td>\n",
       "      <td>-0.021137</td>\n",
       "      <td>-0.004074</td>\n",
       "      <td>0.002118</td>\n",
       "      <td>0.000462</td>\n",
       "      <td>0.008732</td>\n",
       "      <td>0.057631</td>\n",
       "      <td>0.437214</td>\n",
       "      <td>1.000000</td>\n",
       "      <td>0.506810</td>\n",
       "      <td>0.006121</td>\n",
       "      <td>0.046727</td>\n",
       "      <td>0.423394</td>\n",
       "      <td>0.963723</td>\n",
       "      <td>0.515058</td>\n",
       "    </tr>\n",
       "    <tr>\n",
       "      <th>vehicle_5</th>\n",
       "      <td>-0.010733</td>\n",
       "      <td>-0.005797</td>\n",
       "      <td>-0.002768</td>\n",
       "      <td>-0.012003</td>\n",
       "      <td>0.002492</td>\n",
       "      <td>0.001073</td>\n",
       "      <td>0.000234</td>\n",
       "      <td>0.004425</td>\n",
       "      <td>0.029208</td>\n",
       "      <td>0.221585</td>\n",
       "      <td>0.506810</td>\n",
       "      <td>1.000000</td>\n",
       "      <td>0.003102</td>\n",
       "      <td>0.023682</td>\n",
       "      <td>0.214580</td>\n",
       "      <td>0.490537</td>\n",
       "      <td>0.973664</td>\n",
       "    </tr>\n",
       "    <tr>\n",
       "      <th>cause_vehicle_1</th>\n",
       "      <td>-0.012115</td>\n",
       "      <td>-0.003458</td>\n",
       "      <td>0.001307</td>\n",
       "      <td>-0.009102</td>\n",
       "      <td>-0.001738</td>\n",
       "      <td>0.131140</td>\n",
       "      <td>-0.000229</td>\n",
       "      <td>0.604281</td>\n",
       "      <td>0.106214</td>\n",
       "      <td>0.014000</td>\n",
       "      <td>0.006121</td>\n",
       "      <td>0.003102</td>\n",
       "      <td>1.000000</td>\n",
       "      <td>0.131000</td>\n",
       "      <td>0.014457</td>\n",
       "      <td>0.006324</td>\n",
       "      <td>0.003186</td>\n",
       "    </tr>\n",
       "    <tr>\n",
       "      <th>cause_vehicle_2</th>\n",
       "      <td>-0.058596</td>\n",
       "      <td>-0.021373</td>\n",
       "      <td>0.087374</td>\n",
       "      <td>0.031189</td>\n",
       "      <td>-0.088187</td>\n",
       "      <td>0.030082</td>\n",
       "      <td>0.009888</td>\n",
       "      <td>0.180678</td>\n",
       "      <td>0.784402</td>\n",
       "      <td>0.106874</td>\n",
       "      <td>0.046727</td>\n",
       "      <td>0.023682</td>\n",
       "      <td>0.131000</td>\n",
       "      <td>1.000000</td>\n",
       "      <td>0.110362</td>\n",
       "      <td>0.048277</td>\n",
       "      <td>0.024322</td>\n",
       "    </tr>\n",
       "    <tr>\n",
       "      <th>cause_vehicle_3</th>\n",
       "      <td>-0.060542</td>\n",
       "      <td>0.000684</td>\n",
       "      <td>0.017426</td>\n",
       "      <td>-0.052159</td>\n",
       "      <td>-0.019120</td>\n",
       "      <td>-0.002388</td>\n",
       "      <td>0.001091</td>\n",
       "      <td>0.020624</td>\n",
       "      <td>0.132499</td>\n",
       "      <td>0.961316</td>\n",
       "      <td>0.423394</td>\n",
       "      <td>0.214580</td>\n",
       "      <td>0.014457</td>\n",
       "      <td>0.110362</td>\n",
       "      <td>1.000000</td>\n",
       "      <td>0.437440</td>\n",
       "      <td>0.220384</td>\n",
       "    </tr>\n",
       "    <tr>\n",
       "      <th>cause_vehicle_4</th>\n",
       "      <td>-0.020158</td>\n",
       "      <td>0.004604</td>\n",
       "      <td>0.002737</td>\n",
       "      <td>-0.022074</td>\n",
       "      <td>-0.002580</td>\n",
       "      <td>0.002188</td>\n",
       "      <td>0.000477</td>\n",
       "      <td>0.009022</td>\n",
       "      <td>0.058050</td>\n",
       "      <td>0.448525</td>\n",
       "      <td>0.963723</td>\n",
       "      <td>0.490537</td>\n",
       "      <td>0.006324</td>\n",
       "      <td>0.048277</td>\n",
       "      <td>0.437440</td>\n",
       "      <td>1.000000</td>\n",
       "      <td>0.503805</td>\n",
       "    </tr>\n",
       "    <tr>\n",
       "      <th>cause_vehicle_5</th>\n",
       "      <td>-0.011348</td>\n",
       "      <td>-0.004841</td>\n",
       "      <td>-0.003107</td>\n",
       "      <td>-0.013455</td>\n",
       "      <td>0.002863</td>\n",
       "      <td>0.001102</td>\n",
       "      <td>0.000240</td>\n",
       "      <td>0.004545</td>\n",
       "      <td>0.029264</td>\n",
       "      <td>0.225067</td>\n",
       "      <td>0.515058</td>\n",
       "      <td>0.973664</td>\n",
       "      <td>0.003186</td>\n",
       "      <td>0.024322</td>\n",
       "      <td>0.220384</td>\n",
       "      <td>0.503805</td>\n",
       "      <td>1.000000</td>\n",
       "    </tr>\n",
       "  </tbody>\n",
       "</table>\n",
       "</div>"
      ],
      "text/plain": [
       "                  borough  location  on_street  cross_street  off_street  \\\n",
       "borough          1.000000  0.190105  -0.350190      0.409107    0.362189   \n",
       "location         0.190105  1.000000  -0.073975     -0.069719    0.084579   \n",
       "on_street       -0.350190 -0.073975   1.000000      0.557767   -0.991030   \n",
       "cross_street     0.409107 -0.069719   0.557767      1.000000   -0.552763   \n",
       "off_street       0.362189  0.084579  -0.991030     -0.552763    1.000000   \n",
       "total_injured   -0.002827 -0.001486   0.006220      0.002513   -0.004266   \n",
       "total_killed     0.005582  0.015496  -0.002344      0.004112    0.002323   \n",
       "vehicle_1       -0.018325 -0.010466  -0.001889     -0.017018    0.001812   \n",
       "vehicle_2       -0.077516 -0.033842   0.119647      0.043799   -0.121129   \n",
       "vehicle_3       -0.061932 -0.000927   0.020867     -0.049910   -0.022404   \n",
       "vehicle_4       -0.020406  0.004655   0.004172     -0.021137   -0.004074   \n",
       "vehicle_5       -0.010733 -0.005797  -0.002768     -0.012003    0.002492   \n",
       "cause_vehicle_1 -0.012115 -0.003458   0.001307     -0.009102   -0.001738   \n",
       "cause_vehicle_2 -0.058596 -0.021373   0.087374      0.031189   -0.088187   \n",
       "cause_vehicle_3 -0.060542  0.000684   0.017426     -0.052159   -0.019120   \n",
       "cause_vehicle_4 -0.020158  0.004604   0.002737     -0.022074   -0.002580   \n",
       "cause_vehicle_5 -0.011348 -0.004841  -0.003107     -0.013455    0.002863   \n",
       "\n",
       "                 total_injured  total_killed  vehicle_1  vehicle_2  vehicle_3  \\\n",
       "borough              -0.002827      0.005582  -0.018325  -0.077516  -0.061932   \n",
       "location             -0.001486      0.015496  -0.010466  -0.033842  -0.000927   \n",
       "on_street             0.006220     -0.002344  -0.001889   0.119647   0.020867   \n",
       "cross_street          0.002513      0.004112  -0.017018   0.043799  -0.049910   \n",
       "off_street           -0.004266      0.002323   0.001812  -0.121129  -0.022404   \n",
       "total_injured         1.000000     -0.000079   0.079840   0.025644  -0.002757   \n",
       "total_killed         -0.000079      1.000000  -0.000327   0.008017   0.001057   \n",
       "vehicle_1             0.079840     -0.000327   1.000000   0.151516   0.019972   \n",
       "vehicle_2             0.025644      0.008017   0.151516   1.000000   0.131813   \n",
       "vehicle_3            -0.002757      0.001057   0.019972   0.131813   1.000000   \n",
       "vehicle_4             0.002118      0.000462   0.008732   0.057631   0.437214   \n",
       "vehicle_5             0.001073      0.000234   0.004425   0.029208   0.221585   \n",
       "cause_vehicle_1       0.131140     -0.000229   0.604281   0.106214   0.014000   \n",
       "cause_vehicle_2       0.030082      0.009888   0.180678   0.784402   0.106874   \n",
       "cause_vehicle_3      -0.002388      0.001091   0.020624   0.132499   0.961316   \n",
       "cause_vehicle_4       0.002188      0.000477   0.009022   0.058050   0.448525   \n",
       "cause_vehicle_5       0.001102      0.000240   0.004545   0.029264   0.225067   \n",
       "\n",
       "                 vehicle_4  vehicle_5  cause_vehicle_1  cause_vehicle_2  \\\n",
       "borough          -0.020406  -0.010733        -0.012115        -0.058596   \n",
       "location          0.004655  -0.005797        -0.003458        -0.021373   \n",
       "on_street         0.004172  -0.002768         0.001307         0.087374   \n",
       "cross_street     -0.021137  -0.012003        -0.009102         0.031189   \n",
       "off_street       -0.004074   0.002492        -0.001738        -0.088187   \n",
       "total_injured     0.002118   0.001073         0.131140         0.030082   \n",
       "total_killed      0.000462   0.000234        -0.000229         0.009888   \n",
       "vehicle_1         0.008732   0.004425         0.604281         0.180678   \n",
       "vehicle_2         0.057631   0.029208         0.106214         0.784402   \n",
       "vehicle_3         0.437214   0.221585         0.014000         0.106874   \n",
       "vehicle_4         1.000000   0.506810         0.006121         0.046727   \n",
       "vehicle_5         0.506810   1.000000         0.003102         0.023682   \n",
       "cause_vehicle_1   0.006121   0.003102         1.000000         0.131000   \n",
       "cause_vehicle_2   0.046727   0.023682         0.131000         1.000000   \n",
       "cause_vehicle_3   0.423394   0.214580         0.014457         0.110362   \n",
       "cause_vehicle_4   0.963723   0.490537         0.006324         0.048277   \n",
       "cause_vehicle_5   0.515058   0.973664         0.003186         0.024322   \n",
       "\n",
       "                 cause_vehicle_3  cause_vehicle_4  cause_vehicle_5  \n",
       "borough                -0.060542        -0.020158        -0.011348  \n",
       "location                0.000684         0.004604        -0.004841  \n",
       "on_street               0.017426         0.002737        -0.003107  \n",
       "cross_street           -0.052159        -0.022074        -0.013455  \n",
       "off_street             -0.019120        -0.002580         0.002863  \n",
       "total_injured          -0.002388         0.002188         0.001102  \n",
       "total_killed            0.001091         0.000477         0.000240  \n",
       "vehicle_1               0.020624         0.009022         0.004545  \n",
       "vehicle_2               0.132499         0.058050         0.029264  \n",
       "vehicle_3               0.961316         0.448525         0.225067  \n",
       "vehicle_4               0.423394         0.963723         0.515058  \n",
       "vehicle_5               0.214580         0.490537         0.973664  \n",
       "cause_vehicle_1         0.014457         0.006324         0.003186  \n",
       "cause_vehicle_2         0.110362         0.048277         0.024322  \n",
       "cause_vehicle_3         1.000000         0.437440         0.220384  \n",
       "cause_vehicle_4         0.437440         1.000000         0.503805  \n",
       "cause_vehicle_5         0.220384         0.503805         1.000000  "
      ]
     },
     "execution_count": 104,
     "metadata": {},
     "output_type": "execute_result"
    }
   ],
   "source": [
    "cols_with_missing_vals = mvc.columns[mvc.isnull().sum() > 0]\n",
    "missing_corr = mvc[cols_with_missing_vals].isnull().corr()\n",
    "\n",
    "missing_corr"
   ]
  },
  {
   "cell_type": "markdown",
   "metadata": {},
   "source": [
    "Each value is between \n",
    "−\n",
    "1\n",
    " and \n",
    "1\n",
    ", and represents the relationship between two columns. A number close to \n",
    "−\n",
    "1\n",
    " or \n",
    "1\n",
    " represents a strong relationship, where a number in the middle (close to \n",
    "0\n",
    ") represents a weak relationship.\n",
    "\n",
    "If you look closely, you can see a diagonal line of \n",
    "1\n",
    "s going from top left to bottom right. These values represent each columns relationship with itself, which of course is a perfect relationship. The values on the top/right of this \"line of \n",
    "1\n",
    "s\" mirror the values on the bottom/left of this line: The table actually repeats every value twice!\n",
    "\n",
    "Correlation tables can be hard to interpret. We can convert our table into a plot which will make this a lot easier. Let's see what this plot looks like:"
   ]
  },
  {
   "cell_type": "code",
   "execution_count": 105,
   "metadata": {},
   "outputs": [
    {
     "data": {
      "image/png": "[encoded data removed]",
      "text/plain": [
       "<Figure size 1440x1008 with 1 Axes>"
      ]
     },
     "metadata": {
      "needs_background": "light"
     },
     "output_type": "display_data"
    }
   ],
   "source": [
    "def plot_null_correlations(df):\n",
    "    # create a correlation matrix only for columns with at least\n",
    "    # one missing value\n",
    "    cols_with_missing_vals = df.columns[df.isnull().sum() > 0]\n",
    "    missing_corr = df[cols_with_missing_vals].isnull().corr()\n",
    "    \n",
    "    # create a mask to avoid repeated values and make\n",
    "    # the plot easier to read\n",
    "    missing_corr = missing_corr.iloc[1:, :-1]\n",
    "    mask = np.triu(np.ones_like(missing_corr), k=1)\n",
    "    \n",
    "    # plot a heatmap of the values\n",
    "    plt.figure(figsize=(20,14))\n",
    "    ax = sns.heatmap(missing_corr, vmin=-1, vmax=1, cbar=False,\n",
    "                     cmap='RdBu', mask=mask, annot=True)\n",
    "    \n",
    "    # format the text in the plot to make it easier to read\n",
    "    for text in ax.texts:\n",
    "        t = float(text.get_text())\n",
    "        if -0.05 < t < 0.01:\n",
    "            text.set_text('')\n",
    "        else:\n",
    "            text.set_text(round(t, 2))\n",
    "        text.set_fontsize('x-large')\n",
    "    plt.xticks(rotation=90, size='x-large')\n",
    "    plt.yticks(rotation=0, size='x-large')\n",
    "\n",
    "    plt.show()\n",
    "    \n",
    "veh_cols = [col for col in mvc.columns if 'vehicle' in col]\n",
    "\n",
    "plot_null_correlations(mvc[veh_cols])"
   ]
  },
  {
   "cell_type": "markdown",
   "metadata": {},
   "source": [
    "### Analyzing correlations in missing data\n",
    "\n",
    "The pairs of column names that make up the top five correlations are:\n",
    "\n",
    "- vehicle_1 and cause_vehicle_1\n",
    "- vehicle_2 and cause_vehicle_2\n",
    "- vehicle_3 and cause_vehicle_3\n",
    "- vehicle_4 and cause_vehicle_4\n",
    "- vehicle_5 and cause_vehicle_5\n",
    "\n",
    "If you think about it, this makes sense. When a vehicle is in an accident, there is likely to be a cause, and vice-versa.\n",
    "\n",
    "Let's explore the variations in missing values from these five pairs of columns. We'll create a dataframe that counts, for each pair:\n",
    "\n",
    "- The number of values where the vehicle is missing when the cause is not missing.\n",
    "- The number of values where the cause is missing when the vehicle is not missing"
   ]
  },
  {
   "cell_type": "code",
   "execution_count": 106,
   "metadata": {},
   "outputs": [
    {
     "data": {
      "text/html": [
       "<div>\n",
       "<style scoped>\n",
       "    .dataframe tbody tr th:only-of-type {\n",
       "        vertical-align: middle;\n",
       "    }\n",
       "\n",
       "    .dataframe tbody tr th {\n",
       "        vertical-align: top;\n",
       "    }\n",
       "\n",
       "    .dataframe thead th {\n",
       "        text-align: right;\n",
       "    }\n",
       "</style>\n",
       "<table border=\"1\" class=\"dataframe\">\n",
       "  <thead>\n",
       "    <tr style=\"text-align: right;\">\n",
       "      <th></th>\n",
       "      <th>v_number</th>\n",
       "      <th>vehicle_missing</th>\n",
       "      <th>cause_missing</th>\n",
       "    </tr>\n",
       "  </thead>\n",
       "  <tbody>\n",
       "    <tr>\n",
       "      <th>0</th>\n",
       "      <td>1</td>\n",
       "      <td>204</td>\n",
       "      <td>24</td>\n",
       "    </tr>\n",
       "    <tr>\n",
       "      <th>1</th>\n",
       "      <td>2</td>\n",
       "      <td>3793</td>\n",
       "      <td>223</td>\n",
       "    </tr>\n",
       "    <tr>\n",
       "      <th>2</th>\n",
       "      <td>3</td>\n",
       "      <td>242</td>\n",
       "      <td>24</td>\n",
       "    </tr>\n",
       "    <tr>\n",
       "      <th>3</th>\n",
       "      <td>4</td>\n",
       "      <td>50</td>\n",
       "      <td>3</td>\n",
       "    </tr>\n",
       "    <tr>\n",
       "      <th>4</th>\n",
       "      <td>5</td>\n",
       "      <td>10</td>\n",
       "      <td>0</td>\n",
       "    </tr>\n",
       "  </tbody>\n",
       "</table>\n",
       "</div>"
      ],
      "text/plain": [
       "   v_number  vehicle_missing  cause_missing\n",
       "0         1              204             24\n",
       "1         2             3793            223\n",
       "2         3              242             24\n",
       "3         4               50              3\n",
       "4         5               10              0"
      ]
     },
     "execution_count": 106,
     "metadata": {},
     "output_type": "execute_result"
    }
   ],
   "source": [
    "col_labels = ['v_number', 'vehicle_missing', 'cause_missing']\n",
    "\n",
    "vc_null_data = []\n",
    "\n",
    "for v in range(1,6):\n",
    "    v_col = 'vehicle_{}'.format(v)\n",
    "    c_col = 'cause_vehicle_{}'.format(v)\n",
    "    \n",
    "    v_null = (mvc[v_col].isnull() & ~mvc[c_col].isnull()).sum()\n",
    "    c_null = (~mvc[v_col].isnull() & mvc[c_col].isnull()).sum()\n",
    "    \n",
    "    vc_null_data.append([v, v_null, c_null])\n",
    "    \n",
    "\n",
    "vc_null_df = pd.DataFrame(vc_null_data, columns = col_labels)\n",
    "vc_null_df"
   ]
  },
  {
   "cell_type": "markdown",
   "metadata": {},
   "source": [
    "### Finding the most common values across multiple columns\n",
    "\n",
    "The analysis we did on the previous screen indicates that there are roughly 4,500 missing values across the 10 columns. The easiest option for handling these would be to drop the rows with missing values. This would mean losing almost 10% of the total data, which is something we ideally want to avoid.\n",
    "\n",
    "A better option is to impute the data, like we did earlier. Because the data in these columns is text data, we can't perform a numeric calculation to impute missing data like we did with the injuries and killed columns.\n",
    "\n",
    "One common option when imputing is to use the most common value to fill in data. Let's look at the common values across these columns and see if we can use that to make a decision.\n",
    "\n",
    "We've previously used the Series.value_counts() method to find the most common values in a single column. In this case, we want to find the most common values across multiple columns. In order to do this, we first need to convert our dataframe of multiple columns into one single column, and then we can use Series.value_counts() to count the items.\n",
    "\n",
    "To convert a dataframe to a single column of values, we use the DataFrame.stack() method, which stacks a dataframe object into a Series object. Let's look at a diagram of how this works. We'll start with a simple dataframe with three columns containing words:\n",
    "\n",
    "![img](img/stack_1.png)\n",
    "\n",
    "When we use DataFrame.stack(), the values become a series object, with the values from each row \"stacked\" on top of each other:\n",
    "\n",
    "![img](img/stack.png)\n",
    "\n",
    "This series object actually has two row indexes. The first index is the original row index, and the second contains the columns that correspond to the value.\n",
    "\n",
    "Once we have this stacked series, we can just use Series.value_counts() to count the values\n",
    "\n",
    "![img](img/count.png)\n",
    "\n",
    "Let's use this technique to count the most common values for the cause set of columns. We'll start by selecting only the columns containing the substring cause."
   ]
  },
  {
   "cell_type": "code",
   "execution_count": 107,
   "metadata": {},
   "outputs": [
    {
     "data": {
      "text/html": [
       "<div>\n",
       "<style scoped>\n",
       "    .dataframe tbody tr th:only-of-type {\n",
       "        vertical-align: middle;\n",
       "    }\n",
       "\n",
       "    .dataframe tbody tr th {\n",
       "        vertical-align: top;\n",
       "    }\n",
       "\n",
       "    .dataframe thead th {\n",
       "        text-align: right;\n",
       "    }\n",
       "</style>\n",
       "<table border=\"1\" class=\"dataframe\">\n",
       "  <thead>\n",
       "    <tr style=\"text-align: right;\">\n",
       "      <th></th>\n",
       "      <th>cause_vehicle_1</th>\n",
       "      <th>cause_vehicle_2</th>\n",
       "      <th>cause_vehicle_3</th>\n",
       "      <th>cause_vehicle_4</th>\n",
       "      <th>cause_vehicle_5</th>\n",
       "    </tr>\n",
       "  </thead>\n",
       "  <tbody>\n",
       "    <tr>\n",
       "      <th>0</th>\n",
       "      <td>Following Too Closely</td>\n",
       "      <td>Unspecified</td>\n",
       "      <td>NaN</td>\n",
       "      <td>NaN</td>\n",
       "      <td>NaN</td>\n",
       "    </tr>\n",
       "    <tr>\n",
       "      <th>1</th>\n",
       "      <td>Backing Unsafely</td>\n",
       "      <td>Unspecified</td>\n",
       "      <td>NaN</td>\n",
       "      <td>NaN</td>\n",
       "      <td>NaN</td>\n",
       "    </tr>\n",
       "    <tr>\n",
       "      <th>2</th>\n",
       "      <td>Following Too Closely</td>\n",
       "      <td>Unspecified</td>\n",
       "      <td>NaN</td>\n",
       "      <td>NaN</td>\n",
       "      <td>NaN</td>\n",
       "    </tr>\n",
       "    <tr>\n",
       "      <th>3</th>\n",
       "      <td>Glare</td>\n",
       "      <td>Passing Too Closely</td>\n",
       "      <td>NaN</td>\n",
       "      <td>NaN</td>\n",
       "      <td>NaN</td>\n",
       "    </tr>\n",
       "    <tr>\n",
       "      <th>4</th>\n",
       "      <td>Turning Improperly</td>\n",
       "      <td>Unspecified</td>\n",
       "      <td>NaN</td>\n",
       "      <td>NaN</td>\n",
       "      <td>NaN</td>\n",
       "    </tr>\n",
       "  </tbody>\n",
       "</table>\n",
       "</div>"
      ],
      "text/plain": [
       "         cause_vehicle_1      cause_vehicle_2 cause_vehicle_3 cause_vehicle_4  \\\n",
       "0  Following Too Closely          Unspecified             NaN             NaN   \n",
       "1       Backing Unsafely          Unspecified             NaN             NaN   \n",
       "2  Following Too Closely          Unspecified             NaN             NaN   \n",
       "3                  Glare  Passing Too Closely             NaN             NaN   \n",
       "4     Turning Improperly          Unspecified             NaN             NaN   \n",
       "\n",
       "  cause_vehicle_5  \n",
       "0             NaN  \n",
       "1             NaN  \n",
       "2             NaN  \n",
       "3             NaN  \n",
       "4             NaN  "
      ]
     },
     "execution_count": 107,
     "metadata": {},
     "output_type": "execute_result"
    }
   ],
   "source": [
    "cause_cols = [c for c in mvc.columns if \"cause_\" in c]\n",
    "cause = mvc[cause_cols]\n",
    "\n",
    "cause.head()"
   ]
  },
  {
   "cell_type": "code",
   "execution_count": 108,
   "metadata": {},
   "outputs": [
    {
     "data": {
      "text/plain": [
       "0  cause_vehicle_1    Following Too Closely\n",
       "   cause_vehicle_2              Unspecified\n",
       "1  cause_vehicle_1         Backing Unsafely\n",
       "   cause_vehicle_2              Unspecified\n",
       "2  cause_vehicle_1    Following Too Closely\n",
       "dtype: object"
      ]
     },
     "execution_count": 108,
     "metadata": {},
     "output_type": "execute_result"
    }
   ],
   "source": [
    "cause_1d = cause.stack()\n",
    "\n",
    "cause_1d.head()"
   ]
  },
  {
   "cell_type": "markdown",
   "metadata": {},
   "source": [
    "You may notice that the stacked version omits null values - this is fine, as we're just interested in the most common non-null values.\n",
    "\n",
    "Finally, we count the values in the series:"
   ]
  },
  {
   "cell_type": "code",
   "execution_count": 109,
   "metadata": {},
   "outputs": [
    {
     "data": {
      "text/plain": [
       "Unspecified                       57481\n",
       "Driver Inattention/Distraction    17650\n",
       "Following Too Closely              6567\n",
       "Failure to Yield Right-of-Way      4566\n",
       "Passing or Lane Usage Improper     3260\n",
       "Passing Too Closely                3045\n",
       "Backing Unsafely                   3001\n",
       "Other Vehicular                    2523\n",
       "Unsafe Lane Changing               2372\n",
       "Turning Improperly                 1590\n",
       "dtype: int64"
      ]
     },
     "execution_count": 109,
     "metadata": {},
     "output_type": "execute_result"
    }
   ],
   "source": [
    "cause_counts = cause_1d.value_counts()\n",
    "top10_causes = cause_counts.head(10)\n",
    "top10_causes"
   ]
  },
  {
   "cell_type": "markdown",
   "metadata": {},
   "source": [
    "The most common non-null value for the cause columns is Unspecified, which presumably indicates that the officer reporting the collision was unable to determine the cause for that vehicle.\n",
    "\n",
    "Let's use the same technique to identify the most common non-null value for the vehicle columns."
   ]
  },
  {
   "cell_type": "code",
   "execution_count": 110,
   "metadata": {},
   "outputs": [
    {
     "data": {
      "text/plain": [
       "Sedan                                  33133\n",
       "Station Wagon/Sport Utility Vehicle    26124\n",
       "PASSENGER VEHICLE                      16026\n",
       "SPORT UTILITY / STATION WAGON          12356\n",
       "Taxi                                    3482\n",
       "Pick-up Truck                           2373\n",
       "TAXI                                    1892\n",
       "Box Truck                               1659\n",
       "Bike                                    1190\n",
       "Bus                                     1162\n",
       "dtype: int64"
      ]
     },
     "execution_count": 110,
     "metadata": {},
     "output_type": "execute_result"
    }
   ],
   "source": [
    "v_cols = [c for c in mvc.columns if c.startswith(\"vehicle\")]\n",
    "\n",
    "df = mvc[v_cols]\n",
    "ser = df.stack()\n",
    "\n",
    "top10_vehicles = ser.value_counts().head(10)\n",
    "top10_vehicles"
   ]
  },
  {
   "cell_type": "markdown",
   "metadata": {},
   "source": [
    "The top \"cause\" is an \"Unspecified\" placeholder. This is useful instead of a null value as it makes the distinction between a value that is missing because there were only a certain number of vehicles in the collision versus one that is because the contributing cause for a particular vehicle is unknown.\n",
    "\n",
    "The vehicles columns don't have an equivalent, but we can still use the same technique. Here's the logic we'll need to do for each pair of vehicle/cause columns:\n",
    "\n",
    "1. For values where the vehicle is null and the cause is non-null, set the vehicle to Unspecified.\n",
    "2. For values where the cause is null and the vehicle is not-null, set the cause to Unspecified.\n",
    "\n",
    "We can use Series.mask() to replace the values, just like we did earlier in the mission. Let's look at code to perform this for the vehicle_1 and vehicle_cause_1 columns:"
   ]
  },
  {
   "cell_type": "code",
   "execution_count": 111,
   "metadata": {},
   "outputs": [],
   "source": [
    "# create a mask for each column\n",
    "v_missing_mask = mvc['vehicle_1'].isnull() & mvc['cause_vehicle_1'].notnull()\n",
    "c_missing_mask = mvc['cause_vehicle_1'].isnull() & mvc['vehicle_1'].notnull()\n",
    "\n",
    "# replace the values matching the mask for each column\n",
    "mvc['vehicle_1'] =  mvc['vehicle_1'].mask(v_missing_mask, \"Unspecified\")\n",
    "mvc['cause_vehicle_1'] =  mvc['cause_vehicle_1'].mask(c_missing_mask, \"Unspecified\")"
   ]
  },
  {
   "cell_type": "markdown",
   "metadata": {},
   "source": [
    "Now let's use a loop to fill in these values across all columns."
   ]
  },
  {
   "cell_type": "code",
   "execution_count": 112,
   "metadata": {},
   "outputs": [],
   "source": [
    "def summarize_missing():\n",
    "    v_missing_data = []\n",
    "\n",
    "    for v in range(1,6):\n",
    "        v_col = 'vehicle_{}'.format(v)\n",
    "        c_col = 'cause_vehicle_{}'.format(v)\n",
    "\n",
    "        v_missing = (mvc[v_col].isnull() & mvc[c_col].notnull()).sum()\n",
    "        c_missing = (mvc[c_col].isnull() & mvc[v_col].notnull()).sum()\n",
    "\n",
    "        v_missing_data.append([v, v_missing, c_missing])\n",
    "\n",
    "    col_labels = columns=[\"vehicle_number\", \"vehicle_missing\", \"cause_missing\"]\n",
    "    return pd.DataFrame(v_missing_data, columns=col_labels)"
   ]
  },
  {
   "cell_type": "code",
   "execution_count": 113,
   "metadata": {},
   "outputs": [
    {
     "data": {
      "text/html": [
       "<div>\n",
       "<style scoped>\n",
       "    .dataframe tbody tr th:only-of-type {\n",
       "        vertical-align: middle;\n",
       "    }\n",
       "\n",
       "    .dataframe tbody tr th {\n",
       "        vertical-align: top;\n",
       "    }\n",
       "\n",
       "    .dataframe thead th {\n",
       "        text-align: right;\n",
       "    }\n",
       "</style>\n",
       "<table border=\"1\" class=\"dataframe\">\n",
       "  <thead>\n",
       "    <tr style=\"text-align: right;\">\n",
       "      <th></th>\n",
       "      <th>vehicle_number</th>\n",
       "      <th>vehicle_missing</th>\n",
       "      <th>cause_missing</th>\n",
       "    </tr>\n",
       "  </thead>\n",
       "  <tbody>\n",
       "    <tr>\n",
       "      <th>0</th>\n",
       "      <td>1</td>\n",
       "      <td>0</td>\n",
       "      <td>0</td>\n",
       "    </tr>\n",
       "    <tr>\n",
       "      <th>1</th>\n",
       "      <td>2</td>\n",
       "      <td>3793</td>\n",
       "      <td>223</td>\n",
       "    </tr>\n",
       "    <tr>\n",
       "      <th>2</th>\n",
       "      <td>3</td>\n",
       "      <td>242</td>\n",
       "      <td>24</td>\n",
       "    </tr>\n",
       "    <tr>\n",
       "      <th>3</th>\n",
       "      <td>4</td>\n",
       "      <td>50</td>\n",
       "      <td>3</td>\n",
       "    </tr>\n",
       "    <tr>\n",
       "      <th>4</th>\n",
       "      <td>5</td>\n",
       "      <td>10</td>\n",
       "      <td>0</td>\n",
       "    </tr>\n",
       "  </tbody>\n",
       "</table>\n",
       "</div>"
      ],
      "text/plain": [
       "   vehicle_number  vehicle_missing  cause_missing\n",
       "0               1                0              0\n",
       "1               2             3793            223\n",
       "2               3              242             24\n",
       "3               4               50              3\n",
       "4               5               10              0"
      ]
     },
     "execution_count": 113,
     "metadata": {},
     "output_type": "execute_result"
    }
   ],
   "source": [
    "summary_before = summarize_missing()\n",
    "summary_before"
   ]
  },
  {
   "cell_type": "code",
   "execution_count": 114,
   "metadata": {},
   "outputs": [],
   "source": [
    "for v in range(1,6):\n",
    "    v_col = 'vehicle_{}'.format(v)\n",
    "    c_col = 'cause_vehicle_{}'.format(v)\n",
    "    \n",
    "    v_missing_mask = mvc[v_col].isnull() & mvc[c_col].notnull()\n",
    "    c_missing_mask = mvc[c_col].isnull() & mvc[v_col].notnull()\n",
    "    \n",
    "    mvc[v_col] = mvc[v_col].mask(v_missing_mask, 'Unspecified')\n",
    "    mvc[c_col] = mvc[c_col].mask(c_missing_mask, 'Unspecified')"
   ]
  },
  {
   "cell_type": "code",
   "execution_count": 115,
   "metadata": {},
   "outputs": [
    {
     "data": {
      "text/html": [
       "<div>\n",
       "<style scoped>\n",
       "    .dataframe tbody tr th:only-of-type {\n",
       "        vertical-align: middle;\n",
       "    }\n",
       "\n",
       "    .dataframe tbody tr th {\n",
       "        vertical-align: top;\n",
       "    }\n",
       "\n",
       "    .dataframe thead th {\n",
       "        text-align: right;\n",
       "    }\n",
       "</style>\n",
       "<table border=\"1\" class=\"dataframe\">\n",
       "  <thead>\n",
       "    <tr style=\"text-align: right;\">\n",
       "      <th></th>\n",
       "      <th>vehicle_number</th>\n",
       "      <th>vehicle_missing</th>\n",
       "      <th>cause_missing</th>\n",
       "    </tr>\n",
       "  </thead>\n",
       "  <tbody>\n",
       "    <tr>\n",
       "      <th>0</th>\n",
       "      <td>1</td>\n",
       "      <td>0</td>\n",
       "      <td>0</td>\n",
       "    </tr>\n",
       "    <tr>\n",
       "      <th>1</th>\n",
       "      <td>2</td>\n",
       "      <td>0</td>\n",
       "      <td>0</td>\n",
       "    </tr>\n",
       "    <tr>\n",
       "      <th>2</th>\n",
       "      <td>3</td>\n",
       "      <td>0</td>\n",
       "      <td>0</td>\n",
       "    </tr>\n",
       "    <tr>\n",
       "      <th>3</th>\n",
       "      <td>4</td>\n",
       "      <td>0</td>\n",
       "      <td>0</td>\n",
       "    </tr>\n",
       "    <tr>\n",
       "      <th>4</th>\n",
       "      <td>5</td>\n",
       "      <td>0</td>\n",
       "      <td>0</td>\n",
       "    </tr>\n",
       "  </tbody>\n",
       "</table>\n",
       "</div>"
      ],
      "text/plain": [
       "   vehicle_number  vehicle_missing  cause_missing\n",
       "0               1                0              0\n",
       "1               2                0              0\n",
       "2               3                0              0\n",
       "3               4                0              0\n",
       "4               5                0              0"
      ]
     },
     "execution_count": 115,
     "metadata": {},
     "output_type": "execute_result"
    }
   ],
   "source": [
    "summary_after = summarize_missing()\n",
    "summary_after"
   ]
  },
  {
   "cell_type": "markdown",
   "metadata": {},
   "source": [
    "Let's view the work we've done across the past few screens by looking at the null correlation plot for the last 10 columns:"
   ]
  },
  {
   "cell_type": "code",
   "execution_count": 116,
   "metadata": {},
   "outputs": [
    {
     "data": {
      "image/png": "[encoded data removed]",
      "text/plain": [
       "<Figure size 1440x1008 with 1 Axes>"
      ]
     },
     "metadata": {
      "needs_background": "light"
     },
     "output_type": "display_data"
    }
   ],
   "source": [
    "veh_cols = [c for c in mvc.columns if 'vehicle' in c]\n",
    "\n",
    "plot_null_correlations(mvc[veh_cols])"
   ]
  },
  {
   "cell_type": "markdown",
   "metadata": {},
   "source": [
    "You can see the perfect correlation between each pair of vehicle/cause columns represented by \n",
    "1.0\n",
    " in each square, which means that there is a perfect relationship between the five pairs of vehicle/cause columns."
   ]
  },
  {
   "cell_type": "markdown",
   "metadata": {},
   "source": [
    "### Missing data in the 'Location' columns\n",
    "\n",
    "Let's now turn our focus to the final set of columns that contain missing values — the columns that relate to the location of the accident. We'll start by looking at the first few rows to refamiliarize ourselves with the data:"
   ]
  },
  {
   "cell_type": "code",
   "execution_count": 117,
   "metadata": {},
   "outputs": [
    {
     "data": {
      "text/html": [
       "<div>\n",
       "<style scoped>\n",
       "    .dataframe tbody tr th:only-of-type {\n",
       "        vertical-align: middle;\n",
       "    }\n",
       "\n",
       "    .dataframe tbody tr th {\n",
       "        vertical-align: top;\n",
       "    }\n",
       "\n",
       "    .dataframe thead th {\n",
       "        text-align: right;\n",
       "    }\n",
       "</style>\n",
       "<table border=\"1\" class=\"dataframe\">\n",
       "  <thead>\n",
       "    <tr style=\"text-align: right;\">\n",
       "      <th></th>\n",
       "      <th>borough</th>\n",
       "      <th>location</th>\n",
       "      <th>on_street</th>\n",
       "      <th>off_street</th>\n",
       "      <th>cross_street</th>\n",
       "    </tr>\n",
       "  </thead>\n",
       "  <tbody>\n",
       "    <tr>\n",
       "      <th>0</th>\n",
       "      <td>MANHATTAN</td>\n",
       "      <td>(40.742832, -74.00771)</td>\n",
       "      <td>WEST 15 STREET</td>\n",
       "      <td>NaN</td>\n",
       "      <td>10 AVENUE</td>\n",
       "    </tr>\n",
       "    <tr>\n",
       "      <th>1</th>\n",
       "      <td>BROOKLYN</td>\n",
       "      <td>(40.623714, -73.99314)</td>\n",
       "      <td>16 AVENUE</td>\n",
       "      <td>NaN</td>\n",
       "      <td>62 STREET</td>\n",
       "    </tr>\n",
       "    <tr>\n",
       "      <th>2</th>\n",
       "      <td>NaN</td>\n",
       "      <td>(40.591755, -73.9083)</td>\n",
       "      <td>BELT PARKWAY</td>\n",
       "      <td>NaN</td>\n",
       "      <td>NaN</td>\n",
       "    </tr>\n",
       "    <tr>\n",
       "      <th>3</th>\n",
       "      <td>QUEENS</td>\n",
       "      <td>(40.73602, -73.87954)</td>\n",
       "      <td>GRAND AVENUE</td>\n",
       "      <td>NaN</td>\n",
       "      <td>VANLOON STREET</td>\n",
       "    </tr>\n",
       "    <tr>\n",
       "      <th>4</th>\n",
       "      <td>BRONX</td>\n",
       "      <td>(40.884727, -73.89945)</td>\n",
       "      <td>NaN</td>\n",
       "      <td>208       WEST 238 STREET</td>\n",
       "      <td>NaN</td>\n",
       "    </tr>\n",
       "  </tbody>\n",
       "</table>\n",
       "</div>"
      ],
      "text/plain": [
       "     borough                location                         on_street  \\\n",
       "0  MANHATTAN  (40.742832, -74.00771)  WEST 15 STREET                     \n",
       "1   BROOKLYN  (40.623714, -73.99314)  16 AVENUE                          \n",
       "2        NaN   (40.591755, -73.9083)  BELT PARKWAY                       \n",
       "3     QUEENS   (40.73602, -73.87954)  GRAND AVENUE                       \n",
       "4      BRONX  (40.884727, -73.89945)                               NaN   \n",
       "\n",
       "                                 off_street    cross_street  \n",
       "0                                       NaN       10 AVENUE  \n",
       "1                                       NaN       62 STREET  \n",
       "2                                       NaN             NaN  \n",
       "3                                       NaN  VANLOON STREET  \n",
       "4  208       WEST 238 STREET                            NaN  "
      ]
     },
     "execution_count": 117,
     "metadata": {},
     "output_type": "execute_result"
    }
   ],
   "source": [
    "loc_cols = ['borough', 'location', 'on_street', 'off_street', 'cross_street']\n",
    "location_data = mvc[loc_cols]\n",
    "\n",
    "location_data.head()"
   ]
  },
  {
   "cell_type": "markdown",
   "metadata": {},
   "source": [
    "Next, let's look at counts of the null values in each column:"
   ]
  },
  {
   "cell_type": "code",
   "execution_count": 118,
   "metadata": {},
   "outputs": [
    {
     "name": "stdout",
     "output_type": "stream",
     "text": [
      "borough         20646\n",
      "location         3885\n",
      "on_street       13961\n",
      "off_street      44093\n",
      "cross_street    29249\n",
      "dtype: int64\n"
     ]
    }
   ],
   "source": [
    "print(location_data.isnull().sum())"
   ]
  },
  {
   "cell_type": "markdown",
   "metadata": {},
   "source": [
    "These columns have a lot of missing values! Keep in mind that all of these five columns represent the same thing — the location of the collision. We can potentially use the non-null values to impute some of the null values.\n",
    "\n",
    "To see where we might be able to do this, let's look for correlations between the missing values:"
   ]
  },
  {
   "cell_type": "code",
   "execution_count": 119,
   "metadata": {},
   "outputs": [
    {
     "data": {
      "image/png": "[encoded data removed]",
      "text/plain": [
       "<Figure size 1440x1008 with 1 Axes>"
      ]
     },
     "metadata": {
      "needs_background": "light"
     },
     "output_type": "display_data"
    }
   ],
   "source": [
    "plot_null_correlations(location_data)"
   ]
  },
  {
   "cell_type": "markdown",
   "metadata": {},
   "source": [
    "None of these columns have strong correlations except for off_street and on_street which have a near perfect negative correlation. That means for almost every row that has a null value in one column, the other has a non-null value and vice-versa.\n",
    "\n",
    "The final way we'll look at the null values in these columns is to plot a null matrix, but we'll sort the data first. This will gather some of the null and non-null values together and make patterns more obvious:"
   ]
  },
  {
   "cell_type": "code",
   "execution_count": 120,
   "metadata": {},
   "outputs": [
    {
     "data": {
      "image/png": "[encoded data removed]",
      "text/plain": [
       "<Figure size 1296x1080 with 1 Axes>"
      ]
     },
     "metadata": {
      "needs_background": "light"
     },
     "output_type": "display_data"
    }
   ],
   "source": [
    "sorted_location_data = location_data.sort_values(loc_cols)\n",
    "\n",
    "plot_null_matrix(sorted_location_data)"
   ]
  },
  {
   "cell_type": "markdown",
   "metadata": {},
   "source": [
    "et's make some observations about the missing values across these columns:\n",
    "\n",
    "1. About two-thirds of rows have non-null values for borough, but of those values that are missing, most have non-null values for location and one or more of the street name columns.\n",
    "2. Less than one-tenth of rows have missing values in the location column, but most of these have non-null values in one or more of the street name columns.\n",
    "3. Most rows have a non-null value for either on_street or off_street, and some also have a value for cross_street.\n",
    "\n",
    "Combined, this means that we will be able to impute a lot of the missing values by using the other columns in each row. To do this, we can use geolocation APIs that take either an address or location coordinates, and return information about that location.\n",
    "\n",
    "Because the focus of this mission is working with missing data, we have pre-prepared supplemental data using APIs. On the next screen, we'll learn more about how that data was prepared and then use it to fill in missing values."
   ]
  },
  {
   "cell_type": "markdown",
   "metadata": {},
   "source": [
    "### Imputing location data\n",
    "\n",
    "We prepared the supplemental data using the GeoPy package, which makes working with Geocoding APIs like the Google Maps API easier. Here's the strategy we used to prepare the supplemental data:\n",
    "\n",
    "For rows with location values but missing values in either borough or the street name columns, we used geocoding APIs to look up the location coordinates to find the missing data.\n",
    "For rows with values in the street name columns missing borough and/or location data, we used geocoding APIs to look up the address to find the missing data.\n",
    "\n",
    "The supplemental data is in a CSV called supplemental_data.csv, let's read this into a pandas dataframe and familiarize ourself with the data:"
   ]
  },
  {
   "cell_type": "code",
   "execution_count": 121,
   "metadata": {},
   "outputs": [
    {
     "data": {
      "text/html": [
       "<div>\n",
       "<style scoped>\n",
       "    .dataframe tbody tr th:only-of-type {\n",
       "        vertical-align: middle;\n",
       "    }\n",
       "\n",
       "    .dataframe tbody tr th {\n",
       "        vertical-align: top;\n",
       "    }\n",
       "\n",
       "    .dataframe thead th {\n",
       "        text-align: right;\n",
       "    }\n",
       "</style>\n",
       "<table border=\"1\" class=\"dataframe\">\n",
       "  <thead>\n",
       "    <tr style=\"text-align: right;\">\n",
       "      <th></th>\n",
       "      <th>unique_key</th>\n",
       "      <th>location</th>\n",
       "      <th>on_street</th>\n",
       "      <th>off_street</th>\n",
       "      <th>borough</th>\n",
       "    </tr>\n",
       "  </thead>\n",
       "  <tbody>\n",
       "    <tr>\n",
       "      <th>0</th>\n",
       "      <td>3869058</td>\n",
       "      <td>NaN</td>\n",
       "      <td>NaN</td>\n",
       "      <td>NaN</td>\n",
       "      <td>NaN</td>\n",
       "    </tr>\n",
       "    <tr>\n",
       "      <th>1</th>\n",
       "      <td>3847947</td>\n",
       "      <td>NaN</td>\n",
       "      <td>NaN</td>\n",
       "      <td>NaN</td>\n",
       "      <td>NaN</td>\n",
       "    </tr>\n",
       "    <tr>\n",
       "      <th>2</th>\n",
       "      <td>3914294</td>\n",
       "      <td>NaN</td>\n",
       "      <td>BELT PARKWAY</td>\n",
       "      <td>NaN</td>\n",
       "      <td>BROOKLYN</td>\n",
       "    </tr>\n",
       "    <tr>\n",
       "      <th>3</th>\n",
       "      <td>3915069</td>\n",
       "      <td>NaN</td>\n",
       "      <td>NaN</td>\n",
       "      <td>NaN</td>\n",
       "      <td>NaN</td>\n",
       "    </tr>\n",
       "    <tr>\n",
       "      <th>4</th>\n",
       "      <td>3923123</td>\n",
       "      <td>NaN</td>\n",
       "      <td>NaN</td>\n",
       "      <td>NaN</td>\n",
       "      <td>NaN</td>\n",
       "    </tr>\n",
       "  </tbody>\n",
       "</table>\n",
       "</div>"
      ],
      "text/plain": [
       "   unique_key location     on_street off_street   borough\n",
       "0     3869058      NaN           NaN        NaN       NaN\n",
       "1     3847947      NaN           NaN        NaN       NaN\n",
       "2     3914294      NaN  BELT PARKWAY        NaN  BROOKLYN\n",
       "3     3915069      NaN           NaN        NaN       NaN\n",
       "4     3923123      NaN           NaN        NaN       NaN"
      ]
     },
     "execution_count": 121,
     "metadata": {},
     "output_type": "execute_result"
    }
   ],
   "source": [
    "sup_data = pd.read_csv('supplemental_data.csv')\n",
    "sup_data.head()"
   ]
  },
  {
   "cell_type": "markdown",
   "metadata": {},
   "source": [
    "The supplemental data has five columns from our original data set — the unique_key that identifies each collision, and four of the five location columns. The cross_street column is not included because the geocoding APIs we used don't include data on the nearest cross street to any single location.\n",
    "\n",
    "Let's take a look at a null matrix for the supplemental data:"
   ]
  },
  {
   "cell_type": "code",
   "execution_count": 122,
   "metadata": {},
   "outputs": [
    {
     "data": {
      "image/png": "[encoded data removed]",
      "text/plain": [
       "<Figure size 1296x1080 with 1 Axes>"
      ]
     },
     "metadata": {
      "needs_background": "light"
     },
     "output_type": "display_data"
    }
   ],
   "source": [
    "plot_null_matrix(sup_data)"
   ]
  },
  {
   "cell_type": "markdown",
   "metadata": {},
   "source": [
    "Apart from the unique_key column, you'll notice that there are a lot more missing values than our main data set. This makes sense, as we didn't prepare supplemental data where the original data set had non-null values.\n",
    "\n",
    "If the unique_key column in both the original and supplemental data has the same values in the same order, we'll be able to use Series.mask() to add our supplemental data to our original data. We can check this using the Series.equals() method:"
   ]
  },
  {
   "cell_type": "code",
   "execution_count": 123,
   "metadata": {},
   "outputs": [
    {
     "name": "stdout",
     "output_type": "stream",
     "text": [
      "True\n"
     ]
    }
   ],
   "source": [
    "mvc_keys = mvc['unique_key']\n",
    "sup_keys = sup_data['unique_key']\n",
    "\n",
    "is_equal = mvc_keys.equals(sup_keys)\n",
    "print(is_equal)"
   ]
  },
  {
   "cell_type": "markdown",
   "metadata": {},
   "source": [
    "Now that we've verified the data, it's time to use it to impute missing values."
   ]
  },
  {
   "cell_type": "code",
   "execution_count": 124,
   "metadata": {},
   "outputs": [
    {
     "name": "stdout",
     "output_type": "stream",
     "text": [
      "location       3885\n",
      "on_street     13961\n",
      "off_street    44093\n",
      "borough       20646\n",
      "dtype: int64 \n",
      "\n",
      "location         77\n",
      "on_street     13734\n",
      "off_street    36131\n",
      "borough         232\n",
      "dtype: int64\n"
     ]
    }
   ],
   "source": [
    "location_cols = ['location', 'on_street', 'off_street', 'borough']\n",
    "null_before = mvc[location_cols].isnull().sum()\n",
    "print(null_before, '\\n')\n",
    "\n",
    "for lc in location_cols:\n",
    "    null_mask = mvc[lc].isnull()\n",
    "    mvc[lc] = mvc[lc].mask(null_mask, sup_data[lc])\n",
    "    \n",
    "null_after = mvc[location_cols].isnull().sum()\n",
    "print(null_after)"
   ]
  },
  {
   "cell_type": "markdown",
   "metadata": {},
   "source": [
    "In this mission, we've imputed thousands of values to reduce the number of missing values across our data set. Let's look at a summary of the null values before and after our data cleaning:\n",
    "\n",
    "![img](img/table.png)"
   ]
  }
 ],
 "metadata": {
  "kernelspec": {
   "display_name": "Python 3",
   "language": "python",
   "name": "python3"
  },
  "language_info": {
   "codemirror_mode": {
    "name": "ipython",
    "version": 3
   },
   "file_extension": ".py",
   "mimetype": "text/x-python",
   "name": "python",
   "nbconvert_exporter": "python",
   "pygments_lexer": "ipython3",
   "version": "3.8.5"
  }
 },
 "nbformat": 4,
 "nbformat_minor": 4
}
