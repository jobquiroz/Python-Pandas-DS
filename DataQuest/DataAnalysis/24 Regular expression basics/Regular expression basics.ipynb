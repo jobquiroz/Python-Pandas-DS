{
 "cells": [
  {
   "cell_type": "markdown",
   "metadata": {},
   "source": [
    "Regular expressions are a powerful way of building patterns to match text. In the first two missions of this Data Cleaning Advanced course, we're going to extend our knowledge about this extremely powerful tool that every data scientist should be familiar with.\n",
    "\n",
    "As powerful as regular expressions are, they can be difficult to learn at first and the syntax can look visually intimidating. As a result, a lot of students end up disliking regular expressions and try to avoid using them, instead opting to write more cumbersome code.\n",
    "\n",
    "![img](img/reg_ex.png)\n",
    "\n",
    "\n",
    "That said, learning (and loving!) regular expressions is something that is a worthwhile investment\n",
    "\n",
    "- Once you understand how they work, complex operations with string data can be written a lot quicker, which will save you time.\n",
    "- Regular expressions are often faster to execute than their manual equivalents.\n",
    "- Regular expressions are supported in almost every modern programming language, as well as other places like command line utilities and databases. Understanding regular expressions gives you a powerful tool that you can use wherever you work with data.\n",
    "\n",
    "\n",
    "We could probably fill a whole Dataquest course with the intricacies of regular expressions, but instead we're going to give you a two-mission tour of the main components.\n",
    "\n",
    "One thing to keep in mind before we start: **don't expect to remember all of the regular expression syntax**. The most important thing is to **understand the core principles**, what is possible, and where to look up the details. This will mean you can quickly jog your memory whenever you need regular expressions.\n",
    "\n",
    "With that in mind, don't be put off if some things in these missions don't stick in your memory. As long as you are able to write and understand regular expressions with the help of documentation and/or other reference guides, you have all the skills you need to excel.\n",
    "\n",
    "We'll be learning regular expressions while performing analysis on a dataset of submissions to popular technology site Hacker News.\n",
    "\n",
    "![img](img/hacker.png)\n",
    "\n",
    "\n",
    "Hacker News is a site started by the startup incubator Y Combinator, where user-submitted stories (known as \"stories\") are voted and commented upon, similar to reddit. Hacker News is extremely popular in technology and startup circles; stories that make it to the top of Hacker News' listings can get hundreds of thousands of visitors.\n",
    "\n",
    "The dataset we will be working with is based off this CSV of Hacker News stories from September 2015 to September 2016. The columns in the dataset are explained below:\n",
    "\n",
    "- id: The unique identifier from Hacker News for the story\n",
    "- title: The title of the story\n",
    "- url: The URL that the stories links to, if the story has a URL\n",
    "- num_points: The number of points the story acquired, calculated as the total number of upvotes minus the total number of downvotes\n",
    "- num_comments: The number of comments that were made on the story\n",
    "- author: The username of the person who submitted the story\n",
    "- created_at: The date and time at which the story was submitted\n",
    "\n",
    "For teaching purposes, we have reduced the dataset from the almost 300,000 rows in its original form to approximately 20,000 rows by removing all submissions that did not receive any comments, and then randomly sampling from the remaining submissions. You can download the modified dataset using the dataset preview tool.\n",
    "\n",
    "Let's start by reading our Hacker News dataset into a pandas dataframe."
   ]
  },
  {
   "cell_type": "code",
   "execution_count": 1,
   "metadata": {},
   "outputs": [
    {
     "data": {
      "text/html": [
       "<div>\n",
       "<style scoped>\n",
       "    .dataframe tbody tr th:only-of-type {\n",
       "        vertical-align: middle;\n",
       "    }\n",
       "\n",
       "    .dataframe tbody tr th {\n",
       "        vertical-align: top;\n",
       "    }\n",
       "\n",
       "    .dataframe thead th {\n",
       "        text-align: right;\n",
       "    }\n",
       "</style>\n",
       "<table border=\"1\" class=\"dataframe\">\n",
       "  <thead>\n",
       "    <tr style=\"text-align: right;\">\n",
       "      <th></th>\n",
       "      <th>id</th>\n",
       "      <th>title</th>\n",
       "      <th>url</th>\n",
       "      <th>num_points</th>\n",
       "      <th>num_comments</th>\n",
       "      <th>author</th>\n",
       "      <th>created_at</th>\n",
       "    </tr>\n",
       "  </thead>\n",
       "  <tbody>\n",
       "    <tr>\n",
       "      <th>0</th>\n",
       "      <td>12224879</td>\n",
       "      <td>Interactive Dynamic Video</td>\n",
       "      <td>http://www.interactivedynamicvideo.com/</td>\n",
       "      <td>386</td>\n",
       "      <td>52</td>\n",
       "      <td>ne0phyte</td>\n",
       "      <td>8/4/2016 11:52</td>\n",
       "    </tr>\n",
       "    <tr>\n",
       "      <th>1</th>\n",
       "      <td>11964716</td>\n",
       "      <td>Florida DJs May Face Felony for April Fools' W...</td>\n",
       "      <td>http://www.thewire.com/entertainment/2013/04/f...</td>\n",
       "      <td>2</td>\n",
       "      <td>1</td>\n",
       "      <td>vezycash</td>\n",
       "      <td>6/23/2016 22:20</td>\n",
       "    </tr>\n",
       "    <tr>\n",
       "      <th>2</th>\n",
       "      <td>11919867</td>\n",
       "      <td>Technology ventures: From Idea to Enterprise</td>\n",
       "      <td>https://www.amazon.com/Technology-Ventures-Ent...</td>\n",
       "      <td>3</td>\n",
       "      <td>1</td>\n",
       "      <td>hswarna</td>\n",
       "      <td>6/17/2016 0:01</td>\n",
       "    </tr>\n",
       "    <tr>\n",
       "      <th>3</th>\n",
       "      <td>10301696</td>\n",
       "      <td>Note by Note: The Making of Steinway L1037 (2007)</td>\n",
       "      <td>http://www.nytimes.com/2007/11/07/movies/07ste...</td>\n",
       "      <td>8</td>\n",
       "      <td>2</td>\n",
       "      <td>walterbell</td>\n",
       "      <td>9/30/2015 4:12</td>\n",
       "    </tr>\n",
       "    <tr>\n",
       "      <th>4</th>\n",
       "      <td>10482257</td>\n",
       "      <td>Title II kills investment? Comcast and other I...</td>\n",
       "      <td>http://arstechnica.com/business/2015/10/comcas...</td>\n",
       "      <td>53</td>\n",
       "      <td>22</td>\n",
       "      <td>Deinos</td>\n",
       "      <td>10/31/2015 9:48</td>\n",
       "    </tr>\n",
       "  </tbody>\n",
       "</table>\n",
       "</div>"
      ],
      "text/plain": [
       "         id                                              title  \\\n",
       "0  12224879                          Interactive Dynamic Video   \n",
       "1  11964716  Florida DJs May Face Felony for April Fools' W...   \n",
       "2  11919867       Technology ventures: From Idea to Enterprise   \n",
       "3  10301696  Note by Note: The Making of Steinway L1037 (2007)   \n",
       "4  10482257  Title II kills investment? Comcast and other I...   \n",
       "\n",
       "                                                 url  num_points  \\\n",
       "0            http://www.interactivedynamicvideo.com/         386   \n",
       "1  http://www.thewire.com/entertainment/2013/04/f...           2   \n",
       "2  https://www.amazon.com/Technology-Ventures-Ent...           3   \n",
       "3  http://www.nytimes.com/2007/11/07/movies/07ste...           8   \n",
       "4  http://arstechnica.com/business/2015/10/comcas...          53   \n",
       "\n",
       "   num_comments      author       created_at  \n",
       "0            52    ne0phyte   8/4/2016 11:52  \n",
       "1             1    vezycash  6/23/2016 22:20  \n",
       "2             1     hswarna   6/17/2016 0:01  \n",
       "3             2  walterbell   9/30/2015 4:12  \n",
       "4            22      Deinos  10/31/2015 9:48  "
      ]
     },
     "execution_count": 1,
     "metadata": {},
     "output_type": "execute_result"
    }
   ],
   "source": [
    "import pandas as pd\n",
    "\n",
    "hn = pd.read_csv('hacker_news.csv')\n",
    "hn.head(5)"
   ]
  },
  {
   "cell_type": "markdown",
   "metadata": {},
   "source": [
    "### The regular expression module\n",
    "\n",
    "When working with regular expressions, we use the term pattern to describe a regular expression that we've written. If the pattern is found within the string we're searching, we say that it has matched.\n",
    "\n",
    "As we previously learned, letters and numbers represent themselves in regular expressions. If we wanted to find the string \"and\" within another string, the regex pattern for that is simply `and`:\n",
    "\n",
    "![img](img/and.png)\n",
    "\n",
    "In the third example above, the pattern and does not match Andrew because even though a and A are the same letter, the two characters are unique.\n",
    "\n",
    "We previously used regular expressions with pandas, but Python also has a built-in module for regular expressions: The re module. This module contains a number of different functions and classes for working with regular expressions. One of the most useful functions from the re module is the re.search() function, which takes two required arguments:\n",
    "\n",
    "- The regex pattern\n",
    "- The string we want to search that pattern for"
   ]
  },
  {
   "cell_type": "code",
   "execution_count": 2,
   "metadata": {},
   "outputs": [
    {
     "name": "stdout",
     "output_type": "stream",
     "text": [
      "<re.Match object; span=(1, 4), match='and'>\n"
     ]
    }
   ],
   "source": [
    "import re\n",
    "\n",
    "m = re.search(\"and\", \"hand\")\n",
    "print(m)"
   ]
  },
  {
   "cell_type": "markdown",
   "metadata": {},
   "source": [
    "The re.search() function will return a Match object if the pattern is found anywhere within the string. If the pattern is not found, re.search() returns None:"
   ]
  },
  {
   "cell_type": "code",
   "execution_count": 3,
   "metadata": {},
   "outputs": [
    {
     "name": "stdout",
     "output_type": "stream",
     "text": [
      "None\n"
     ]
    }
   ],
   "source": [
    "m = re.search(\"and\", \"antidote\")\n",
    "print(m)"
   ]
  },
  {
   "cell_type": "markdown",
   "metadata": {},
   "source": [
    "We'll learn more about match objects later. For now, we can use the fact that the boolean value of a match object is True while None is False to easily check whether our regex matches each string in a list. We'll create a list of three simple strings to use while learning these concepts:"
   ]
  },
  {
   "cell_type": "code",
   "execution_count": 4,
   "metadata": {},
   "outputs": [
    {
     "name": "stdout",
     "output_type": "stream",
     "text": [
      "Match\n",
      "No Match\n",
      "No Match\n"
     ]
    }
   ],
   "source": [
    "string_list = [\"Julie's favorite color is Blue.\",\n",
    "               \"Keli's favorite color is Green.\",\n",
    "               \"Craig's favorite colors are blue and red.\"]\n",
    "\n",
    "pattern = \"Blue\"\n",
    "\n",
    "for s in string_list:\n",
    "    if re.search(pattern, s):\n",
    "        print(\"Match\")\n",
    "    else:\n",
    "        print(\"No Match\")"
   ]
  },
  {
   "cell_type": "markdown",
   "metadata": {},
   "source": [
    "So far, we haven't done anything with regular expressions that we couldn't do using the in keyword. The power of regular expressions comes when we use one of the special character sequences.\n",
    "\n",
    "The first of these we'll learn is called a **set**. A set allows us to specify two or more characters that can match in a single character's position.\n",
    "\n",
    "We define a set by placing the characters we want to match for in square brackets:\n",
    "\n",
    "![img](img/set.png)\n",
    "\n",
    "The regular expression above will match the strings `mend`, `send`, and `bend`.\n",
    "\n",
    "Let's look at how we can add sets to match more of our example strings from earlier:\n",
    "\n",
    "\n",
    "![img](img/table_example.png)\n",
    "\n",
    "Let's take another look at the list of strings we used earlier:"
   ]
  },
  {
   "cell_type": "code",
   "execution_count": 5,
   "metadata": {},
   "outputs": [],
   "source": [
    "string_list = [\"Julie's favorite color is Blue.\",\n",
    "               \"Keli's favorite color is Green.\",\n",
    "               \"Craig's favorite colors are blue and red.\"]"
   ]
  },
  {
   "cell_type": "markdown",
   "metadata": {},
   "source": [
    "If you look closely, you'll notice the first string contains the substring Blue with a capital letter, where the third string contains the substring blue in all lowercase. We can use the set [Bb] for the first character so that we can match both variations, and then use that to count how many times Blue or blue occur in the list:"
   ]
  },
  {
   "cell_type": "code",
   "execution_count": 6,
   "metadata": {},
   "outputs": [
    {
     "name": "stdout",
     "output_type": "stream",
     "text": [
      "2\n"
     ]
    }
   ],
   "source": [
    "blue_mentions = 0\n",
    "pattern = \"[Bb]lue\"\n",
    "\n",
    "for s in string_list:\n",
    "    if re.search(pattern, s):\n",
    "        blue_mentions += 1\n",
    "\n",
    "print(blue_mentions)"
   ]
  },
  {
   "cell_type": "markdown",
   "metadata": {},
   "source": [
    "We're going to use this technique to find out how many times Python is mentioned in the title of stories in our Hacker News dataset. We'll use a set to check for both Python with a capital 'P' and python with a lowercase 'p'."
   ]
  },
  {
   "cell_type": "code",
   "execution_count": 8,
   "metadata": {},
   "outputs": [
    {
     "data": {
      "text/plain": [
       "160"
      ]
     },
     "execution_count": 8,
     "metadata": {},
     "output_type": "execute_result"
    }
   ],
   "source": [
    "import re\n",
    "\n",
    "titles = hn[\"title\"].tolist()\n",
    "\n",
    "python_mentions = 0\n",
    "\n",
    "pattern = \"[Pp]ython\"\n",
    "\n",
    "for t in titles:\n",
    "    if re.search(pattern, t):\n",
    "        python_mentions += 1\n",
    "        \n",
    "python_mentions"
   ]
  },
  {
   "cell_type": "markdown",
   "metadata": {},
   "source": [
    "### Counting matches with pandas methods\n",
    "\n",
    "We've learned that we should avoid using loops in pandas, and that vectorized methods are often faster and require less code.\n",
    "\n",
    "In the data cleaning course, we learned that the Series.str.contains() method can be used to test whether a Series of strings match a particular regex pattern. Let's look at how we can replicate the example from the previous screen using pandas.\n",
    "\n",
    "We'll start by creating a pandas object containing our strings:"
   ]
  },
  {
   "cell_type": "code",
   "execution_count": 9,
   "metadata": {},
   "outputs": [
    {
     "name": "stdout",
     "output_type": "stream",
     "text": [
      "0             Julie's favorite color is green.\n",
      "1               Keli's favorite color is Blue.\n",
      "2    Craig's favorite colors are blue and red.\n",
      "dtype: object\n"
     ]
    }
   ],
   "source": [
    "eg_list = [\"Julie's favorite color is green.\",\n",
    "           \"Keli's favorite color is Blue.\",\n",
    "           \"Craig's favorite colors are blue and red.\"]\n",
    "\n",
    "eg_series = pd.Series(eg_list)\n",
    "print(eg_series)"
   ]
  },
  {
   "cell_type": "markdown",
   "metadata": {},
   "source": [
    "Next, we'll create our regex pattern, and use Series.str.contains() to compare to each value in our series:"
   ]
  },
  {
   "cell_type": "code",
   "execution_count": 10,
   "metadata": {},
   "outputs": [
    {
     "name": "stdout",
     "output_type": "stream",
     "text": [
      "0    False\n",
      "1     True\n",
      "2     True\n",
      "dtype: bool\n"
     ]
    }
   ],
   "source": [
    "pattern = \"[Bb]lue\"\n",
    "\n",
    "pattern_contained = eg_series.str.contains(pattern)\n",
    "print(pattern_contained)"
   ]
  },
  {
   "cell_type": "markdown",
   "metadata": {},
   "source": [
    "One of the neat things about boolean masks is that you can use the Series.sum() method to sum all the values in the boolean mask, with each True value counting as 1, and each False as 0. This means that we can easily count the number of values in the original series that matched our pattern:"
   ]
  },
  {
   "cell_type": "code",
   "execution_count": 11,
   "metadata": {},
   "outputs": [
    {
     "name": "stdout",
     "output_type": "stream",
     "text": [
      "2\n"
     ]
    }
   ],
   "source": [
    "pattern_count = pattern_contained.sum()\n",
    "print(pattern_count)"
   ]
  },
  {
   "cell_type": "markdown",
   "metadata": {},
   "source": [
    "If we wanted, we could use method chaining to do the whole operation on one line:"
   ]
  },
  {
   "cell_type": "code",
   "execution_count": 12,
   "metadata": {},
   "outputs": [
    {
     "name": "stdout",
     "output_type": "stream",
     "text": [
      "2\n"
     ]
    }
   ],
   "source": [
    "pattern_count = eg_series.str.contains(pattern).sum()\n",
    "print(pattern_count)"
   ]
  },
  {
   "cell_type": "markdown",
   "metadata": {},
   "source": [
    "Let's use this technique to replicate the analysis we did in the previous screen."
   ]
  },
  {
   "cell_type": "code",
   "execution_count": 14,
   "metadata": {},
   "outputs": [
    {
     "data": {
      "text/plain": [
       "160"
      ]
     },
     "execution_count": 14,
     "metadata": {},
     "output_type": "execute_result"
    }
   ],
   "source": [
    "pattern = '[Pp]ython'\n",
    "\n",
    "python_mentions = hn['title'].str.contains(pattern).sum()\n",
    "python_mentions"
   ]
  },
  {
   "cell_type": "markdown",
   "metadata": {},
   "source": [
    "### Using regular expressions to select data\n",
    "\n",
    "On the previous two screens, we used regular expressions to count how many titles contain Python or python. What if we wanted to view those titles?\n",
    "\n",
    "In that case, we can use the boolean array returned by Series.str.contains() to select just those rows from our series. Let's look at that in action, starting by creating the boolean array."
   ]
  },
  {
   "cell_type": "code",
   "execution_count": 15,
   "metadata": {},
   "outputs": [
    {
     "data": {
      "text/plain": [
       "0    False\n",
       "1    False\n",
       "2    False\n",
       "3    False\n",
       "4    False\n",
       "Name: title, dtype: bool"
      ]
     },
     "execution_count": 15,
     "metadata": {},
     "output_type": "execute_result"
    }
   ],
   "source": [
    "titles = hn['title']\n",
    "\n",
    "py_titles_bool = titles.str.contains(\"[Pp]ython\")\n",
    "py_titles_bool.head()"
   ]
  },
  {
   "cell_type": "markdown",
   "metadata": {},
   "source": [
    "Then, we can use that boolean array to select just the matching rows:"
   ]
  },
  {
   "cell_type": "code",
   "execution_count": 16,
   "metadata": {},
   "outputs": [
    {
     "data": {
      "text/plain": [
       "102                  From Python to Lua: Why We Switched\n",
       "103            Ubuntu 16.04 LTS to Ship Without Python 2\n",
       "144    Create a GUI Application Using Qt and Python i...\n",
       "196    How I Solved GCHQ's Xmas Card with Python and ...\n",
       "436    Unikernel Power Comes to Java, Node.js, Go, an...\n",
       "Name: title, dtype: object"
      ]
     },
     "execution_count": 16,
     "metadata": {},
     "output_type": "execute_result"
    }
   ],
   "source": [
    "py_titles = titles[py_titles_bool]\n",
    "py_titles.head()"
   ]
  },
  {
   "cell_type": "markdown",
   "metadata": {},
   "source": [
    "We can also do it in a streamlined, single line of code:"
   ]
  },
  {
   "cell_type": "code",
   "execution_count": 17,
   "metadata": {},
   "outputs": [
    {
     "data": {
      "text/plain": [
       "102                  From Python to Lua: Why We Switched\n",
       "103            Ubuntu 16.04 LTS to Ship Without Python 2\n",
       "144    Create a GUI Application Using Qt and Python i...\n",
       "196    How I Solved GCHQ's Xmas Card with Python and ...\n",
       "436    Unikernel Power Comes to Java, Node.js, Go, an...\n",
       "Name: title, dtype: object"
      ]
     },
     "execution_count": 17,
     "metadata": {},
     "output_type": "execute_result"
    }
   ],
   "source": [
    "py_titles = titles[titles.str.contains(\"[Pp]ython\")]\n",
    "py_titles.head()"
   ]
  },
  {
   "cell_type": "markdown",
   "metadata": {},
   "source": [
    "Let's use this technique to select all titles that mention the programming language Ruby, using a set to account for whether the word is capitalized or not."
   ]
  },
  {
   "cell_type": "code",
   "execution_count": 18,
   "metadata": {},
   "outputs": [],
   "source": [
    "titles = hn['title']\n",
    "\n",
    "ruby_titles = titles[titles.str.contains('[Rr]uby')]"
   ]
  },
  {
   "cell_type": "markdown",
   "metadata": {},
   "source": [
    "### Quantifiers\n",
    "\n",
    "In the data cleaning course, we learned that we could use braces ({}) to specify that a character repeats in our regular expression. For instance, if we wanted to write a pattern that matches the numbers in text from 1000 to 2999 we could write the regular expression below:\n",
    "\n",
    "![img](img/quant.png)\n",
    "\n",
    "The name for this type of regular expression syntax is called a quantifier. Quantifiers specify how many of the previous character our pattern requires, which can help us when we want to match substrings of specific lengths. As an example, we might want to match both e-mail and email. To do this, we would want to specify to match - either zero or one times.\n",
    "\n",
    "The specific type of quantifier we saw above is called a numeric quantifier. Here are the different types of numeric quantifiers we can use:\n",
    "\n",
    "![img](img/quant_table.png)\n",
    "\n",
    "You might notice that the last two examples above omit the first and last character as wildcards, in the same way that we can omit the first or last indicies when slicing lists.\n",
    "\n",
    "In addition to numeric quantifiers, there are single characters in regex that specify some common quantifiers that you're likely to use. A summary of them is below.\n",
    "\n",
    "![img](img/quant_table_2.png)\n",
    "\n",
    "On this screen, we're going to find how many titles in our dataset mention email or e-mail. To do this, we'll need to use ?, the optional quantifier, to specify that the dash character - is optional in our regular expression."
   ]
  },
  {
   "cell_type": "code",
   "execution_count": 21,
   "metadata": {},
   "outputs": [
    {
     "data": {
      "text/plain": [
       "119      Show HN: Send an email from your shell to your...\n",
       "313          Disposable emails for safe spam free shopping\n",
       "1361     Ask HN: Doing cold emails? helps us prove this...\n",
       "1750     Protect yourself from spam, bots and phishing ...\n",
       "2421                    Ashley Madison hack treating email\n",
       "                               ...                        \n",
       "18098    House panel looking into Reddit post about Cli...\n",
       "18583    Mailgen  Generates clean, responsive HTML for ...\n",
       "18847    Show HN: Crisp iOS keyboard for email and text...\n",
       "19303    Ask HN: Why big email providers don't sign the...\n",
       "19446    Tell HN: Secure email provider Riseup will run...\n",
       "Name: title, Length: 86, dtype: object"
      ]
     },
     "execution_count": 21,
     "metadata": {},
     "output_type": "execute_result"
    }
   ],
   "source": [
    "# The `titles` variable is available from\n",
    "# the previous screens\n",
    "\n",
    "email_bool = titles.str.contains(\"e-?mail\")\n",
    "\n",
    "email_count = email_bool.sum()\n",
    "\n",
    "email_titles = titles[email_bool]\n",
    "email_titles"
   ]
  },
  {
   "cell_type": "markdown",
   "metadata": {},
   "source": [
    "### Escape characters\n",
    "\n",
    "So far, we've learned how to perform simple matches with sets, and how to use quantifiers to specify when a character should repeat a certain number of times. Let's continue by looking at a more complex example.\n",
    "\n",
    "Some stories submitted to Hacker News include a topic tag in brackets, like [pdf]. Here are a few examples of story titles with these tags:\n",
    "\n",
    "```\n",
    "[video] Google Self-Driving SUV Sideswipes Bus\n",
    "New Directions in Cryptography by Diffie and Hellman (1976) [pdf]\n",
    "Wallace and Gromit  The Great Train Chase (1993) [video]\n",
    "In this screen, our task is going to be to find how many titles in our dataset have tags.\n",
    "```\n",
    "\n",
    "Our first inclination may be to create the regex [pdf]. Unfortunately, the brackets would be interpreted as a set, so our pattern would match the single characters p, d, or f.\n",
    "\n",
    "![img](img/pdf_set.png)\n",
    "\n",
    "To match the substring \"[pdf]\", we can use backslashes to **escape** both the open and closing brackets: \\[pdf\\].\n",
    "\n",
    "![img](img/pdf_scape.png)\n",
    "\n",
    "\n",
    "### Character classes\n",
    "\n",
    "The other critical part of our task of identifying how many titles have tags is knowing **how to match the characters between the brackets (like pdf and video) without knowing ahead of time what the different topic tags will be**.\n",
    "\n",
    "To match unknown characters using regular expressions, we use **character classes**. Character classes allow us to match certain groups of characters. We've actually seen two examples of character classes already:\n",
    "\n",
    "- The set notation using brackets to match any of a number of characters.\n",
    "- The range notation, which we used to match ranges of digits (like [0-9]).\n",
    "- Let's look at a summary of syntax for some of the regex character classes:\n",
    "\n",
    "![img](img/classes.png)\n",
    "\n",
    "There are two new things we can observe from this table:\n",
    "\n",
    "1. Ranges can be used for letters as well as numbers.\n",
    "2. Sets and ranges can be combined.\n",
    "\n",
    "Just like with quantifiers, there are some other common character classes which we'll use a lot.\n",
    "\n",
    "![img](img/class2.png)\n",
    "\n",
    "The one that we'll be using to match characters in tags is `\\w`, which represents any number or letter. Each character class represents a single character, so to match multiple characters (e.g. words like `video` and `pdf`), we'll need to combine them with quantifiers.\n",
    "\n",
    "In order to match word characters between our brackets, we can combine the word character class (`\\w`) with the 'one or more' quantifier (`+`), giving us a combined pattern of `\\w+`.\n",
    "\n",
    "This will match sequences like pdf, video, Python, and 2018 but **won't match a sequence containing a space or punctuation character** like PHP-DEV or XKCD Flowchart. If we wanted to match those tags as well, we could use .+; however, in this case, we're just interested in **single-word tags without special characters**.\n",
    "\n",
    "Let's quickly recap the concepts we learned in this screen:\n",
    "\n",
    "- We can use a backslash to escape characters that have special meaning in regular expressions (e.g. `\\[` will match an open bracket character).\n",
    "- Character classes let us match certain groups of characters (e.g. `\\w` will match any word character).\n",
    "- Character classes can be combined with quantifiers when we want to match different numbers of characters.\n",
    "\n",
    "We'll use these concepts to count the number of titles that contain a tag."
   ]
  },
  {
   "cell_type": "code",
   "execution_count": 22,
   "metadata": {},
   "outputs": [
    {
     "data": {
      "text/plain": [
       "444"
      ]
     },
     "execution_count": 22,
     "metadata": {},
     "output_type": "execute_result"
    }
   ],
   "source": [
    "pattern = '\\[\\w+\\]'\n",
    "\n",
    "tag_titles = titles[titles.str.contains(pattern)]\n",
    "\n",
    "tag_titles.count()"
   ]
  },
  {
   "cell_type": "markdown",
   "metadata": {},
   "source": [
    "### Accessing the matching text with capture groups\n",
    "\n",
    "In Python, a backslash followed by certain characters represents an escape sequence — like the `\\n` sequence — which we previously learned represents a new line. These escape sequences can result in unintended consequences for our regular expressions. Let's take a look at a string containing the substring `\\b`:"
   ]
  },
  {
   "cell_type": "code",
   "execution_count": 23,
   "metadata": {},
   "outputs": [
    {
     "name": "stdout",
     "output_type": "stream",
     "text": [
      "hello\b world\n"
     ]
    }
   ],
   "source": [
    "print('hello\\b world')"
   ]
  },
  {
   "cell_type": "markdown",
   "metadata": {},
   "source": [
    "The escape sequence \\b represents a backspace, so the final letter from our string is removed. The character sequence \\b has a special meaning in regular expressions (which we'll learn about later), so we need a way to write these characters without triggering the escape sequence.\n",
    "\n",
    "One way is to add an extra backslash before the \"b\":"
   ]
  },
  {
   "cell_type": "code",
   "execution_count": 24,
   "metadata": {},
   "outputs": [
    {
     "name": "stdout",
     "output_type": "stream",
     "text": [
      "hello\\b world\n"
     ]
    }
   ],
   "source": [
    "print('hello\\\\b world')"
   ]
  },
  {
   "cell_type": "markdown",
   "metadata": {},
   "source": [
    "This can make regular expressions even more difficult to read and interpret, so instead we use **raw strings**, which we denote by **prefixing our string with the `r` character**. Let's take a look at the code from above with a raw string:"
   ]
  },
  {
   "cell_type": "code",
   "execution_count": 25,
   "metadata": {},
   "outputs": [
    {
     "name": "stdout",
     "output_type": "stream",
     "text": [
      "hello\\b world\n"
     ]
    }
   ],
   "source": [
    "print(r'hello\\b world')"
   ]
  },
  {
   "cell_type": "markdown",
   "metadata": {},
   "source": [
    "We strongly recommend using raw strings for every regex you write, rather than remember which sequences are escape sequences and using raw strings selectively. That way, you'll never encounter a situation where you forget or overlook something which causes your regex to break.\n",
    "\n",
    "In the previous screen, we were able to calculate that 444 of the 20,100 Hacker News stories in our dataset contain tags. What if we wanted to find out what the text of these tags were, and how many of each are in the dataset?\n",
    "\n",
    "In order to do this, we'll need to use **capture groups**. Capture groups allow us to specify one or more groups within our match that we can access separately. In this mission, we'll learn how to use one capture group per regular expression, but in the next mission we'll learn some more complex capture group patterns.\n",
    "\n",
    "We specify capture groups using parentheses. Let's add an open and close parentheses to the pattern we wrote in the previous screen, and break down how each character in our regular expression works:\n",
    "\n",
    "![img](img/capture.png)\n",
    "\n",
    "We'll learn how to access capture groups in pandas by looking at just the first five matching titles from the previous exercise:"
   ]
  },
  {
   "cell_type": "code",
   "execution_count": 26,
   "metadata": {},
   "outputs": [
    {
     "name": "stdout",
     "output_type": "stream",
     "text": [
      "66     Analysis of 114 propaganda sources from ISIS, ...\n",
      "100    Munich Gunman Got Weapon from the Darknet [Ger...\n",
      "159         File indexing and searching for Plan 9 [pdf]\n",
      "162    Attack on Kunduz Trauma Centre, Afghanistan  I...\n",
      "195               [Beta] Speedtest.net  HTML5 Speed Test\n",
      "Name: title, dtype: object\n"
     ]
    }
   ],
   "source": [
    "tag_5 = tag_titles.head()\n",
    "print(tag_5)"
   ]
  },
  {
   "cell_type": "markdown",
   "metadata": {},
   "source": [
    "We use the `Series.str.extract()` method to extract the match within our parentheses:"
   ]
  },
  {
   "cell_type": "code",
   "execution_count": 27,
   "metadata": {},
   "outputs": [
    {
     "name": "stdout",
     "output_type": "stream",
     "text": [
      "            0\n",
      "66      [pdf]\n",
      "100  [German]\n",
      "159     [pdf]\n",
      "162     [pdf]\n",
      "195    [Beta]\n"
     ]
    }
   ],
   "source": [
    "pattern = r\"(\\[\\w+\\])\"\n",
    "tag_5_matches = tag_5.str.extract(pattern)\n",
    "print(tag_5_matches)"
   ]
  },
  {
   "cell_type": "markdown",
   "metadata": {},
   "source": [
    "We can move our parentheses inside the brackets to get just the text:"
   ]
  },
  {
   "cell_type": "code",
   "execution_count": 28,
   "metadata": {},
   "outputs": [
    {
     "name": "stdout",
     "output_type": "stream",
     "text": [
      "          0\n",
      "66      pdf\n",
      "100  German\n",
      "159     pdf\n",
      "162     pdf\n",
      "195    Beta\n"
     ]
    }
   ],
   "source": [
    "pattern = r\"\\[(\\w+)\\]\"\n",
    "tag_5_matches = tag_5.str.extract(pattern)\n",
    "print(tag_5_matches)"
   ]
  },
  {
   "cell_type": "markdown",
   "metadata": {},
   "source": [
    "If we then use Series.value_counts() we can quickly get a frequency table of the tags:"
   ]
  },
  {
   "cell_type": "code",
   "execution_count": 29,
   "metadata": {},
   "outputs": [
    {
     "name": "stdout",
     "output_type": "stream",
     "text": [
      "pdf       3\n",
      "Beta      1\n",
      "German    1\n",
      "dtype: int64\n"
     ]
    }
   ],
   "source": [
    "tag_5_freq = tag_5_matches.value_counts()\n",
    "print(tag_5_freq)"
   ]
  },
  {
   "cell_type": "markdown",
   "metadata": {},
   "source": [
    "Let's use this technique to extract all of the tags from the Hacker News titles and build a frequency table of those tags."
   ]
  },
  {
   "cell_type": "code",
   "execution_count": 31,
   "metadata": {},
   "outputs": [
    {
     "data": {
      "text/plain": [
       "pdf            276\n",
       "video          111\n",
       "2015             3\n",
       "audio            3\n",
       "2014             2\n",
       "beta             2\n",
       "slides           2\n",
       "1996             1\n",
       "map              1\n",
       "ask              1\n",
       "blank            1\n",
       "coffee           1\n",
       "comic            1\n",
       "crash            1\n",
       "detainee         1\n",
       "gif              1\n",
       "png              1\n",
       "much             1\n",
       "Ubuntu           1\n",
       "repost           1\n",
       "satire           1\n",
       "song             1\n",
       "survey           1\n",
       "transcript       1\n",
       "updated          1\n",
       "videos           1\n",
       "Videos           1\n",
       "USA              1\n",
       "2008             1\n",
       "SpaceX           1\n",
       "5                1\n",
       "ANNOUNCE         1\n",
       "Australian       1\n",
       "Benchmark        1\n",
       "Beta             1\n",
       "CSS              1\n",
       "Challenge        1\n",
       "Excerpt          1\n",
       "GOST             1\n",
       "German           1\n",
       "HBR              1\n",
       "Infograph        1\n",
       "JavaScript       1\n",
       "Live             1\n",
       "Map              1\n",
       "NSFW             1\n",
       "Petition         1\n",
       "Python           1\n",
       "React            1\n",
       "SPA              1\n",
       "Skinnywhale      1\n",
       "viz              1\n",
       "dtype: int64"
      ]
     },
     "execution_count": 31,
     "metadata": {},
     "output_type": "execute_result"
    }
   ],
   "source": [
    "pattern = r\"\\[(\\w+)\\]\"\n",
    "tags = titles.str.extract(pattern)\n",
    "\n",
    "tags.value_counts()"
   ]
  },
  {
   "cell_type": "markdown",
   "metadata": {},
   "source": [
    "### Negative character classes\n",
    "\n",
    "On the previous screens, we wrote mostly simple regular expressions. In reality, regular expressions are often complex. When creating complex regular expressions, you often need to work iteratively so you can find \"bad\" instances that match your pattern and then exclude them.\n",
    "\n",
    "In order to work faster as you build your regular expression, it can be helpful to create a function that returns the first few matching strings:"
   ]
  },
  {
   "cell_type": "code",
   "execution_count": 32,
   "metadata": {},
   "outputs": [],
   "source": [
    "def first_10_matches(pattern):\n",
    "    \"\"\"\n",
    "    Return the first 10 story titles that match\n",
    "    the provided regular expression\n",
    "    \"\"\"\n",
    "    all_matches = titles[titles.str.contains(pattern)]\n",
    "    first_10 = all_matches.head(10)\n",
    "    return first_10"
   ]
  },
  {
   "cell_type": "markdown",
   "metadata": {},
   "source": [
    "Another useful approach is to use an online tool like [RegExr](https://regexr.com/) that allows you to build regular expressions and includes syntax highlighting, instant matches, and regex syntax reference. For this screen, we'll use the first_10_matches function we just built to iteratively build a regular expression.\n",
    "\n",
    "Earlier, we counted the titles that included Python — let's write a simple regular expression to match Java (another popular language), and use our function to look at the matches:"
   ]
  },
  {
   "cell_type": "code",
   "execution_count": 33,
   "metadata": {},
   "outputs": [
    {
     "data": {
      "text/plain": [
       "267      Show HN: Hire JavaScript - Top JavaScript Talent\n",
       "436     Unikernel Power Comes to Java, Node.js, Go, an...\n",
       "580     Python integration for the Duktape Javascript ...\n",
       "811     Ask HN: Are there any projects or compilers wh...\n",
       "1023                         Pippo  Web framework in Java\n",
       "1046    If you write JavaScript tools or libraries, bu...\n",
       "1093    Rollup.js: A next-generation JavaScript module...\n",
       "1162                 V8 JavaScript Engine: V8 Release 5.4\n",
       "1195                   Proposed JavaScript Standard Style\n",
       "1314           Show HN: Design by Contract for JavaScript\n",
       "Name: title, dtype: object"
      ]
     },
     "execution_count": 33,
     "metadata": {},
     "output_type": "execute_result"
    }
   ],
   "source": [
    "first_10_matches(r\"[Jj]ava\")"
   ]
  },
  {
   "cell_type": "markdown",
   "metadata": {},
   "source": [
    "We can see that there are a number of matches that contain Java as part of the word JavaScript. We want to exclude these titles from matching so we get an accurate count.\n",
    "\n",
    "One way to do this is by using **negative character classes**. Negative character classes are character classes that match every character except a character class. Let's look at a table of the common negative character classes:\n",
    "\n",
    "![img](img/negchar.png)\n",
    "\n",
    "Let's use the negative set [^Ss] to exclude instances like JavaScript and Javascript:"
   ]
  },
  {
   "cell_type": "code",
   "execution_count": 35,
   "metadata": {},
   "outputs": [
    {
     "data": {
      "text/plain": [
       "436      Unikernel Power Comes to Java, Node.js, Go, an...\n",
       "811      Ask HN: Are there any projects or compilers wh...\n",
       "1840                     Adopting RxJava on the Airbnb App\n",
       "1972           Node.js vs. Java: Which Is Faster for APIs?\n",
       "2093                     Java EE and Microservices in 2016\n",
       "2367     Code that is valid in both PHP and Java, and p...\n",
       "2493     Ask HN: I've been a java dev for a couple of y...\n",
       "2751                 Eventsourcing for Java 0.4.0 released\n",
       "2910                 2016 JavaOne Intel Keynote  32mn Talk\n",
       "3452     What are the Differences Between Java Platform...\n",
       "4273      Ask HN: Is Bloch's Effective Java Still Current?\n",
       "4624     Oracle Discloses Critical Java Vulnerability i...\n",
       "5461                        Lambdas (in Java 8) Screencast\n",
       "5847     IntelliJ IDEA and the whole IntelliJ platform ...\n",
       "5947                                        JavaFX is dead\n",
       "6268             Oracle deprecating Java applets in Java 9\n",
       "7436     Forget Guava: 5 Google Libraries Java Develope...\n",
       "7481     Ask HN: Beside Java what languages have a stro...\n",
       "8100        Advantages of Functional Programming in Java 8\n",
       "8135     Show HN: Rogue AI Dungeon, javacript bot scrip...\n",
       "8447                  Show HN: Java multicore intelligence\n",
       "8487     Why IntelliJ IDEA is hailed as the most friend...\n",
       "8984     Ask HN: Should Learn/switch to JavaScript Prog...\n",
       "8987     Last-khajiit/vkb: Java bot for vk.com competit...\n",
       "10529             Angular 2 coming to Java, Python and PHP\n",
       "11454    Ask HN: Java or .NET for a new big enterprise ...\n",
       "11902                         The Java Deserialization Bug\n",
       "12382          Ask HN: Why does Java continue to dominate?\n",
       "12582    Java Memory Model Examples: Good, Bad and Ugly...\n",
       "12711    Oracle seeks $9.3B for Googles use of Java in ...\n",
       "13048        A high performance caching library for Java 8\n",
       "13105    Show HN: Backblaze-b2 is a simple java library...\n",
       "13150             Java Tops TIOBE's Popular-Languages List\n",
       "13170    Show HN: Tablesaw: A Java data-frame for 500M-...\n",
       "13272      Java StringBuffer and StringBuilder performance\n",
       "13620    1M Java questions have now been asked on Stack...\n",
       "13839        Ask HN: Hosting a Java Spring web application\n",
       "13843                                 Var and val in Java?\n",
       "13844               Answerz.com  Java and J2ee Programming\n",
       "13930     Java 8s new Optional type doesn't solve anything\n",
       "13934    Java 6 vs. Java 7 vs. Java 8 between 2013  201...\n",
       "15257                       Oracle and the fall of Java EE\n",
       "15868                 Java generics never cease to impress\n",
       "16023    Will you use ReactJS with a REST service inste...\n",
       "16932       Swift versus Java: the bitset performance test\n",
       "16948          Show HN: Bt  0-hassle BitTorrent for Java 8\n",
       "17579                Java Lazy Streamed Zip Implementation\n",
       "18407    Show HN: Scala idioms in Java: cases, patterns...\n",
       "19481    Show HN: Adding List Comprehension in Java - E...\n",
       "19735          Java Named Top Programming Language of 2015\n",
       "Name: title, dtype: object"
      ]
     },
     "execution_count": 35,
     "metadata": {},
     "output_type": "execute_result"
    }
   ],
   "source": [
    "pattern = r\"[Jj]ava[^sS]\"\n",
    "\n",
    "java_titles = titles[titles.str.contains(pattern)]\n",
    "java_titles"
   ]
  },
  {
   "cell_type": "markdown",
   "metadata": {},
   "source": [
    "### Word Boundaries\n",
    "\n",
    "While the negative set was effective in removing any bad matches that mention JavaScript, it also had the side-effect of removing any titles where Java occurs at the end of the string, like this title:\n",
    "\n",
    "`Pippo  Web framework in Java`\n",
    "\n",
    "This is because the negative set [^Ss] must match one character. Instances at the end of a string aren't followed by any characters, so there is no match.\n",
    "\n",
    "A different approach to take in cases like these is to use the **word boundary anchor**, specified using the syntax \\b. A word boundary matches the position between a word character and a non-word character, or a word character and the start/end of a string. The diagram below shows all the word boundaries in an example string:\n",
    "\n",
    "![img](img/bound.png)\n",
    "\n",
    "et's look at how using a word boundary changes the match from the string in the example above:"
   ]
  },
  {
   "cell_type": "code",
   "execution_count": 36,
   "metadata": {},
   "outputs": [
    {
     "name": "stdout",
     "output_type": "stream",
     "text": [
      "None\n"
     ]
    }
   ],
   "source": [
    "string = \"Sometimes people confuse JavaScript with Java\"\n",
    "pattern_1 = r\"Java[^S]\"\n",
    "\n",
    "m1 = re.search(pattern_1, string)\n",
    "print(m1)"
   ]
  },
  {
   "cell_type": "markdown",
   "metadata": {},
   "source": [
    "The regular expression returns None, because there is no substring that contains Java followed by a character that isn't S.\n",
    "\n",
    "Let's instead use word boundaries in our regular expression"
   ]
  },
  {
   "cell_type": "code",
   "execution_count": 37,
   "metadata": {},
   "outputs": [
    {
     "name": "stdout",
     "output_type": "stream",
     "text": [
      "<re.Match object; span=(41, 45), match='Java'>\n"
     ]
    }
   ],
   "source": [
    "pattern_2 = r\"\\bJava\\b\"\n",
    "\n",
    "m2 = re.search(pattern_2, string)\n",
    "print(m2)"
   ]
  },
  {
   "cell_type": "markdown",
   "metadata": {},
   "source": [
    "With the word boundary, our pattern matches the Java at the end of the string.\n",
    "\n",
    "Let's use the word boundary anchor as part of our regular expression to select the titles that mention Java."
   ]
  },
  {
   "cell_type": "code",
   "execution_count": 39,
   "metadata": {},
   "outputs": [
    {
     "data": {
      "text/plain": [
       "436      Unikernel Power Comes to Java, Node.js, Go, an...\n",
       "811      Ask HN: Are there any projects or compilers wh...\n",
       "1023                          Pippo  Web framework in Java\n",
       "1972           Node.js vs. Java: Which Is Faster for APIs?\n",
       "2093                     Java EE and Microservices in 2016\n",
       "2367     Code that is valid in both PHP and Java, and p...\n",
       "2493     Ask HN: I've been a java dev for a couple of y...\n",
       "2751                 Eventsourcing for Java 0.4.0 released\n",
       "3228                               Comparing Rust and Java\n",
       "3452     What are the Differences Between Java Platform...\n",
       "3627                     Friends don't let friends do Java\n",
       "4273      Ask HN: Is Bloch's Effective Java Still Current?\n",
       "4624     Oracle Discloses Critical Java Vulnerability i...\n",
       "5461                        Lambdas (in Java 8) Screencast\n",
       "5847     IntelliJ IDEA and the whole IntelliJ platform ...\n",
       "6268             Oracle deprecating Java applets in Java 9\n",
       "7436     Forget Guava: 5 Google Libraries Java Develope...\n",
       "7481     Ask HN: Beside Java what languages have a stro...\n",
       "7686             Insider: Oracle has lost interest in Java\n",
       "8100        Advantages of Functional Programming in Java 8\n",
       "8447                  Show HN: Java multicore intelligence\n",
       "8487     Why IntelliJ IDEA is hailed as the most friend...\n",
       "8984     Ask HN: Should Learn/switch to JavaScript Prog...\n",
       "8987     Last-khajiit/vkb: Java bot for vk.com competit...\n",
       "10529             Angular 2 coming to Java, Python and PHP\n",
       "11454    Ask HN: Java or .NET for a new big enterprise ...\n",
       "11902                         The Java Deserialization Bug\n",
       "12382          Ask HN: Why does Java continue to dominate?\n",
       "12582    Java Memory Model Examples: Good, Bad and Ugly...\n",
       "12711    Oracle seeks $9.3B for Googles use of Java in ...\n",
       "12730                              Show HN: Shazam in Java\n",
       "13048        A high performance caching library for Java 8\n",
       "13105    Show HN: Backblaze-b2 is a simple java library...\n",
       "13150             Java Tops TIOBE's Popular-Languages List\n",
       "13170    Show HN: Tablesaw: A Java data-frame for 500M-...\n",
       "13272      Java StringBuffer and StringBuilder performance\n",
       "13620    1M Java questions have now been asked on Stack...\n",
       "13839        Ask HN: Hosting a Java Spring web application\n",
       "13843                                 Var and val in Java?\n",
       "13844               Answerz.com  Java and J2ee Programming\n",
       "13930     Java 8s new Optional type doesn't solve anything\n",
       "13934    Java 6 vs. Java 7 vs. Java 8 between 2013  201...\n",
       "14393              JavaScript is immature compared to Java\n",
       "14847    Show HN: TurboRLE: Bringing Turbo Run Length E...\n",
       "15257                       Oracle and the fall of Java EE\n",
       "15868                 Java generics never cease to impress\n",
       "16023    Will you use ReactJS with a REST service inste...\n",
       "16932       Swift versus Java: the bitset performance test\n",
       "16948          Show HN: Bt  0-hassle BitTorrent for Java 8\n",
       "17458                            Super Mario clone in Java\n",
       "17579                Java Lazy Streamed Zip Implementation\n",
       "18407    Show HN: Scala idioms in Java: cases, patterns...\n",
       "19481    Show HN: Adding List Comprehension in Java - E...\n",
       "19735          Java Named Top Programming Language of 2015\n",
       "Name: title, dtype: object"
      ]
     },
     "execution_count": 39,
     "metadata": {},
     "output_type": "execute_result"
    }
   ],
   "source": [
    "pattern = r\"\\b[Jj]ava\\b\"\n",
    "\n",
    "java_titles = titles[titles.str.contains(pattern)]\n",
    "java_titles"
   ]
  },
  {
   "cell_type": "markdown",
   "metadata": {},
   "source": [
    "### Matching at the start and end of strings\n",
    "\n",
    "So far, we've used regular expressions to match substrings contained anywhere within text. There are often scenarios where we want to specifically match a pattern at the start and end of strings.\n",
    "\n",
    "On the previous screen, we learned that the **word boundary anchor** matches the space between a word character and a non-word character. More generally in regular expressions, an anchor matches something that isn't a character, as opposed to character classes which match specific characters.\n",
    "\n",
    "Other than the word boundary anchor, the other two most common anchors are the **beginning anchor** and the **end anchor**, which represent the start and the end of the string.\n",
    "\n",
    "![img](img/anchors.png)\n",
    "\n",
    "Note that the ^ character is used both as a beginning anchor and to indicate a negative set, depending on whether the character preceding it is a [ or not.\n",
    "\n",
    "Let's start with a few test cases that all contain the substring Red at different parts of the string, as well as a test function:"
   ]
  },
  {
   "cell_type": "code",
   "execution_count": 40,
   "metadata": {},
   "outputs": [],
   "source": [
    "test_cases = pd.Series([\n",
    "    \"Red Nose Day is a well-known fundraising event\",\n",
    "    \"My favorite color is Red\",\n",
    "    \"My Red Car was purchased three years ago\"\n",
    "])"
   ]
  },
  {
   "cell_type": "markdown",
   "metadata": {},
   "source": [
    "If we want to match the word Red only if it occurs at the start of the string, we add the beginning anchor to the start of our regular expression:"
   ]
  },
  {
   "cell_type": "code",
   "execution_count": 41,
   "metadata": {},
   "outputs": [
    {
     "data": {
      "text/plain": [
       "0     True\n",
       "1    False\n",
       "2    False\n",
       "dtype: bool"
      ]
     },
     "execution_count": 41,
     "metadata": {},
     "output_type": "execute_result"
    }
   ],
   "source": [
    "test_cases.str.contains(r\"^Red\")"
   ]
  },
  {
   "cell_type": "markdown",
   "metadata": {},
   "source": [
    "If we want to match the word Red only if it occurs at the end of the string, we add the end anchor to the end of our regular expression:"
   ]
  },
  {
   "cell_type": "code",
   "execution_count": 42,
   "metadata": {},
   "outputs": [
    {
     "data": {
      "text/plain": [
       "0    False\n",
       "1     True\n",
       "2    False\n",
       "dtype: bool"
      ]
     },
     "execution_count": 42,
     "metadata": {},
     "output_type": "execute_result"
    }
   ],
   "source": [
    "test_cases.str.contains(r\"Red$\")"
   ]
  },
  {
   "cell_type": "markdown",
   "metadata": {},
   "source": [
    "Let's use the beginning and end anchors to count how many titles have tags at the start versus the end of the story title in our Hacker News dataset."
   ]
  },
  {
   "cell_type": "code",
   "execution_count": 44,
   "metadata": {},
   "outputs": [
    {
     "data": {
      "text/plain": [
       "15"
      ]
     },
     "execution_count": 44,
     "metadata": {},
     "output_type": "execute_result"
    }
   ],
   "source": [
    "pattern_beginning = r\"^\\[\\w+\\]\"\n",
    "\n",
    "beginning_count = titles.str.contains(pattern_beginning).sum()\n",
    "beginning_count"
   ]
  },
  {
   "cell_type": "code",
   "execution_count": 43,
   "metadata": {},
   "outputs": [
    {
     "data": {
      "text/plain": [
       "417"
      ]
     },
     "execution_count": 43,
     "metadata": {},
     "output_type": "execute_result"
    }
   ],
   "source": [
    "pattern_ending = r\"\\[\\w+\\]$\"\n",
    "\n",
    "ending_count = titles.str.contains(pattern_ending).sum()\n",
    "ending_count"
   ]
  },
  {
   "cell_type": "markdown",
   "metadata": {},
   "source": [
    "## Challenge\n",
    "\n",
    "### Using flags to modify regex patterns\n",
    "\n",
    "Up until now, we've been using sets like [Pp] to match different capitalizations in our regular expressions. This strategy works well when there is only one character that has capitalization, but becomes cumbersome when we need to cater for multiple instances.\n",
    "\n",
    "Within the titles, there are many different formatting styles used to represent the word \"email.\" Here is a list of the variations:\n",
    "\n",
    "```\n",
    "email\n",
    "Email\n",
    "e Mail\n",
    "e mail\n",
    "E-mail\n",
    "e-mail\n",
    "eMail\n",
    "E-Mail\n",
    "EMAIL\n",
    "emails\n",
    "Emails\n",
    "E-Mails\n",
    "```\n",
    "\n",
    "To write a regular expression for this, we would need to use a set for all five letters in email, which would make our regular expression very hard to read.\n",
    "\n",
    "Instead, we can use **flags** to specify that our regular expression should ignore case.\n",
    "\n",
    "Both re.search() and the pandas regular expression methods accept an optional flags argument. This argument accepts one or more flags, which are special variables in the re module that modify the behavior of the regex interpreter.\n",
    "\n",
    "A list of all available flags is in the documentation, but by far the most common and the most useful is the `re.IGNORECASE` flag, which is also available using the alias `re.I` for convenience.\n",
    "\n",
    "When you use this flag, all uppercase letters will match their lowercase equivalents and vice versa. Let's look at an example without using the flag:"
   ]
  },
  {
   "cell_type": "code",
   "execution_count": 45,
   "metadata": {},
   "outputs": [
    {
     "data": {
      "text/plain": [
       "0     True\n",
       "1    False\n",
       "2    False\n",
       "3    False\n",
       "dtype: bool"
      ]
     },
     "execution_count": 45,
     "metadata": {},
     "output_type": "execute_result"
    }
   ],
   "source": [
    "email_tests = pd.Series(['email', 'Email', 'eMail', 'EMAIL'])\n",
    "email_tests.str.contains(r\"email\")"
   ]
  },
  {
   "cell_type": "markdown",
   "metadata": {},
   "source": [
    "Now let's look at what happens when we use the flag:"
   ]
  },
  {
   "cell_type": "code",
   "execution_count": 46,
   "metadata": {},
   "outputs": [
    {
     "data": {
      "text/plain": [
       "0    True\n",
       "1    True\n",
       "2    True\n",
       "3    True\n",
       "dtype: bool"
      ]
     },
     "execution_count": 46,
     "metadata": {},
     "output_type": "execute_result"
    }
   ],
   "source": [
    "email_tests.str.contains(r\"email\",flags=re.I)"
   ]
  },
  {
   "cell_type": "markdown",
   "metadata": {},
   "source": [
    "No matter what the capitalization is, our regular expression matches.\n",
    "\n",
    "We'll finish this mission by writing a regular expression and count the number of times that email is mentioned in story titles. You'll need to use b**oth ignorecase as well as some of the other regex components you've already learned in this mission.**"
   ]
  },
  {
   "cell_type": "code",
   "execution_count": 60,
   "metadata": {},
   "outputs": [
    {
     "name": "stdout",
     "output_type": "stream",
     "text": [
      "0       email\n",
      "1       Email\n",
      "2      e Mail\n",
      "3      e mail\n",
      "4      E-mail\n",
      "5      e-mail\n",
      "6       eMail\n",
      "7      E-Mail\n",
      "8       EMAIL\n",
      "9      emails\n",
      "10     Emails\n",
      "11    E-Mails\n",
      "dtype: object\n"
     ]
    }
   ],
   "source": [
    "email_tests = pd.Series(['email', 'Email', 'e Mail', 'e mail', 'E-mail',\n",
    "              'e-mail', 'eMail', 'E-Mail', 'EMAIL', 'emails', 'Emails',\n",
    "              'E-Mails'])\n",
    "\n",
    "pattern = r\"\\be[\\s-]?mail[s]?\\b\"\n",
    "email_men = email_tests.str.contains(pattern, flags = re.I)\n",
    "\n",
    "print(email_tests[email_men])"
   ]
  },
  {
   "cell_type": "code",
   "execution_count": 61,
   "metadata": {},
   "outputs": [
    {
     "name": "stdout",
     "output_type": "stream",
     "text": [
      "12\n"
     ]
    }
   ],
   "source": [
    "print(email_men.sum())"
   ]
  },
  {
   "cell_type": "code",
   "execution_count": 62,
   "metadata": {},
   "outputs": [
    {
     "name": "stdout",
     "output_type": "stream",
     "text": [
      "True\n"
     ]
    }
   ],
   "source": [
    "print(len(email_tests) == email_men.sum())"
   ]
  },
  {
   "cell_type": "code",
   "execution_count": 63,
   "metadata": {},
   "outputs": [
    {
     "data": {
      "text/plain": [
       "141"
      ]
     },
     "execution_count": 63,
     "metadata": {},
     "output_type": "execute_result"
    }
   ],
   "source": [
    "email_mentions = titles.str.contains(pattern, flags = re.I).sum()\n",
    "email_mentions"
   ]
  }
 ],
 "metadata": {
  "kernelspec": {
   "display_name": "Python 3",
   "language": "python",
   "name": "python3"
  },
  "language_info": {
   "codemirror_mode": {
    "name": "ipython",
    "version": 3
   },
   "file_extension": ".py",
   "mimetype": "text/x-python",
   "name": "python",
   "nbconvert_exporter": "python",
   "pygments_lexer": "ipython3",
   "version": "3.8.5"
  }
 },
 "nbformat": 4,
 "nbformat_minor": 4
}
