{
 "cells": [
  {
   "cell_type": "markdown",
   "metadata": {},
   "source": [
    "In this mission, we'll learn the basics of data cleaning with pandas as we work with laptops.csv, a CSV file containing information about 1,300 laptop computers. The first five rows of the CSV file are shown below:"
   ]
  },
  {
   "cell_type": "code",
   "execution_count": 75,
   "metadata": {},
   "outputs": [],
   "source": [
    "import pandas as pd\n",
    "import numpy as np"
   ]
  },
  {
   "cell_type": "code",
   "execution_count": 76,
   "metadata": {},
   "outputs": [
    {
     "data": {
      "text/html": [
       "<div>\n",
       "<style scoped>\n",
       "    .dataframe tbody tr th:only-of-type {\n",
       "        vertical-align: middle;\n",
       "    }\n",
       "\n",
       "    .dataframe tbody tr th {\n",
       "        vertical-align: top;\n",
       "    }\n",
       "\n",
       "    .dataframe thead th {\n",
       "        text-align: right;\n",
       "    }\n",
       "</style>\n",
       "<table border=\"1\" class=\"dataframe\">\n",
       "  <thead>\n",
       "    <tr style=\"text-align: right;\">\n",
       "      <th></th>\n",
       "      <th>Manufacturer</th>\n",
       "      <th>Model Name</th>\n",
       "      <th>Category</th>\n",
       "      <th>Screen Size</th>\n",
       "      <th>Screen</th>\n",
       "      <th>CPU</th>\n",
       "      <th>RAM</th>\n",
       "      <th>Storage</th>\n",
       "      <th>GPU</th>\n",
       "      <th>Operating System</th>\n",
       "      <th>Operating System Version</th>\n",
       "      <th>Weight</th>\n",
       "      <th>Price (Euros)</th>\n",
       "    </tr>\n",
       "  </thead>\n",
       "  <tbody>\n",
       "    <tr>\n",
       "      <th>0</th>\n",
       "      <td>Apple</td>\n",
       "      <td>MacBook Pro</td>\n",
       "      <td>Ultrabook</td>\n",
       "      <td>13.3\"</td>\n",
       "      <td>IPS Panel Retina Display 2560x1600</td>\n",
       "      <td>Intel Core i5 2.3GHz</td>\n",
       "      <td>8GB</td>\n",
       "      <td>128GB SSD</td>\n",
       "      <td>Intel Iris Plus Graphics 640</td>\n",
       "      <td>macOS</td>\n",
       "      <td>NaN</td>\n",
       "      <td>1.37kg</td>\n",
       "      <td>1339,69</td>\n",
       "    </tr>\n",
       "    <tr>\n",
       "      <th>1</th>\n",
       "      <td>Apple</td>\n",
       "      <td>Macbook Air</td>\n",
       "      <td>Ultrabook</td>\n",
       "      <td>13.3\"</td>\n",
       "      <td>1440x900</td>\n",
       "      <td>Intel Core i5 1.8GHz</td>\n",
       "      <td>8GB</td>\n",
       "      <td>128GB Flash Storage</td>\n",
       "      <td>Intel HD Graphics 6000</td>\n",
       "      <td>macOS</td>\n",
       "      <td>NaN</td>\n",
       "      <td>1.34kg</td>\n",
       "      <td>898,94</td>\n",
       "    </tr>\n",
       "    <tr>\n",
       "      <th>2</th>\n",
       "      <td>HP</td>\n",
       "      <td>250 G6</td>\n",
       "      <td>Notebook</td>\n",
       "      <td>15.6\"</td>\n",
       "      <td>Full HD 1920x1080</td>\n",
       "      <td>Intel Core i5 7200U 2.5GHz</td>\n",
       "      <td>8GB</td>\n",
       "      <td>256GB SSD</td>\n",
       "      <td>Intel HD Graphics 620</td>\n",
       "      <td>No OS</td>\n",
       "      <td>NaN</td>\n",
       "      <td>1.86kg</td>\n",
       "      <td>575,00</td>\n",
       "    </tr>\n",
       "    <tr>\n",
       "      <th>3</th>\n",
       "      <td>Apple</td>\n",
       "      <td>MacBook Pro</td>\n",
       "      <td>Ultrabook</td>\n",
       "      <td>15.4\"</td>\n",
       "      <td>IPS Panel Retina Display 2880x1800</td>\n",
       "      <td>Intel Core i7 2.7GHz</td>\n",
       "      <td>16GB</td>\n",
       "      <td>512GB SSD</td>\n",
       "      <td>AMD Radeon Pro 455</td>\n",
       "      <td>macOS</td>\n",
       "      <td>NaN</td>\n",
       "      <td>1.83kg</td>\n",
       "      <td>2537,45</td>\n",
       "    </tr>\n",
       "    <tr>\n",
       "      <th>4</th>\n",
       "      <td>Apple</td>\n",
       "      <td>MacBook Pro</td>\n",
       "      <td>Ultrabook</td>\n",
       "      <td>13.3\"</td>\n",
       "      <td>IPS Panel Retina Display 2560x1600</td>\n",
       "      <td>Intel Core i5 3.1GHz</td>\n",
       "      <td>8GB</td>\n",
       "      <td>256GB SSD</td>\n",
       "      <td>Intel Iris Plus Graphics 650</td>\n",
       "      <td>macOS</td>\n",
       "      <td>NaN</td>\n",
       "      <td>1.37kg</td>\n",
       "      <td>1803,60</td>\n",
       "    </tr>\n",
       "  </tbody>\n",
       "</table>\n",
       "</div>"
      ],
      "text/plain": [
       "  Manufacturer   Model Name   Category Screen Size  \\\n",
       "0        Apple  MacBook Pro  Ultrabook       13.3\"   \n",
       "1        Apple  Macbook Air  Ultrabook       13.3\"   \n",
       "2           HP       250 G6   Notebook       15.6\"   \n",
       "3        Apple  MacBook Pro  Ultrabook       15.4\"   \n",
       "4        Apple  MacBook Pro  Ultrabook       13.3\"   \n",
       "\n",
       "                               Screen                         CPU   RAM  \\\n",
       "0  IPS Panel Retina Display 2560x1600        Intel Core i5 2.3GHz   8GB   \n",
       "1                            1440x900        Intel Core i5 1.8GHz   8GB   \n",
       "2                   Full HD 1920x1080  Intel Core i5 7200U 2.5GHz   8GB   \n",
       "3  IPS Panel Retina Display 2880x1800        Intel Core i7 2.7GHz  16GB   \n",
       "4  IPS Panel Retina Display 2560x1600        Intel Core i5 3.1GHz   8GB   \n",
       "\n",
       "               Storage                           GPU Operating System  \\\n",
       "0            128GB SSD  Intel Iris Plus Graphics 640            macOS   \n",
       "1  128GB Flash Storage        Intel HD Graphics 6000            macOS   \n",
       "2            256GB SSD         Intel HD Graphics 620            No OS   \n",
       "3            512GB SSD            AMD Radeon Pro 455            macOS   \n",
       "4            256GB SSD  Intel Iris Plus Graphics 650            macOS   \n",
       "\n",
       "  Operating System Version  Weight Price (Euros)  \n",
       "0                      NaN  1.37kg       1339,69  \n",
       "1                      NaN  1.34kg        898,94  \n",
       "2                      NaN  1.86kg        575,00  \n",
       "3                      NaN  1.83kg       2537,45  \n",
       "4                      NaN  1.37kg       1803,60  "
      ]
     },
     "execution_count": 76,
     "metadata": {},
     "output_type": "execute_result"
    }
   ],
   "source": [
    "laptops = pd.read_csv('laptops.csv', encoding = 'Latin-1')\n",
    "laptops.head()"
   ]
  },
  {
   "cell_type": "markdown",
   "metadata": {},
   "source": [
    "### Cleaning column names"
   ]
  },
  {
   "cell_type": "code",
   "execution_count": 77,
   "metadata": {},
   "outputs": [
    {
     "name": "stdout",
     "output_type": "stream",
     "text": [
      "<class 'pandas.core.frame.DataFrame'>\n",
      "RangeIndex: 1303 entries, 0 to 1302\n",
      "Data columns (total 13 columns):\n",
      " #   Column                    Non-Null Count  Dtype \n",
      "---  ------                    --------------  ----- \n",
      " 0   Manufacturer              1303 non-null   object\n",
      " 1   Model Name                1303 non-null   object\n",
      " 2   Category                  1303 non-null   object\n",
      " 3   Screen Size               1303 non-null   object\n",
      " 4   Screen                    1303 non-null   object\n",
      " 5   CPU                       1303 non-null   object\n",
      " 6   RAM                       1303 non-null   object\n",
      " 7    Storage                  1303 non-null   object\n",
      " 8   GPU                       1303 non-null   object\n",
      " 9   Operating System          1303 non-null   object\n",
      " 10  Operating System Version  1133 non-null   object\n",
      " 11  Weight                    1303 non-null   object\n",
      " 12  Price (Euros)             1303 non-null   object\n",
      "dtypes: object(13)\n",
      "memory usage: 132.5+ KB\n"
     ]
    }
   ],
   "source": [
    "laptops.info()"
   ]
  },
  {
   "cell_type": "markdown",
   "metadata": {},
   "source": [
    "We can see that every column is represented as the object type, indicating that they are represented by strings, not numbers. Also, one of the columns, Operating System Version, has null values.\n",
    "\n",
    "The column labels have a variety of upper and lowercase letters, as well as spaces and parentheses, which will make them harder to work with and read. One noticeable issue is that the \" Storage\" column name has a space in front of it. These quirks with column labels can sometimes be hard to spot, so removing extra whitespaces from all column names will save us more work in the long run.\n",
    "\n",
    "We can access the column axis of a dataframe using the `DataFrame.columns` attribute. This returns an index object — a special type of NumPy ndarray — with the labels of each column:"
   ]
  },
  {
   "cell_type": "code",
   "execution_count": 78,
   "metadata": {},
   "outputs": [
    {
     "data": {
      "text/plain": [
       "Index(['Manufacturer', 'Model Name', 'Category', 'Screen Size', 'Screen',\n",
       "       'CPU', 'RAM', ' Storage', 'GPU', 'Operating System',\n",
       "       'Operating System Version', 'Weight', 'Price (Euros)'],\n",
       "      dtype='object')"
      ]
     },
     "execution_count": 78,
     "metadata": {},
     "output_type": "execute_result"
    }
   ],
   "source": [
    "laptops.columns"
   ]
  },
  {
   "cell_type": "markdown",
   "metadata": {},
   "source": [
    "Not only can we use the attribute to view the column labels, we can also assign new labels to the attribute:"
   ]
  },
  {
   "cell_type": "code",
   "execution_count": 79,
   "metadata": {},
   "outputs": [
    {
     "name": "stdout",
     "output_type": "stream",
     "text": [
      "Index(['A', 'B', 'C', 'D', 'E', 'F', 'G', 'H', 'I', 'J', 'K', 'L', 'M'], dtype='object')\n"
     ]
    }
   ],
   "source": [
    "laptops_test = laptops.copy()\n",
    "laptops_test.columns = ['A', 'B', 'C', 'D', 'E',\n",
    "                        'F', 'G', 'H', 'I', 'J',\n",
    "                        'K', 'L', 'M']\n",
    "print(laptops_test.columns)"
   ]
  },
  {
   "cell_type": "markdown",
   "metadata": {},
   "source": [
    "Next, let's use the DataFrame.columns attribute to remove whitespaces from the column names."
   ]
  },
  {
   "cell_type": "code",
   "execution_count": 80,
   "metadata": {},
   "outputs": [
    {
     "name": "stdout",
     "output_type": "stream",
     "text": [
      "['Manufacturer', 'Model Name', 'Category', 'Screen Size', 'Screen', 'CPU', 'RAM', 'Storage', 'GPU', 'Operating System', 'Operating System Version', 'Weight', 'Price (Euros)']\n"
     ]
    }
   ],
   "source": [
    "new_columns = []\n",
    "\n",
    "for c in laptops.columns:\n",
    "    new_columns.append( c.strip() )\n",
    "    \n",
    "print(new_columns)\n",
    "laptops.columns = new_columns"
   ]
  },
  {
   "cell_type": "markdown",
   "metadata": {},
   "source": [
    "In the last exercise, we removed whitespaces from the column names.\n",
    "However, the column labels still have a variety of upper and lowercase letters, as well as parentheses, which will make them harder to work with and read. Let's finish cleaning our column labels by:\n",
    "\n",
    "- Replacing spaces with underscores.\n",
    "- Removing special characters.\n",
    "- Making all labels lowercase.\n",
    "- Shortening any long column names.\n",
    "\n",
    "We can create a function that uses Python string methods to clean our column labels, and then again use a loop to apply that function to each label. Let's look at an example:"
   ]
  },
  {
   "cell_type": "code",
   "execution_count": 81,
   "metadata": {},
   "outputs": [
    {
     "name": "stdout",
     "output_type": "stream",
     "text": [
      "Index(['manufacturer', 'model name', 'category', 'screen size', 'screen',\n",
      "       'cpu', 'ram', 'storage', 'gpu', 'operating system',\n",
      "       'operating system version', 'weight', 'price euros'],\n",
      "      dtype='object')\n"
     ]
    }
   ],
   "source": [
    "def clean_col(col):\n",
    "    col = col.strip()\n",
    "    col = col.replace(\"(\",\"\")\n",
    "    col = col.replace(\")\",\"\")\n",
    "    col = col.lower()\n",
    "    return col\n",
    "\n",
    "new_columns = []\n",
    "for c in laptops.columns:\n",
    "    clean_c = clean_col(c)\n",
    "    new_columns.append(clean_c)\n",
    "\n",
    "laptops.columns = new_columns\n",
    "print(laptops.columns)"
   ]
  },
  {
   "cell_type": "markdown",
   "metadata": {},
   "source": [
    "### Converting string columns to numeric\n",
    "\n",
    "We observed earlier that all 13 columns have the object dtype, meaning they're stored as strings. Let's look at the first few rows of some of our columns:"
   ]
  },
  {
   "cell_type": "code",
   "execution_count": 82,
   "metadata": {},
   "outputs": [
    {
     "name": "stdout",
     "output_type": "stream",
     "text": [
      "    category screen size                              screen\n",
      "0  Ultrabook       13.3\"  IPS Panel Retina Display 2560x1600\n",
      "1  Ultrabook       13.3\"                            1440x900\n",
      "2   Notebook       15.6\"                   Full HD 1920x1080\n",
      "3  Ultrabook       15.4\"  IPS Panel Retina Display 2880x1800\n",
      "4  Ultrabook       13.3\"  IPS Panel Retina Display 2560x1600\n"
     ]
    }
   ],
   "source": [
    "print(laptops.iloc[:5,2:5])"
   ]
  },
  {
   "cell_type": "markdown",
   "metadata": {},
   "source": [
    "Of these three columns, we have three different types of text data:\n",
    "\n",
    "- `category`: Purely text data - there are no numeric values.\n",
    "- `screen_size`: Numeric data stored as text data because of the \" character.\n",
    "- `screen`: A combination of pure text data with numeric data.\n",
    "\n",
    "Because the values in the screen_size column are stored as text data, we can't sort them numerically. For instance, if we wanted to select laptops with screens 15\" or larger, we'd be unable to do so.\n",
    "\n",
    "Let's convert the screen_size column to numeric next. Whenever we convert text to numeric data, we can follow this data cleaning workflow:\n",
    "\n",
    "![Image](img/workflow.png)\n"
   ]
  },
  {
   "cell_type": "markdown",
   "metadata": {},
   "source": [
    "The first step is to explore the data. One of the best ways to do this is to use the Series.unique() method to view all of the unique values in the column:"
   ]
  },
  {
   "cell_type": "code",
   "execution_count": 83,
   "metadata": {},
   "outputs": [
    {
     "name": "stdout",
     "output_type": "stream",
     "text": [
      "object\n",
      "['13.3\"' '15.6\"' '15.4\"' '14.0\"' '12.0\"' '11.6\"' '17.3\"' '10.1\"' '13.5\"'\n",
      " '12.5\"' '13.0\"' '18.4\"' '13.9\"' '12.3\"' '17.0\"' '15.0\"' '14.1\"' '11.3\"']\n"
     ]
    }
   ],
   "source": [
    "print(laptops[\"screen size\"].dtype)\n",
    "print(laptops[\"screen size\"].unique())"
   ]
  },
  {
   "cell_type": "markdown",
   "metadata": {},
   "source": [
    "Our next step is to identify patterns and special cases. We can observe the following:\n",
    "\n",
    "- All values in this column follow the same pattern - a series of digit and period characters, followed by a quote character (\").\n",
    "- There are no special cases. Every value matches the same pattern.\n",
    "- We'll need to convert the column to a float dtype, as the int dtype won't be able to store the decimal values.\n",
    "\n",
    "Let's identify any patterns and special cases in the ram column next."
   ]
  },
  {
   "cell_type": "code",
   "execution_count": 84,
   "metadata": {},
   "outputs": [
    {
     "name": "stdout",
     "output_type": "stream",
     "text": [
      "object\n"
     ]
    },
    {
     "data": {
      "text/plain": [
       "array(['8GB', '16GB', '4GB', '2GB', '12GB', '6GB', '32GB', '24GB', '64GB'],\n",
       "      dtype=object)"
      ]
     },
     "execution_count": 84,
     "metadata": {},
     "output_type": "execute_result"
    }
   ],
   "source": [
    "print(laptops['ram'].dtype)\n",
    "unique_ram = laptops['ram'].unique()\n",
    "unique_ram"
   ]
  },
  {
   "cell_type": "markdown",
   "metadata": {},
   "source": [
    "To convert both the ram and screen_size columns to numeric dtypes, we'll have to first remove the non-digit characters.\n",
    "\n",
    "The pandas library contains dozens of vectorized string methods we can use to manipulate text data, many of which perform the same operations as Python string methods. Most vectorized string methods are available using the Series.str accessor, which means we can access them by adding str between the series name and the method name:\n",
    "\n",
    "![Image](img/ster.png)\n",
    "\n",
    "In this case, we can use the `Series.str.replace()` method, which is a vectorized version of the Python `str.replace()` method we used in the previous screen, to remove all the quote characters from every string in the screen_size column:"
   ]
  },
  {
   "cell_type": "code",
   "execution_count": 85,
   "metadata": {},
   "outputs": [
    {
     "name": "stdout",
     "output_type": "stream",
     "text": [
      "['13.3' '15.6' '15.4' '14.0' '12.0' '11.6' '17.3' '10.1' '13.5' '12.5'\n",
      " '13.0' '18.4' '13.9' '12.3' '17.0' '15.0' '14.1' '11.3']\n"
     ]
    }
   ],
   "source": [
    "laptops[\"screen size\"] = laptops[\"screen size\"].str.replace('\"','')\n",
    "\n",
    "print(laptops[\"screen size\"].unique())"
   ]
  },
  {
   "cell_type": "markdown",
   "metadata": {},
   "source": [
    "Let's remove the non-digit characters from the ram column next."
   ]
  },
  {
   "cell_type": "code",
   "execution_count": 86,
   "metadata": {},
   "outputs": [
    {
     "data": {
      "text/plain": [
       "array(['8', '16', '4', '2', '12', '6', '32', '24', '64'], dtype=object)"
      ]
     },
     "execution_count": 86,
     "metadata": {},
     "output_type": "execute_result"
    }
   ],
   "source": [
    "laptops['ram'] = laptops['ram'].str.replace('GB','')\n",
    "\n",
    "unique_ram = laptops['ram'].unique()\n",
    "unique_ram"
   ]
  },
  {
   "cell_type": "markdown",
   "metadata": {},
   "source": [
    "Now, we can **convert (or cast) the columns to a numeric dtype**.\n",
    "\n",
    "To do this, we use the Series.astype() method. To convert the column to a numeric dtype, we can use either int or float as the parameter for the method. Since the int dtype can't store decimal values, we'll convert the screen_size column to the float dtype:"
   ]
  },
  {
   "cell_type": "code",
   "execution_count": 87,
   "metadata": {},
   "outputs": [
    {
     "name": "stdout",
     "output_type": "stream",
     "text": [
      "float64\n",
      "[13.3 15.6 15.4 14.  12.  11.6 17.3 10.1 13.5 12.5 13.  18.4 13.9 12.3\n",
      " 17.  15.  14.1 11.3]\n"
     ]
    }
   ],
   "source": [
    "laptops[\"screen size\"] = laptops[\"screen size\"].astype(float)\n",
    "print(laptops[\"screen size\"].dtype)\n",
    "print(laptops[\"screen size\"].unique())"
   ]
  },
  {
   "cell_type": "code",
   "execution_count": 88,
   "metadata": {},
   "outputs": [
    {
     "data": {
      "text/plain": [
       "array([ 8, 16,  4,  2, 12,  6, 32, 24, 64])"
      ]
     },
     "execution_count": 88,
     "metadata": {},
     "output_type": "execute_result"
    }
   ],
   "source": [
    "laptops[\"ram\"] = laptops[\"ram\"].str.replace('GB','')\n",
    "\n",
    "laptops['ram'] = laptops['ram'].astype(int)\n",
    "\n",
    "laptops['ram'].unique()"
   ]
  },
  {
   "cell_type": "markdown",
   "metadata": {},
   "source": [
    "#### Renaming columns\n",
    "\n",
    "Now that we've converted our columns to numeric dtypes, the final step is to rename the column. This is an optional step, and can be useful if the non-digit values contain information that helps us understand the data.\n",
    "\n",
    "In our case, the quote characters we removed from the screen_size column denoted that the screen size was in inches.\n",
    "\n",
    "To stop us from losing information that helps us understand the data, we can use the DataFrame.rename() method to rename the column from screen_size to screen_size_inches\n",
    "\n",
    "Below, we specify the axis=1 parameter so pandas knows that we want to rename labels in the column axis:"
   ]
  },
  {
   "cell_type": "code",
   "execution_count": 89,
   "metadata": {},
   "outputs": [
    {
     "name": "stdout",
     "output_type": "stream",
     "text": [
      "manufacturer                 object\n",
      "model name                   object\n",
      "category                     object\n",
      "screen_size_inches          float64\n",
      "screen                       object\n",
      "cpu                          object\n",
      "ram                           int32\n",
      "storage                      object\n",
      "gpu                          object\n",
      "operating system             object\n",
      "operating system version     object\n",
      "weight                       object\n",
      "price euros                  object\n",
      "dtype: object\n"
     ]
    }
   ],
   "source": [
    "laptops.rename({\"screen size\": \"screen_size_inches\"}, axis=1, inplace=True)\n",
    "print(laptops.dtypes)"
   ]
  },
  {
   "cell_type": "code",
   "execution_count": 90,
   "metadata": {},
   "outputs": [
    {
     "data": {
      "text/plain": [
       "count    1303.000000\n",
       "mean        8.382195\n",
       "std         5.084665\n",
       "min         2.000000\n",
       "25%         4.000000\n",
       "50%         8.000000\n",
       "75%         8.000000\n",
       "max        64.000000\n",
       "Name: ram_gb, dtype: float64"
      ]
     },
     "execution_count": 90,
     "metadata": {},
     "output_type": "execute_result"
    }
   ],
   "source": [
    "laptops.rename({'ram': 'ram_gb'}, axis = 1, inplace = True)\n",
    "\n",
    "laptops['ram_gb'].describe()"
   ]
  },
  {
   "cell_type": "markdown",
   "metadata": {},
   "source": [
    "### Extracting values from strings\n",
    "\n",
    "Sometimes, it can be useful to extract non-numeric values from within strings. Let's look at the first five values from the gpu (graphics processing unit) column:"
   ]
  },
  {
   "cell_type": "code",
   "execution_count": 91,
   "metadata": {},
   "outputs": [
    {
     "data": {
      "text/plain": [
       "0    Intel Iris Plus Graphics 640\n",
       "1          Intel HD Graphics 6000\n",
       "2           Intel HD Graphics 620\n",
       "3              AMD Radeon Pro 455\n",
       "4    Intel Iris Plus Graphics 650\n",
       "Name: gpu, dtype: object"
      ]
     },
     "execution_count": 91,
     "metadata": {},
     "output_type": "execute_result"
    }
   ],
   "source": [
    "laptops[\"gpu\"].head()"
   ]
  },
  {
   "cell_type": "markdown",
   "metadata": {},
   "source": [
    "The information in this column seems to be a manufacturer (Intel, AMD) followed by a model name/number. Let's extract the manufacturer by itself so we can find the most common ones.\n",
    "\n",
    "Because each manufacturer is followed by a whitespace character, we can use the Series.str.split() method to extract this data:\n",
    "\n",
    "![Image](img/gpu.png)\n",
    "\n",
    "This method splits each string on the whitespace; the result is a series containing individual Python lists. Also note that we used parentheses to method chain over multiple lines, which makes our code easier to read.\n",
    "\n",
    "Just like with lists and ndarrays, we can use bracket notation to access the elements in each list in the series. With series, however, we use the str accessor followed by [] (brackets):"
   ]
  },
  {
   "cell_type": "code",
   "execution_count": 92,
   "metadata": {},
   "outputs": [
    {
     "data": {
      "text/plain": [
       "0    Intel\n",
       "1    Intel\n",
       "2    Intel\n",
       "3      AMD\n",
       "4    Intel\n",
       "Name: gpu, dtype: object"
      ]
     },
     "execution_count": 92,
     "metadata": {},
     "output_type": "execute_result"
    }
   ],
   "source": [
    "laptops[\"gpu\"].head().str.split().str[0]   # Access the first element of all rows"
   ]
  },
  {
   "cell_type": "code",
   "execution_count": 93,
   "metadata": {},
   "outputs": [
    {
     "data": {
      "text/plain": [
       "['Intel', 'Iris', 'Plus', 'Graphics', '640']"
      ]
     },
     "execution_count": 93,
     "metadata": {},
     "output_type": "execute_result"
    }
   ],
   "source": [
    "laptops[\"gpu\"].head().str.split()[0]  # Access the whole list in the 0th row"
   ]
  },
  {
   "cell_type": "markdown",
   "metadata": {},
   "source": [
    "Let's use this technique to extract the manufacturer from the cpu column as well. Here are the first 5 rows of the cpu column:"
   ]
  },
  {
   "cell_type": "code",
   "execution_count": 94,
   "metadata": {},
   "outputs": [],
   "source": [
    "laptops['cpu_manufacturer'] = (laptops['cpu']\n",
    "                                      .str.split()\n",
    "                                      .str[0])\n",
    "\n",
    "cpu_manufacturer_counts = laptops['cpu_manufacturer'].value_counts()"
   ]
  },
  {
   "cell_type": "markdown",
   "metadata": {},
   "source": [
    "### Correcting bad values\n",
    "\n",
    "#### `Series.map()`\n",
    "\n",
    "If your data has been scraped from a webpage or if there was manual data entry involved at some point, you may end up with inconsistent values. Let's look at an example from our os column:"
   ]
  },
  {
   "cell_type": "code",
   "execution_count": 95,
   "metadata": {},
   "outputs": [
    {
     "data": {
      "text/plain": [
       "Windows      1125\n",
       "No OS          66\n",
       "Linux          62\n",
       "Chrome OS      27\n",
       "macOS          13\n",
       "Mac OS          8\n",
       "Android         2\n",
       "Name: operating system, dtype: int64"
      ]
     },
     "execution_count": 95,
     "metadata": {},
     "output_type": "execute_result"
    }
   ],
   "source": [
    "laptops[\"operating system\"].value_counts()"
   ]
  },
  {
   "cell_type": "markdown",
   "metadata": {},
   "source": [
    "We can see that there are two variations of the Apple operating system — macOS — in our dataset: Mac OS and macOS. One way we can fix this is with the Series.map() method. The Series.map() method is ideal when we want to change multiple values in a column, but we'll use it now as an opportunity to learn how the method works.\n",
    "\n",
    "The most common way to use Series.map() is with a dictionary. Let's look at an example using a series of misspelled fruit:\n",
    "\n",
    "![Image](img/fruit_series.png)\n",
    "\n",
    "We'll create a dictionary called corrections and pass that dictionary as an argument to Series.map():\n",
    "\n",
    "![Image](img/map_correct.png)\n",
    "\n",
    "\n",
    "We can see that each of our corrections were made across our series. One important thing to remember with Series.map() is that if a value from your series doesn't exist as a key in your dictionary, it will convert that value to NaN. Let's see what happens when we run map one more time:\n",
    "\n",
    "![Image](img/one_more.png)\n",
    "\n",
    "\n",
    "Because none of the corrected values in our series existed as keys in our dictionary, all values became NaN! It's a very common occurence, especially when working in Jupyter notebook, where you can easily re-run cells.\n",
    "\n",
    "Let's use Series.map() to clean the values in the os column."
   ]
  },
  {
   "cell_type": "code",
   "execution_count": 96,
   "metadata": {},
   "outputs": [],
   "source": [
    "mapping_dict = {\n",
    "    'Android': 'Android',\n",
    "    'Chrome OS': 'Chrome OS',\n",
    "    'Linux': 'Linux',\n",
    "    'Mac OS': 'macOS',\n",
    "    'No OS': 'No OS',\n",
    "    'Windows': 'Windows',\n",
    "    'macOS': 'macOS'\n",
    "}\n",
    "\n",
    "\n",
    "laptops['operating system'] = laptops['operating system'].map(mapping_dict)"
   ]
  },
  {
   "cell_type": "code",
   "execution_count": 97,
   "metadata": {},
   "outputs": [
    {
     "data": {
      "text/plain": [
       "0         macOS\n",
       "1         macOS\n",
       "2         No OS\n",
       "3         macOS\n",
       "4         macOS\n",
       "         ...   \n",
       "1298    Windows\n",
       "1299    Windows\n",
       "1300    Windows\n",
       "1301    Windows\n",
       "1302    Windows\n",
       "Name: operating system, Length: 1303, dtype: object"
      ]
     },
     "execution_count": 97,
     "metadata": {},
     "output_type": "execute_result"
    }
   ],
   "source": [
    "laptops['operating system']"
   ]
  },
  {
   "cell_type": "markdown",
   "metadata": {},
   "source": [
    "### Dropping missing values\n",
    "\n",
    "In previous missions, we've talked briefly about missing values and how both NumPy and pandas represent these as null values. In pandas, null values will be indicated by either NaN or None.\n",
    "\n",
    "Recall that we can use the DataFrame.isnull() method to identify missing values, which returns a boolean dataframe. We can then use the DataFrame.sum() method to give us a count of the True values for each column:"
   ]
  },
  {
   "cell_type": "code",
   "execution_count": 98,
   "metadata": {},
   "outputs": [
    {
     "name": "stdout",
     "output_type": "stream",
     "text": [
      "manufacturer                  0\n",
      "model name                    0\n",
      "category                      0\n",
      "screen_size_inches            0\n",
      "screen                        0\n",
      "cpu                           0\n",
      "ram_gb                        0\n",
      "storage                       0\n",
      "gpu                           0\n",
      "operating system              0\n",
      "operating system version    170\n",
      "weight                        0\n",
      "price euros                   0\n",
      "cpu_manufacturer              0\n",
      "dtype: int64\n"
     ]
    }
   ],
   "source": [
    "print(laptops.isnull().sum())"
   ]
  },
  {
   "cell_type": "markdown",
   "metadata": {},
   "source": [
    "It's now clear that we have only one column with null values, os_version, which has 170 missing values.\n",
    "\n",
    "There are a few options for handling missing values:\n",
    "\n",
    "- Remove any rows that have missing values.\n",
    "- Remove any columns that have missing values.\n",
    "- Fill the missing values with some other value.\n",
    "- Leave the missing values as is.\n",
    "\n",
    "The first two options are often used to prepare data for machine learning algorithms, which are unable to be used with data that includes null values. We can use the DataFrame.dropna() method to remove or **drop rows and columns with null values**.\n",
    "\n",
    "The DataFrame.dropna() method accepts an axis parameter, which indicates whether we want to drop along the column or index axis. Let's look at an example:\n",
    "\n",
    "![Image](img/df.png)\n",
    "\n",
    "\n",
    "The default value for the axis parameter is 0, so df.dropna() returns an identical result to df.dropna(axis=0):\n",
    "\n",
    "![Image](img/drop0.png)\n",
    "\n",
    "The rows with labels x and z contain null values, so those rows are dropped. Let's look at what happens when we use axis=1 to specify the column axis:\n",
    "\n",
    "![Image](img/drop1.png)\n",
    "\n",
    "Only the column with label C contains null values, so, in this case, just one column is removed.\n"
   ]
  },
  {
   "cell_type": "markdown",
   "metadata": {},
   "source": [
    "### Filling missing values\n",
    "\n",
    "While dropping rows or columns is the easiest approach to deal with missing values, it may not always be the best approach. For example, removing a disproportionate amount of one manufacturer's laptops could change our analysis.\n",
    "\n",
    "Because of this, it's a good idea to explore the missing values in the os_version column before making a decision. We can use Series.value_counts() to explore all of the values in the column, but we'll use a parameter we haven't seen before:"
   ]
  },
  {
   "cell_type": "code",
   "execution_count": 99,
   "metadata": {},
   "outputs": [
    {
     "name": "stdout",
     "output_type": "stream",
     "text": [
      "10      1072\n",
      "NaN      170\n",
      "7         45\n",
      "10 S       8\n",
      "X          8\n",
      "Name: operating system version, dtype: int64\n"
     ]
    }
   ],
   "source": [
    "print(laptops[\"operating system version\"].value_counts(dropna=False))"
   ]
  },
  {
   "cell_type": "markdown",
   "metadata": {},
   "source": [
    "Because we set the dropna parameter to False, the result includes null values. We can see that the majority of values in the column are 10 and missing values are the next most common.\n",
    "\n",
    "Let's also explore the os column, since it's is closely related to the os_version column. We'll only look at rows in which the os_version is missing:"
   ]
  },
  {
   "cell_type": "code",
   "execution_count": 100,
   "metadata": {},
   "outputs": [
    {
     "data": {
      "text/plain": [
       "No OS        66\n",
       "Linux        62\n",
       "Chrome OS    27\n",
       "macOS        13\n",
       "Android       2\n",
       "Name: operating system, dtype: int64"
      ]
     },
     "execution_count": 100,
     "metadata": {},
     "output_type": "execute_result"
    }
   ],
   "source": [
    "os_with_null_v = laptops.loc[laptops[\"operating system version\"].isnull(),\"operating system\"]\n",
    "\n",
    "os_with_null_v.value_counts()"
   ]
  },
  {
   "cell_type": "markdown",
   "metadata": {},
   "source": [
    "Immediately, we can observe a few things:\n",
    "\n",
    "The most frequent value is \"No OS\". This is important to note because if there is no os, there shouldn't be a version defined in the os_version column.\n",
    "\n",
    "Thirteen of the laptops that come with macOS do not specify the version. **We can use our knowledge of MacOS** to confirm that os_version should be equal to X\n",
    "\n",
    "In both of these cases, we can fill the missing values to make our data more correct. For the rest of the values, it's probably best to leave them as missing so we don't remove important values.\n",
    "\n",
    "We can use assignment with a boolean comparison to perform this replacement, like below:\n",
    "\n"
   ]
  },
  {
   "cell_type": "code",
   "execution_count": 101,
   "metadata": {},
   "outputs": [],
   "source": [
    "laptops.loc[laptops[\"operating system\"] == \"macOS\", \"operating system version\"] = \"X\""
   ]
  },
  {
   "cell_type": "markdown",
   "metadata": {},
   "source": [
    "For rows with No OS values, let's replace the missing value in the os_version column with the value Version Unknown."
   ]
  },
  {
   "cell_type": "code",
   "execution_count": 102,
   "metadata": {},
   "outputs": [],
   "source": [
    "laptops.loc[laptops[\"operating system\"] == \"No OS\", \"operating system version\"] = \"Version Unknown\""
   ]
  },
  {
   "cell_type": "markdown",
   "metadata": {},
   "source": [
    "## Challenge: clean a string column\n",
    "\n",
    "We'll clean the weight column. Let's look at a sample of the data in that column:"
   ]
  },
  {
   "cell_type": "code",
   "execution_count": 103,
   "metadata": {},
   "outputs": [
    {
     "name": "stdout",
     "output_type": "stream",
     "text": [
      "0    1.37kg\n",
      "1    1.34kg\n",
      "2    1.86kg\n",
      "3    1.83kg\n",
      "4    1.37kg\n",
      "Name: weight, dtype: object\n"
     ]
    }
   ],
   "source": [
    "print(laptops[\"weight\"].head())"
   ]
  },
  {
   "cell_type": "markdown",
   "metadata": {},
   "source": [
    "Your challenge is to convert the values in this column to numeric values and save it into a csv file."
   ]
  },
  {
   "cell_type": "code",
   "execution_count": 104,
   "metadata": {},
   "outputs": [],
   "source": [
    "laptops['weight'] = laptops['weight'].str.replace('kgs','').str.replace('kg','').astype(float)\n",
    "\n",
    "# Renaming\n",
    "laptops = laptops.rename({'weight': 'weight_kg'}, axis = 1)\n",
    "\n",
    "# Saving\n",
    "laptops.to_csv('laptops_cleaned.csv', index = False)"
   ]
  },
  {
   "cell_type": "code",
   "execution_count": null,
   "metadata": {},
   "outputs": [],
   "source": []
  }
 ],
 "metadata": {
  "kernelspec": {
   "display_name": "Python 3",
   "language": "python",
   "name": "python3"
  },
  "language_info": {
   "codemirror_mode": {
    "name": "ipython",
    "version": 3
   },
   "file_extension": ".py",
   "mimetype": "text/x-python",
   "name": "python",
   "nbconvert_exporter": "python",
   "pygments_lexer": "ipython3",
   "version": "3.8.3"
  }
 },
 "nbformat": 4,
 "nbformat_minor": 4
}
