{
 "cells": [
  {
   "cell_type": "markdown",
   "metadata": {},
   "source": [
    "In this mission, we'll learn another way pandas makes working with data easier. It has many built-in methods and functions for common exploration and analysis tasks. As we learn these, we'll also explore how pandas uses many of the concepts we learned in the NumPy missions, including vectorized operations and boolean indexing.\n",
    "\n",
    "We'll continue working with a data set from Fortune magazine's Global 500 list 2017, which ranks the top 500 corporations worldwide by revenue. The data set was originally compiled here; however, we modified the original data set to make it more accessible."
   ]
  },
  {
   "cell_type": "code",
   "execution_count": 63,
   "metadata": {},
   "outputs": [
    {
     "data": {
      "text/html": [
       "<div>\n",
       "<style scoped>\n",
       "    .dataframe tbody tr th:only-of-type {\n",
       "        vertical-align: middle;\n",
       "    }\n",
       "\n",
       "    .dataframe tbody tr th {\n",
       "        vertical-align: top;\n",
       "    }\n",
       "\n",
       "    .dataframe thead th {\n",
       "        text-align: right;\n",
       "    }\n",
       "</style>\n",
       "<table border=\"1\" class=\"dataframe\">\n",
       "  <thead>\n",
       "    <tr style=\"text-align: right;\">\n",
       "      <th></th>\n",
       "      <th>rank</th>\n",
       "      <th>revenues</th>\n",
       "      <th>revenue_change</th>\n",
       "      <th>profits</th>\n",
       "      <th>assets</th>\n",
       "      <th>profit_change</th>\n",
       "      <th>ceo</th>\n",
       "      <th>industry</th>\n",
       "      <th>sector</th>\n",
       "      <th>previous_rank</th>\n",
       "      <th>country</th>\n",
       "      <th>hq_location</th>\n",
       "      <th>website</th>\n",
       "      <th>years_on_global_500_list</th>\n",
       "      <th>employees</th>\n",
       "      <th>total_stockholder_equity</th>\n",
       "    </tr>\n",
       "    <tr>\n",
       "      <th>company</th>\n",
       "      <th></th>\n",
       "      <th></th>\n",
       "      <th></th>\n",
       "      <th></th>\n",
       "      <th></th>\n",
       "      <th></th>\n",
       "      <th></th>\n",
       "      <th></th>\n",
       "      <th></th>\n",
       "      <th></th>\n",
       "      <th></th>\n",
       "      <th></th>\n",
       "      <th></th>\n",
       "      <th></th>\n",
       "      <th></th>\n",
       "      <th></th>\n",
       "    </tr>\n",
       "  </thead>\n",
       "  <tbody>\n",
       "    <tr>\n",
       "      <th>Walmart</th>\n",
       "      <td>1</td>\n",
       "      <td>485873</td>\n",
       "      <td>0.8</td>\n",
       "      <td>13643.0</td>\n",
       "      <td>198825</td>\n",
       "      <td>-7.2</td>\n",
       "      <td>C. Douglas McMillon</td>\n",
       "      <td>General Merchandisers</td>\n",
       "      <td>Retailing</td>\n",
       "      <td>1</td>\n",
       "      <td>USA</td>\n",
       "      <td>Bentonville, AR</td>\n",
       "      <td>http://www.walmart.com</td>\n",
       "      <td>23</td>\n",
       "      <td>2300000</td>\n",
       "      <td>77798</td>\n",
       "    </tr>\n",
       "    <tr>\n",
       "      <th>State Grid</th>\n",
       "      <td>2</td>\n",
       "      <td>315199</td>\n",
       "      <td>-4.4</td>\n",
       "      <td>9571.3</td>\n",
       "      <td>489838</td>\n",
       "      <td>-6.2</td>\n",
       "      <td>Kou Wei</td>\n",
       "      <td>Utilities</td>\n",
       "      <td>Energy</td>\n",
       "      <td>2</td>\n",
       "      <td>China</td>\n",
       "      <td>Beijing, China</td>\n",
       "      <td>http://www.sgcc.com.cn</td>\n",
       "      <td>17</td>\n",
       "      <td>926067</td>\n",
       "      <td>209456</td>\n",
       "    </tr>\n",
       "    <tr>\n",
       "      <th>Sinopec Group</th>\n",
       "      <td>3</td>\n",
       "      <td>267518</td>\n",
       "      <td>-9.1</td>\n",
       "      <td>1257.9</td>\n",
       "      <td>310726</td>\n",
       "      <td>-65.0</td>\n",
       "      <td>Wang Yupu</td>\n",
       "      <td>Petroleum Refining</td>\n",
       "      <td>Energy</td>\n",
       "      <td>4</td>\n",
       "      <td>China</td>\n",
       "      <td>Beijing, China</td>\n",
       "      <td>http://www.sinopec.com</td>\n",
       "      <td>19</td>\n",
       "      <td>713288</td>\n",
       "      <td>106523</td>\n",
       "    </tr>\n",
       "    <tr>\n",
       "      <th>China National Petroleum</th>\n",
       "      <td>4</td>\n",
       "      <td>262573</td>\n",
       "      <td>-12.3</td>\n",
       "      <td>1867.5</td>\n",
       "      <td>585619</td>\n",
       "      <td>-73.7</td>\n",
       "      <td>Zhang Jianhua</td>\n",
       "      <td>Petroleum Refining</td>\n",
       "      <td>Energy</td>\n",
       "      <td>3</td>\n",
       "      <td>China</td>\n",
       "      <td>Beijing, China</td>\n",
       "      <td>http://www.cnpc.com.cn</td>\n",
       "      <td>17</td>\n",
       "      <td>1512048</td>\n",
       "      <td>301893</td>\n",
       "    </tr>\n",
       "    <tr>\n",
       "      <th>Toyota Motor</th>\n",
       "      <td>5</td>\n",
       "      <td>254694</td>\n",
       "      <td>7.7</td>\n",
       "      <td>16899.3</td>\n",
       "      <td>437575</td>\n",
       "      <td>-12.3</td>\n",
       "      <td>Akio Toyoda</td>\n",
       "      <td>Motor Vehicles and Parts</td>\n",
       "      <td>Motor Vehicles &amp; Parts</td>\n",
       "      <td>8</td>\n",
       "      <td>Japan</td>\n",
       "      <td>Toyota, Japan</td>\n",
       "      <td>http://www.toyota-global.com</td>\n",
       "      <td>23</td>\n",
       "      <td>364445</td>\n",
       "      <td>157210</td>\n",
       "    </tr>\n",
       "  </tbody>\n",
       "</table>\n",
       "</div>"
      ],
      "text/plain": [
       "                          rank  revenues  revenue_change  profits  assets  \\\n",
       "company                                                                     \n",
       "Walmart                      1    485873             0.8  13643.0  198825   \n",
       "State Grid                   2    315199            -4.4   9571.3  489838   \n",
       "Sinopec Group                3    267518            -9.1   1257.9  310726   \n",
       "China National Petroleum     4    262573           -12.3   1867.5  585619   \n",
       "Toyota Motor                 5    254694             7.7  16899.3  437575   \n",
       "\n",
       "                          profit_change                  ceo  \\\n",
       "company                                                        \n",
       "Walmart                            -7.2  C. Douglas McMillon   \n",
       "State Grid                         -6.2              Kou Wei   \n",
       "Sinopec Group                     -65.0            Wang Yupu   \n",
       "China National Petroleum          -73.7        Zhang Jianhua   \n",
       "Toyota Motor                      -12.3          Akio Toyoda   \n",
       "\n",
       "                                          industry                  sector  \\\n",
       "company                                                                      \n",
       "Walmart                      General Merchandisers               Retailing   \n",
       "State Grid                               Utilities                  Energy   \n",
       "Sinopec Group                   Petroleum Refining                  Energy   \n",
       "China National Petroleum        Petroleum Refining                  Energy   \n",
       "Toyota Motor              Motor Vehicles and Parts  Motor Vehicles & Parts   \n",
       "\n",
       "                          previous_rank country      hq_location  \\\n",
       "company                                                            \n",
       "Walmart                               1     USA  Bentonville, AR   \n",
       "State Grid                            2   China   Beijing, China   \n",
       "Sinopec Group                         4   China   Beijing, China   \n",
       "China National Petroleum              3   China   Beijing, China   \n",
       "Toyota Motor                          8   Japan    Toyota, Japan   \n",
       "\n",
       "                                               website  \\\n",
       "company                                                  \n",
       "Walmart                         http://www.walmart.com   \n",
       "State Grid                      http://www.sgcc.com.cn   \n",
       "Sinopec Group                   http://www.sinopec.com   \n",
       "China National Petroleum        http://www.cnpc.com.cn   \n",
       "Toyota Motor              http://www.toyota-global.com   \n",
       "\n",
       "                          years_on_global_500_list  employees  \\\n",
       "company                                                         \n",
       "Walmart                                         23    2300000   \n",
       "State Grid                                      17     926067   \n",
       "Sinopec Group                                   19     713288   \n",
       "China National Petroleum                        17    1512048   \n",
       "Toyota Motor                                    23     364445   \n",
       "\n",
       "                          total_stockholder_equity  \n",
       "company                                             \n",
       "Walmart                                      77798  \n",
       "State Grid                                  209456  \n",
       "Sinopec Group                               106523  \n",
       "China National Petroleum                    301893  \n",
       "Toyota Motor                                157210  "
      ]
     },
     "execution_count": 63,
     "metadata": {},
     "output_type": "execute_result"
    }
   ],
   "source": [
    "import pandas as pd\n",
    "\n",
    "f500 = pd.read_csv('f500.csv', index_col = 0)\n",
    "\n",
    "f500.head()"
   ]
  },
  {
   "cell_type": "code",
   "execution_count": 64,
   "metadata": {},
   "outputs": [
    {
     "name": "stdout",
     "output_type": "stream",
     "text": [
      "<class 'pandas.core.frame.DataFrame'>\n",
      "Index: 500 entries, Walmart to AutoNation\n",
      "Data columns (total 16 columns):\n",
      " #   Column                    Non-Null Count  Dtype  \n",
      "---  ------                    --------------  -----  \n",
      " 0   rank                      500 non-null    int64  \n",
      " 1   revenues                  500 non-null    int64  \n",
      " 2   revenue_change            498 non-null    float64\n",
      " 3   profits                   499 non-null    float64\n",
      " 4   assets                    500 non-null    int64  \n",
      " 5   profit_change             436 non-null    float64\n",
      " 6   ceo                       500 non-null    object \n",
      " 7   industry                  500 non-null    object \n",
      " 8   sector                    500 non-null    object \n",
      " 9   previous_rank             500 non-null    int64  \n",
      " 10  country                   500 non-null    object \n",
      " 11  hq_location               500 non-null    object \n",
      " 12  website                   500 non-null    object \n",
      " 13  years_on_global_500_list  500 non-null    int64  \n",
      " 14  employees                 500 non-null    int64  \n",
      " 15  total_stockholder_equity  500 non-null    int64  \n",
      "dtypes: float64(3), int64(7), object(6)\n",
      "memory usage: 66.4+ KB\n"
     ]
    }
   ],
   "source": [
    "f500.info()"
   ]
  },
  {
   "cell_type": "markdown",
   "metadata": {},
   "source": [
    "### Vectorized operations\n",
    "\n",
    "Just like with NumPy, we can use any of the standard Python numeric operators with series, including:\n",
    "\n",
    "- `series_a + series_b` - Addition\n",
    "- `series_a - series_b` - Subtraction\n",
    "- `series_a * series_b` - Multiplication (this is unrelated to the multiplications used in linear algebra).\n",
    "- `series_a / series_b` - Division\n",
    "\n",
    "Recall that our f500 dataframe includes each company's current and previous year's rank on the Fortune 500 list. Let's use vectorized operations to calculate the changes in rank for each company."
   ]
  },
  {
   "cell_type": "code",
   "execution_count": 65,
   "metadata": {},
   "outputs": [],
   "source": [
    "rank_change = f500['previous_rank'] - f500['rank']"
   ]
  },
  {
   "cell_type": "markdown",
   "metadata": {},
   "source": [
    "#### Series Data Exploration Methods\n",
    "\n",
    "Like NumPy, pandas supports many descriptive stats methods that can help us answer these questions. Here are a few of the most useful ones (with links to documentation):\n",
    "\n",
    "- `Series.max()`\n",
    "- `Series.min()`\n",
    "- `Series.mean()`\n",
    "- `Series.median()`\n",
    "- `Series.mode()`\n",
    "- `Series.sum()`\n",
    "\n",
    "Let's use some of these methods to confirm the biggest increase and biggest decrease in rank!"
   ]
  },
  {
   "cell_type": "code",
   "execution_count": 66,
   "metadata": {},
   "outputs": [
    {
     "data": {
      "text/plain": [
       "226"
      ]
     },
     "execution_count": 66,
     "metadata": {},
     "output_type": "execute_result"
    }
   ],
   "source": [
    "rank_change =  f500[\"previous_rank\"] - f500[\"rank\"]\n",
    "\n",
    "rank_change_max = rank_change.max()\n",
    "rank_change_max"
   ]
  },
  {
   "cell_type": "code",
   "execution_count": 67,
   "metadata": {},
   "outputs": [
    {
     "data": {
      "text/plain": [
       "-500"
      ]
     },
     "execution_count": 67,
     "metadata": {},
     "output_type": "execute_result"
    }
   ],
   "source": [
    "rank_change_min = rank_change.min()\n",
    "rank_change_min"
   ]
  },
  {
   "cell_type": "markdown",
   "metadata": {},
   "source": [
    "#### Series Describe method"
   ]
  },
  {
   "cell_type": "code",
   "execution_count": 68,
   "metadata": {},
   "outputs": [
    {
     "data": {
      "text/plain": [
       "count    5.000000e+02\n",
       "mean     2.436323e+05\n",
       "std      4.851937e+05\n",
       "min      3.717000e+03\n",
       "25%      3.658850e+04\n",
       "50%      7.326150e+04\n",
       "75%      1.805640e+05\n",
       "max      3.473238e+06\n",
       "Name: assets, dtype: float64"
      ]
     },
     "execution_count": 68,
     "metadata": {},
     "output_type": "execute_result"
    }
   ],
   "source": [
    "assets = f500[\"assets\"]\n",
    "assets.describe()"
   ]
  },
  {
   "cell_type": "markdown",
   "metadata": {},
   "source": [
    "If we use describe() on a column that contains **non-numeric values**, we get some different statistics. Let's look at an example"
   ]
  },
  {
   "cell_type": "code",
   "execution_count": 69,
   "metadata": {},
   "outputs": [
    {
     "name": "stdout",
     "output_type": "stream",
     "text": [
      "count     500\n",
      "unique     34\n",
      "top       USA\n",
      "freq      132\n",
      "Name: country, dtype: object\n"
     ]
    }
   ],
   "source": [
    "country = f500[\"country\"]\n",
    "print(country.describe())"
   ]
  },
  {
   "cell_type": "markdown",
   "metadata": {},
   "source": [
    "The first statistic, count, is the same as for numeric columns, showing us the number of non-null values. The other three statistics are new:\n",
    "\n",
    "- `unique`: Number of unique values in the series. In this case, it tells us that there are 34 different countries represented in the Fortune 500.\n",
    "- `top`: Most common value in the series. The USA is the country that headquarters the most Fortune 500 companies.\n",
    "- `freq`: Frequency of the most common value. Exactly 132 companies from the Fortune 500 are headquartered in the USA.\n",
    "\n",
    "Let's use this method to gather more information about the rank and previous_rank series."
   ]
  },
  {
   "cell_type": "code",
   "execution_count": 70,
   "metadata": {},
   "outputs": [
    {
     "data": {
      "text/plain": [
       "count    500.000000\n",
       "mean     250.500000\n",
       "std      144.481833\n",
       "min        1.000000\n",
       "25%      125.750000\n",
       "50%      250.500000\n",
       "75%      375.250000\n",
       "max      500.000000\n",
       "Name: rank, dtype: float64"
      ]
     },
     "execution_count": 70,
     "metadata": {},
     "output_type": "execute_result"
    }
   ],
   "source": [
    "rank = f500['rank']\n",
    "rank_desc = rank.describe()\n",
    "rank_desc"
   ]
  },
  {
   "cell_type": "code",
   "execution_count": 71,
   "metadata": {},
   "outputs": [
    {
     "data": {
      "text/plain": [
       "count    500.000000\n",
       "mean     222.134000\n",
       "std      146.941961\n",
       "min        0.000000\n",
       "25%       92.750000\n",
       "50%      219.500000\n",
       "75%      347.250000\n",
       "max      500.000000\n",
       "Name: previous_rank, dtype: float64"
      ]
     },
     "execution_count": 71,
     "metadata": {},
     "output_type": "execute_result"
    }
   ],
   "source": [
    "prev_rank = f500['previous_rank']\n",
    "prev_rank_desc = prev_rank.describe()\n",
    "prev_rank_desc"
   ]
  },
  {
   "cell_type": "markdown",
   "metadata": {},
   "source": [
    "### Method chaining\n",
    "\n",
    "We learned how to use the `Series.value_counts()` method to display the counts of the unique values in a column:"
   ]
  },
  {
   "cell_type": "code",
   "execution_count": 72,
   "metadata": {},
   "outputs": [],
   "source": [
    "countries = f500[\"country\"]\n",
    "countries_counts = countries.value_counts()"
   ]
  },
  {
   "cell_type": "markdown",
   "metadata": {},
   "source": [
    "Rather than assigning the `countries` series to it's own variable, we can actually skip that step and use the method directly on the result of the column selection:"
   ]
  },
  {
   "cell_type": "code",
   "execution_count": 73,
   "metadata": {},
   "outputs": [],
   "source": [
    "countries_counts = f500[\"country\"].value_counts()"
   ]
  },
  {
   "cell_type": "markdown",
   "metadata": {},
   "source": [
    "This is called method chaining — a way to combine multiple methods together in a single line. \n",
    "\n",
    "In the last mission, we also learned how to use Series.loc[] to select just one item from a series by label. For example, in order to select just the counts for China, we would use the following line of code:"
   ]
  },
  {
   "cell_type": "code",
   "execution_count": 74,
   "metadata": {},
   "outputs": [
    {
     "name": "stdout",
     "output_type": "stream",
     "text": [
      "109\n"
     ]
    }
   ],
   "source": [
    "print(f500[\"country\"].value_counts().loc[\"China\"])"
   ]
  },
  {
   "cell_type": "markdown",
   "metadata": {},
   "source": [
    "From here, you'll see method chaining more often in our missions. When writing code, always assess whether method chaining will make your code harder to read. If it does, it's always preferable to break the code into more than one line.\n",
    "\n",
    "Let's use the `Series.value_counts()` method and `Series.loc` next to confirm the number of 0 values in the previous_rank column."
   ]
  },
  {
   "cell_type": "code",
   "execution_count": 75,
   "metadata": {},
   "outputs": [
    {
     "data": {
      "text/plain": [
       "33"
      ]
     },
     "execution_count": 75,
     "metadata": {},
     "output_type": "execute_result"
    }
   ],
   "source": [
    "zero_previous_rank = f500['previous_rank'].value_counts().loc[0]\n",
    "zero_previous_rank"
   ]
  },
  {
   "attachments": {
    "df_axis.png": {
     "image/png": "[encoded data removed]"
    }
   },
   "cell_type": "markdown",
   "metadata": {},
   "source": [
    "## DataFrame exploration methods\n",
    "\n",
    "Because series and dataframes are two distinct objects, they have their own unique methods. However, there are many times where both series and dataframe objects have a method of the same name that behaves in similar ways. Below are some examples:\n",
    "\n",
    "- `Series.max()` and `DataFrame.max()`\n",
    "- `Series.min()` and `DataFrame.min()`\n",
    "- `Series.mean()` and `DataFrame.mean()`\n",
    "- `Series.median()` and `DataFrame.median()`\n",
    "- `Series.mode()` and `DataFrame.mode()`\n",
    "- `Series.sum()` and `DataFrame.sum()`\n",
    "\n",
    "Unlike their series counterparts, **dataframe methods require an axis parameter so we know which axis to calculate across.** While you can use integers to refer to the first and second axis, pandas dataframe methods also accept the strings \"index\" and \"columns\" for the axis parameter:\n",
    "\n",
    "\n",
    "![df_axis.png](attachment:df_axis.png)"
   ]
  },
  {
   "cell_type": "markdown",
   "metadata": {},
   "source": [
    "For instance, if we wanted to find the median (middle) value for the `revenues` and `profits` columns, we could use the following code:"
   ]
  },
  {
   "cell_type": "code",
   "execution_count": 76,
   "metadata": {},
   "outputs": [
    {
     "name": "stdout",
     "output_type": "stream",
     "text": [
      "revenues    40236.0\n",
      "profits      1761.6\n",
      "dtype: float64\n"
     ]
    }
   ],
   "source": [
    "medians = f500[[\"revenues\", \"profits\"]].median(axis=0)\n",
    "# we could also use .median(axis=\"index\")\n",
    "print(medians)\n"
   ]
  },
  {
   "cell_type": "markdown",
   "metadata": {},
   "source": [
    "In fact, the **default value** for the axis parameter with these methods is `axis=0`. We could have just used the median() method without a parameter to get the same result!\n",
    "\n",
    "*Use the DataFrame.max() method to find the maximum value for only the numeric columns from f500:*"
   ]
  },
  {
   "cell_type": "code",
   "execution_count": 77,
   "metadata": {},
   "outputs": [
    {
     "data": {
      "text/plain": [
       "rank                            500.0\n",
       "revenues                     485873.0\n",
       "revenue_change                  442.3\n",
       "profits                       45687.0\n",
       "assets                      3473238.0\n",
       "profit_change                  8909.5\n",
       "previous_rank                   500.0\n",
       "years_on_global_500_list         23.0\n",
       "employees                   2300000.0\n",
       "total_stockholder_equity     301893.0\n",
       "dtype: float64"
      ]
     },
     "execution_count": 77,
     "metadata": {},
     "output_type": "execute_result"
    }
   ],
   "source": [
    "max_f500 = f500.max(numeric_only = True)\n",
    "max_f500"
   ]
  },
  {
   "cell_type": "markdown",
   "metadata": {},
   "source": [
    "### DataFrame Describe method\n",
    "\n",
    "Like series objects, dataframe objects also have a DataFrame.describe() method that we can use to explore the dataframe more quickly. We encourage you to take a look at the documentation using the link in the previous sentence to familiarize yourself with some of the differences between the two methods.\n",
    "\n",
    "One difference is that we need to manually specify if you want to see the statistics for the non-numeric columns. **By default, DataFrame.describe() will return statistics for only numeric columns. **\n",
    "\n",
    "If we wanted to get just the object columns, we need to use the include=['O'] parameter:"
   ]
  },
  {
   "cell_type": "code",
   "execution_count": 78,
   "metadata": {},
   "outputs": [
    {
     "data": {
      "text/html": [
       "<div>\n",
       "<style scoped>\n",
       "    .dataframe tbody tr th:only-of-type {\n",
       "        vertical-align: middle;\n",
       "    }\n",
       "\n",
       "    .dataframe tbody tr th {\n",
       "        vertical-align: top;\n",
       "    }\n",
       "\n",
       "    .dataframe thead th {\n",
       "        text-align: right;\n",
       "    }\n",
       "</style>\n",
       "<table border=\"1\" class=\"dataframe\">\n",
       "  <thead>\n",
       "    <tr style=\"text-align: right;\">\n",
       "      <th></th>\n",
       "      <th>rank</th>\n",
       "      <th>revenues</th>\n",
       "      <th>revenue_change</th>\n",
       "      <th>profits</th>\n",
       "      <th>assets</th>\n",
       "      <th>profit_change</th>\n",
       "      <th>previous_rank</th>\n",
       "      <th>years_on_global_500_list</th>\n",
       "      <th>employees</th>\n",
       "      <th>total_stockholder_equity</th>\n",
       "    </tr>\n",
       "  </thead>\n",
       "  <tbody>\n",
       "    <tr>\n",
       "      <th>count</th>\n",
       "      <td>500.000000</td>\n",
       "      <td>500.000000</td>\n",
       "      <td>498.000000</td>\n",
       "      <td>499.000000</td>\n",
       "      <td>5.000000e+02</td>\n",
       "      <td>436.000000</td>\n",
       "      <td>500.000000</td>\n",
       "      <td>500.000000</td>\n",
       "      <td>5.000000e+02</td>\n",
       "      <td>500.000000</td>\n",
       "    </tr>\n",
       "    <tr>\n",
       "      <th>mean</th>\n",
       "      <td>250.500000</td>\n",
       "      <td>55416.358000</td>\n",
       "      <td>4.538353</td>\n",
       "      <td>3055.203206</td>\n",
       "      <td>2.436323e+05</td>\n",
       "      <td>24.152752</td>\n",
       "      <td>222.134000</td>\n",
       "      <td>15.036000</td>\n",
       "      <td>1.339983e+05</td>\n",
       "      <td>30628.076000</td>\n",
       "    </tr>\n",
       "    <tr>\n",
       "      <th>std</th>\n",
       "      <td>144.481833</td>\n",
       "      <td>45725.478963</td>\n",
       "      <td>28.549067</td>\n",
       "      <td>5171.981071</td>\n",
       "      <td>4.851937e+05</td>\n",
       "      <td>437.509566</td>\n",
       "      <td>146.941961</td>\n",
       "      <td>7.932752</td>\n",
       "      <td>1.700878e+05</td>\n",
       "      <td>43642.576833</td>\n",
       "    </tr>\n",
       "    <tr>\n",
       "      <th>min</th>\n",
       "      <td>1.000000</td>\n",
       "      <td>21609.000000</td>\n",
       "      <td>-67.300000</td>\n",
       "      <td>-13038.000000</td>\n",
       "      <td>3.717000e+03</td>\n",
       "      <td>-793.700000</td>\n",
       "      <td>0.000000</td>\n",
       "      <td>1.000000</td>\n",
       "      <td>3.280000e+02</td>\n",
       "      <td>-59909.000000</td>\n",
       "    </tr>\n",
       "    <tr>\n",
       "      <th>25%</th>\n",
       "      <td>125.750000</td>\n",
       "      <td>29003.000000</td>\n",
       "      <td>-5.900000</td>\n",
       "      <td>556.950000</td>\n",
       "      <td>3.658850e+04</td>\n",
       "      <td>-22.775000</td>\n",
       "      <td>92.750000</td>\n",
       "      <td>7.000000</td>\n",
       "      <td>4.293250e+04</td>\n",
       "      <td>7553.750000</td>\n",
       "    </tr>\n",
       "    <tr>\n",
       "      <th>50%</th>\n",
       "      <td>250.500000</td>\n",
       "      <td>40236.000000</td>\n",
       "      <td>0.550000</td>\n",
       "      <td>1761.600000</td>\n",
       "      <td>7.326150e+04</td>\n",
       "      <td>-0.350000</td>\n",
       "      <td>219.500000</td>\n",
       "      <td>17.000000</td>\n",
       "      <td>9.291050e+04</td>\n",
       "      <td>15809.500000</td>\n",
       "    </tr>\n",
       "    <tr>\n",
       "      <th>75%</th>\n",
       "      <td>375.250000</td>\n",
       "      <td>63926.750000</td>\n",
       "      <td>6.975000</td>\n",
       "      <td>3954.000000</td>\n",
       "      <td>1.805640e+05</td>\n",
       "      <td>17.700000</td>\n",
       "      <td>347.250000</td>\n",
       "      <td>23.000000</td>\n",
       "      <td>1.689172e+05</td>\n",
       "      <td>37828.500000</td>\n",
       "    </tr>\n",
       "    <tr>\n",
       "      <th>max</th>\n",
       "      <td>500.000000</td>\n",
       "      <td>485873.000000</td>\n",
       "      <td>442.300000</td>\n",
       "      <td>45687.000000</td>\n",
       "      <td>3.473238e+06</td>\n",
       "      <td>8909.500000</td>\n",
       "      <td>500.000000</td>\n",
       "      <td>23.000000</td>\n",
       "      <td>2.300000e+06</td>\n",
       "      <td>301893.000000</td>\n",
       "    </tr>\n",
       "  </tbody>\n",
       "</table>\n",
       "</div>"
      ],
      "text/plain": [
       "             rank       revenues  revenue_change       profits        assets  \\\n",
       "count  500.000000     500.000000      498.000000    499.000000  5.000000e+02   \n",
       "mean   250.500000   55416.358000        4.538353   3055.203206  2.436323e+05   \n",
       "std    144.481833   45725.478963       28.549067   5171.981071  4.851937e+05   \n",
       "min      1.000000   21609.000000      -67.300000 -13038.000000  3.717000e+03   \n",
       "25%    125.750000   29003.000000       -5.900000    556.950000  3.658850e+04   \n",
       "50%    250.500000   40236.000000        0.550000   1761.600000  7.326150e+04   \n",
       "75%    375.250000   63926.750000        6.975000   3954.000000  1.805640e+05   \n",
       "max    500.000000  485873.000000      442.300000  45687.000000  3.473238e+06   \n",
       "\n",
       "       profit_change  previous_rank  years_on_global_500_list     employees  \\\n",
       "count     436.000000     500.000000                500.000000  5.000000e+02   \n",
       "mean       24.152752     222.134000                 15.036000  1.339983e+05   \n",
       "std       437.509566     146.941961                  7.932752  1.700878e+05   \n",
       "min      -793.700000       0.000000                  1.000000  3.280000e+02   \n",
       "25%       -22.775000      92.750000                  7.000000  4.293250e+04   \n",
       "50%        -0.350000     219.500000                 17.000000  9.291050e+04   \n",
       "75%        17.700000     347.250000                 23.000000  1.689172e+05   \n",
       "max      8909.500000     500.000000                 23.000000  2.300000e+06   \n",
       "\n",
       "       total_stockholder_equity  \n",
       "count                500.000000  \n",
       "mean               30628.076000  \n",
       "std                43642.576833  \n",
       "min               -59909.000000  \n",
       "25%                 7553.750000  \n",
       "50%                15809.500000  \n",
       "75%                37828.500000  \n",
       "max               301893.000000  "
      ]
     },
     "execution_count": 78,
     "metadata": {},
     "output_type": "execute_result"
    }
   ],
   "source": [
    "f500.describe()"
   ]
  },
  {
   "cell_type": "code",
   "execution_count": 79,
   "metadata": {},
   "outputs": [
    {
     "data": {
      "text/html": [
       "<div>\n",
       "<style scoped>\n",
       "    .dataframe tbody tr th:only-of-type {\n",
       "        vertical-align: middle;\n",
       "    }\n",
       "\n",
       "    .dataframe tbody tr th {\n",
       "        vertical-align: top;\n",
       "    }\n",
       "\n",
       "    .dataframe thead th {\n",
       "        text-align: right;\n",
       "    }\n",
       "</style>\n",
       "<table border=\"1\" class=\"dataframe\">\n",
       "  <thead>\n",
       "    <tr style=\"text-align: right;\">\n",
       "      <th></th>\n",
       "      <th>ceo</th>\n",
       "      <th>industry</th>\n",
       "      <th>sector</th>\n",
       "      <th>country</th>\n",
       "      <th>hq_location</th>\n",
       "      <th>website</th>\n",
       "    </tr>\n",
       "  </thead>\n",
       "  <tbody>\n",
       "    <tr>\n",
       "      <th>count</th>\n",
       "      <td>500</td>\n",
       "      <td>500</td>\n",
       "      <td>500</td>\n",
       "      <td>500</td>\n",
       "      <td>500</td>\n",
       "      <td>500</td>\n",
       "    </tr>\n",
       "    <tr>\n",
       "      <th>unique</th>\n",
       "      <td>500</td>\n",
       "      <td>58</td>\n",
       "      <td>21</td>\n",
       "      <td>34</td>\n",
       "      <td>235</td>\n",
       "      <td>500</td>\n",
       "    </tr>\n",
       "    <tr>\n",
       "      <th>top</th>\n",
       "      <td>Inge G. Thulin</td>\n",
       "      <td>Banks: Commercial and Savings</td>\n",
       "      <td>Financials</td>\n",
       "      <td>USA</td>\n",
       "      <td>Beijing, China</td>\n",
       "      <td>http://www.yangofinance.com</td>\n",
       "    </tr>\n",
       "    <tr>\n",
       "      <th>freq</th>\n",
       "      <td>1</td>\n",
       "      <td>51</td>\n",
       "      <td>118</td>\n",
       "      <td>132</td>\n",
       "      <td>56</td>\n",
       "      <td>1</td>\n",
       "    </tr>\n",
       "  </tbody>\n",
       "</table>\n",
       "</div>"
      ],
      "text/plain": [
       "                   ceo                       industry      sector country  \\\n",
       "count              500                            500         500     500   \n",
       "unique             500                             58          21      34   \n",
       "top     Inge G. Thulin  Banks: Commercial and Savings  Financials     USA   \n",
       "freq                 1                             51         118     132   \n",
       "\n",
       "           hq_location                      website  \n",
       "count              500                          500  \n",
       "unique             235                          500  \n",
       "top     Beijing, China  http://www.yangofinance.com  \n",
       "freq                56                            1  "
      ]
     },
     "execution_count": 79,
     "metadata": {},
     "output_type": "execute_result"
    }
   ],
   "source": [
    "f500.describe(include=['O'])"
   ]
  },
  {
   "cell_type": "markdown",
   "metadata": {},
   "source": [
    "### Assignment with pandas\n",
    "\n",
    "Let's start by learning assignment, starting with the following example:"
   ]
  },
  {
   "cell_type": "code",
   "execution_count": 80,
   "metadata": {},
   "outputs": [
    {
     "name": "stdout",
     "output_type": "stream",
     "text": [
      "                          rank  revenues\n",
      "company                                 \n",
      "Walmart                      1    485873\n",
      "State Grid                   2    315199\n",
      "Sinopec Group                3    267518\n",
      "China National Petroleum     4    262573\n",
      "Toyota Motor                 5    254694\n"
     ]
    }
   ],
   "source": [
    "top5_rank_revenue = f500[[\"rank\", \"revenues\"]].head()\n",
    "print(top5_rank_revenue)"
   ]
  },
  {
   "cell_type": "code",
   "execution_count": 81,
   "metadata": {},
   "outputs": [
    {
     "name": "stdout",
     "output_type": "stream",
     "text": [
      "                          rank  revenues\n",
      "company                                 \n",
      "Walmart                      1         0\n",
      "State Grid                   2         0\n",
      "Sinopec Group                3         0\n",
      "China National Petroleum     4         0\n",
      "Toyota Motor                 5         0\n"
     ]
    }
   ],
   "source": [
    "top5_rank_revenue[\"revenues\"] = 0\n",
    "print(top5_rank_revenue)"
   ]
  },
  {
   "cell_type": "markdown",
   "metadata": {},
   "source": [
    "Just like in NumPy, the same techniques that we use to select data could be used for assignment. When we selected a whole column by label and used assignment, we assigned the value to every item in that column.\n",
    "\n",
    "\n",
    "By providing labels for both axes, we can assign them to a single value within our dataframe."
   ]
  },
  {
   "cell_type": "code",
   "execution_count": 82,
   "metadata": {},
   "outputs": [
    {
     "name": "stdout",
     "output_type": "stream",
     "text": [
      "                          rank  revenues\n",
      "company                                 \n",
      "Walmart                      1         0\n",
      "State Grid                   2         0\n",
      "Sinopec Group                3       999\n",
      "China National Petroleum     4         0\n",
      "Toyota Motor                 5         0\n"
     ]
    }
   ],
   "source": [
    "top5_rank_revenue.loc[\"Sinopec Group\", \"revenues\"] = 999\n",
    "\n",
    "print(top5_rank_revenue)"
   ]
  },
  {
   "attachments": {
    "df_numbers.png": {
     "image/png": "[encoded data removed]"
    }
   },
   "cell_type": "markdown",
   "metadata": {},
   "source": [
    "### Using boolean indexing with pandas objects\n",
    "\n",
    "While it's helpful to be able to replace specific values when we know the row label ahead of time, this can be cumbersome when we need to replace many values. Instead, we can use boolean indexing to change all rows that meet the same criteria, just like we did with NumPy.\n",
    "\n",
    "Let's look at two examples of how boolean indexing works in pandas. For our example, we'll work with this dataframe of people and their favorite numbers:\n",
    "\n",
    "![df_numbers.png](attachment:df_numbers.png)"
   ]
  },
  {
   "attachments": {
    "df_bool_ind.png": {
     "image/png": "[encoded data removed]"
    }
   },
   "cell_type": "markdown",
   "metadata": {},
   "source": [
    "Let's check which people have a favorite number of 8. First, we perform a vectorized boolean operation that produces a boolean series:\n",
    "\n",
    "![df_bool_ind.png](attachment:df_bool_ind.png)"
   ]
  },
  {
   "attachments": {
    "df_bool_ind_2.png": {
     "image/png": "[encoded data removed]"
    }
   },
   "cell_type": "markdown",
   "metadata": {},
   "source": [
    "We can use that series to index the whole dataframe, leaving us with the rows that correspond only to people whose favorite number is 8:\n",
    "\n",
    "![df_bool_ind_2.png](attachment:df_bool_ind_2.png)\n"
   ]
  },
  {
   "attachments": {
    "df_bool_ind_3.png": {
     "image/png": "[encoded data removed]"
    }
   },
   "cell_type": "markdown",
   "metadata": {},
   "source": [
    "Note that we didn't use loc[]. This is because boolean arrays use the same shortcut as slices to select along the index axis. We can also use the boolean series to index just one column of the dataframe:\n",
    "\n",
    "![df_bool_ind_3.png](attachment:df_bool_ind_3.png)\n",
    "\n",
    "In this case, we used df.loc[] to specify both axes.\n",
    "\n",
    "Next, let's use boolean indexing to identify companies belonging to the \"Motor Vehicles and Parts\" industry in our Fortune 500 dataset."
   ]
  },
  {
   "cell_type": "code",
   "execution_count": 83,
   "metadata": {},
   "outputs": [],
   "source": [
    "motor_bool = f500['industry'] == 'Motor Vehicles and Parts'\n",
    "\n",
    "motor_countries = f500.loc[motor_bool, 'country']"
   ]
  },
  {
   "cell_type": "markdown",
   "metadata": {},
   "source": [
    "### Using boolean arrays to assign values\n",
    "\n",
    "Let's look at an example of how we combine these two operations together. For our example, we'll change the 'Motor Vehicles & Parts' values in the sector column to 'Motor Vehicles and Parts'– i.e. we will change the ampersand (&) to and.\n",
    "\n",
    "First, we create a boolean series by comparing the values in the sector column to `'Motor Vehicles & Parts'`\n"
   ]
  },
  {
   "cell_type": "code",
   "execution_count": 84,
   "metadata": {},
   "outputs": [],
   "source": [
    "ampersand_bool = f500[\"sector\"] == \"Motor Vehicles & Parts\""
   ]
  },
  {
   "cell_type": "markdown",
   "metadata": {},
   "source": [
    "Next, we use that boolean series and the string `\"sector\"` to perform the assignment"
   ]
  },
  {
   "cell_type": "code",
   "execution_count": 85,
   "metadata": {},
   "outputs": [],
   "source": [
    "f500.loc[ampersand_bool,\"sector\"] = \"Motor Vehicles and Parts\""
   ]
  },
  {
   "cell_type": "markdown",
   "metadata": {},
   "source": [
    "Just like we saw in the NumPy mission earlier in this course, we can remove the intermediate step of creating a boolean series, and combine everything into one line. This is the most common way to write pandas code to perform assignment using boolean arrays:"
   ]
  },
  {
   "cell_type": "code",
   "execution_count": 86,
   "metadata": {},
   "outputs": [],
   "source": [
    "f500.loc[f500[\"sector\"] == \"Motor Vehicles & Parts\",\"sector\"] = \"Motor Vehicles and Parts\""
   ]
  },
  {
   "cell_type": "markdown",
   "metadata": {},
   "source": [
    "Now we can follow this pattern to replace the values in the previous_rank column. We'll replace these values with np.nan. Just like in NumPy, np.nan is used in pandas to represent values that can't be represented numerically, most commonly missing values."
   ]
  },
  {
   "cell_type": "code",
   "execution_count": 87,
   "metadata": {},
   "outputs": [
    {
     "data": {
      "text/plain": [
       "0      33\n",
       "159     1\n",
       "147     1\n",
       "148     1\n",
       "149     1\n",
       "Name: previous_rank, dtype: int64"
      ]
     },
     "execution_count": 87,
     "metadata": {},
     "output_type": "execute_result"
    }
   ],
   "source": [
    "f500[\"previous_rank\"].value_counts(dropna=False).head()"
   ]
  },
  {
   "cell_type": "code",
   "execution_count": 88,
   "metadata": {},
   "outputs": [],
   "source": [
    "import numpy as np \n",
    "\n",
    "f500.loc[f500['previous_rank'] == 0, 'previous_rank'] = np.nan"
   ]
  },
  {
   "cell_type": "code",
   "execution_count": 90,
   "metadata": {},
   "outputs": [
    {
     "data": {
      "text/plain": [
       "NaN      33\n",
       "471.0     1\n",
       "234.0     1\n",
       "125.0     1\n",
       "166.0     1\n",
       "Name: previous_rank, dtype: int64"
      ]
     },
     "execution_count": 90,
     "metadata": {},
     "output_type": "execute_result"
    }
   ],
   "source": [
    "f500['previous_rank'].value_counts(dropna = False).head()\n",
    "\n",
    "# Now there are NaN's where there were 0's"
   ]
  },
  {
   "cell_type": "markdown",
   "metadata": {},
   "source": [
    "### Challenge: Top Performers by Country\n",
    "\n",
    "In this challenge, we'll calculate a specific statistic or attribute of each of the two most common countries from our f500 dataframe. We've identified the two most common countries using the code below:"
   ]
  },
  {
   "cell_type": "code",
   "execution_count": 91,
   "metadata": {},
   "outputs": [
    {
     "name": "stdout",
     "output_type": "stream",
     "text": [
      "USA      132\n",
      "China    109\n",
      "Name: country, dtype: int64\n"
     ]
    }
   ],
   "source": [
    "top_2_countries = f500[\"country\"].value_counts().head(2)\n",
    "print(top_2_countries)"
   ]
  },
  {
   "cell_type": "markdown",
   "metadata": {},
   "source": [
    "#### 1st Challenge:\n",
    "\n",
    "Create a series, `industry_usa`, containing counts of the two most common values in the industry column for companies headquartered in the USA."
   ]
  },
  {
   "cell_type": "code",
   "execution_count": 94,
   "metadata": {},
   "outputs": [
    {
     "data": {
      "text/plain": [
       "Banks: Commercial and Savings               8\n",
       "Insurance: Property and Casualty (Stock)    7\n",
       "Name: industry, dtype: int64"
      ]
     },
     "execution_count": 94,
     "metadata": {},
     "output_type": "execute_result"
    }
   ],
   "source": [
    "f500[f500['country'] == 'USA']['industry'].value_counts().head(2)"
   ]
  },
  {
   "cell_type": "markdown",
   "metadata": {},
   "source": [
    "#### 2dn Challenge:\n",
    "\n",
    "Create a series, `sector_china`, containing counts of the three most common values in the sector column for companies headquartered in the China."
   ]
  },
  {
   "cell_type": "code",
   "execution_count": 95,
   "metadata": {},
   "outputs": [
    {
     "data": {
      "text/plain": [
       "Financials     25\n",
       "Energy         22\n",
       "Wholesalers     9\n",
       "Name: sector, dtype: int64"
      ]
     },
     "execution_count": 95,
     "metadata": {},
     "output_type": "execute_result"
    }
   ],
   "source": [
    "f500[f500['country'] == 'China']['sector'].value_counts().head(3)"
   ]
  }
 ],
 "metadata": {
  "kernelspec": {
   "display_name": "Python 3",
   "language": "python",
   "name": "python3"
  },
  "language_info": {
   "codemirror_mode": {
    "name": "ipython",
    "version": 3
   },
   "file_extension": ".py",
   "mimetype": "text/x-python",
   "name": "python",
   "nbconvert_exporter": "python",
   "pygments_lexer": "ipython3",
   "version": "3.8.5"
  }
 },
 "nbformat": 4,
 "nbformat_minor": 4
}
